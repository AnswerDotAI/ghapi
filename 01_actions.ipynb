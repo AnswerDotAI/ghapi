{
 "cells": [
  {
   "cell_type": "code",
   "execution_count": null,
   "metadata": {},
   "outputs": [],
   "source": [
    "#default_exp actions"
   ]
  },
  {
   "cell_type": "markdown",
   "metadata": {},
   "source": [
    "# GitHub Actions\n",
    "\n",
    "> Functionality for helping to create GitHub Actions workflows in Python"
   ]
  },
  {
   "cell_type": "code",
   "execution_count": null,
   "metadata": {},
   "outputs": [],
   "source": [
    "#export\n",
    "from fastcore.utils import *\n",
    "from fastcore.foundation import *\n",
    "from fastcore.meta import *\n",
    "from ghapi.core import *\n",
    "\n",
    "from enum import Enum"
   ]
  },
  {
   "cell_type": "code",
   "execution_count": null,
   "metadata": {},
   "outputs": [],
   "source": [
    "#hide\n",
    "from nbdev import *"
   ]
  },
  {
   "cell_type": "markdown",
   "metadata": {},
   "source": [
    "## Workflow setup"
   ]
  },
  {
   "cell_type": "markdown",
   "metadata": {},
   "source": [
    "In your GitHub Actions workflow, include the following in your `run` step:\n",
    "\n",
    "```bash\n",
    "env:\n",
    "  CONTEXT_GITHUB: ${{ toJson(github) }}\n",
    "```\n",
    "\n",
    "This stores the full [github context](https://docs.github.com/en/free-pro-team@latest/actions/reference/context-and-expression-syntax-for-github-actions#github-context), which includes information such as the name of the current workflow being run, the GitHub access token, and so forth.\n",
    "\n",
    "As well as the `github` context, you can do that same thing for any of the other GitHub Actions contexts, which are:\n",
    "\n",
    "`github` `env` `job` `steps` `runner` `secrets` `strategy` `matrix` `needs`\n",
    "\n",
    "For instance, for the [needs](https://docs.github.com/en/free-pro-team@latest/actions/reference/workflow-syntax-for-github-actions#jobsjob_idneeds) context, information about previous jobs specified in your `needs` clause, add this underneath your `CONTEXT_GITHUB` line:\n",
    "\n",
    "```bash\n",
    "  CONTEXT_NEEDS: ${{ toJson(needs) }}\n",
    "```\n",
    "\n",
    "Note that here's no harm having entries that are not used -- GitHub Actions will set them to an empty dictionary by default."
   ]
  },
  {
   "cell_type": "code",
   "execution_count": null,
   "metadata": {},
   "outputs": [],
   "source": [
    "#export\n",
    "# So we can run this outside of GitHub actions too, read from file if needed\n",
    "if 'CONTEXT_GITHUB' not in os.environ:\n",
    "    os.environ['CONTEXT_GITHUB'] = Path('examples/context.json').read_text()\n",
    "if 'CONTEXT_GITHUB' not in os.environ:\n",
    "    os.environ['CONTEXT_NEEDS'] = Path('examples/needs.json').read_text()"
   ]
  },
  {
   "cell_type": "code",
   "execution_count": null,
   "metadata": {},
   "outputs": [],
   "source": [
    "#export\n",
    "contexts = 'github', 'env', 'job', 'steps', 'runner', 'secrets', 'strategy', 'matrix', 'needs'\n",
    "for context in contexts:\n",
    "    globals()[f'context_{context}'] = dict2obj(loads(os.getenv(f\"CONTEXT_{context.upper()}\", \"{}\")))"
   ]
  },
  {
   "cell_type": "code",
   "execution_count": null,
   "metadata": {},
   "outputs": [],
   "source": [
    "#export\n",
    "_all_ = ['context_github', 'context_env', 'context_job', 'context_steps', 'context_runner', 'context_secrets', 'context_strategy', 'context_matrix', 'context_needs']"
   ]
  },
  {
   "cell_type": "code",
   "execution_count": null,
   "metadata": {},
   "outputs": [],
   "source": [
    "# export\n",
    "_wf_tmpl = \"\"\"\n",
    "name: NAME\n",
    "on:\n",
    "  workflow_dispatch:\n",
    "  EVENT:\n",
    "defaults:\n",
    "  run: { shell: bash }\n",
    "\n",
    "jobs:\n",
    "  build:\n",
    "    runs-on: ubuntu-latest\n",
    "    steps:\n",
    "    - uses: actions/checkout@v1\n",
    "    - uses: actions/setup-python@v2\n",
    "      with: {python-version: '3.8'}\n",
    "    - name: Run script\n",
    "      env:\n",
    "        CONTEXT_GITHUB: ${{ toJson(github) }}\n",
    "      run: |\n",
    "        pip install -q ghapi\n",
    "        python .github/scripts/build-NAME-EVENT.py\n",
    "\"\"\""
   ]
  },
  {
   "cell_type": "code",
   "execution_count": null,
   "metadata": {},
   "outputs": [],
   "source": [
    "# export\n",
    "def create_workflow(name:str, event:'Event'):\n",
    "    \"Create a simple Ubuntu workflow that calls a Python `ghapi` script\"\n",
    "    if not os.path.exists('.git'): return print('This does not appear to be the root of a git repo')\n",
    "    wf_path  = Path('.github/workflows')\n",
    "    scr_path = Path('.github/scripts')\n",
    "    wf_path .mkdir(parents=True, exist_ok=True)\n",
    "    scr_path.mkdir(parents=True, exist_ok=True)\n",
    "    fname = f'{name}-{event}'\n",
    "    if not (wf_path/f'{fname}.yml').exists():\n",
    "        contents = _wf_tmpl.replace('NAME',name).replace('EVENT',str(event))\n",
    "        (wf_path/f'{fname}.yml').write_text(contents)\n",
    "    if not (scr_path/f'build-{fname}.py').exists():\n",
    "        py = \"from fastcore.all import *\\nfrom ghapi import *\"\n",
    "        (scr_path/f'build-{fname}.py').write_text(py)"
   ]
  },
  {
   "cell_type": "markdown",
   "metadata": {},
   "source": [
    "To create a basic skeleton of a `ghapi` workflow, call `create_workflow`, passing in the event that you wish to respond to, and a name for your workflow."
   ]
  },
  {
   "cell_type": "markdown",
   "metadata": {},
   "source": [
    "## Accessing contexts from Python"
   ]
  },
  {
   "cell_type": "markdown",
   "metadata": {},
   "source": [
    "The information from these variables are provided by `context_github`, `context_needs`, and so forth for each named context. These variables are `AttrDict` objects."
   ]
  },
  {
   "cell_type": "code",
   "execution_count": null,
   "metadata": {},
   "outputs": [
    {
     "data": {
      "text/plain": [
       "(#26) ['token','job','ref','sha','repository','repository_owner','repositoryUrl','run_id','run_number','retention_days'...]"
      ]
     },
     "execution_count": null,
     "metadata": {},
     "output_type": "execute_result"
    }
   ],
   "source": [
    "L(context_github)"
   ]
  },
  {
   "cell_type": "code",
   "execution_count": null,
   "metadata": {},
   "outputs": [
    {
     "data": {
      "text/plain": [
       "'refs/heads/master'"
      ]
     },
     "execution_count": null,
     "metadata": {},
     "output_type": "execute_result"
    }
   ],
   "source": [
    "context_github.ref"
   ]
  },
  {
   "cell_type": "markdown",
   "metadata": {},
   "source": [
    "If you use our recommended workflow template, you will have this included in your prebuild step (if you have any):\n",
    "\n",
    "```bash\n",
    "outputs:\n",
    "  out: ${{ toJson(steps) }}\n",
    "```\n",
    "\n",
    "You can access this content as a dictionary like so:"
   ]
  },
  {
   "cell_type": "code",
   "execution_count": null,
   "metadata": {},
   "outputs": [
    {
     "data": {
      "text/plain": [
       "{'step1': {'outputs': {'action_fruit': 'strawberry'},\n",
       "  'outcome': 'success',\n",
       "  'conclusion': 'success'}}"
      ]
     },
     "execution_count": null,
     "metadata": {},
     "output_type": "execute_result"
    }
   ],
   "source": [
    "loads(nested_idx(context_needs, \"prebuild\", \"outputs\", \"out\"))"
   ]
  },
  {
   "cell_type": "code",
   "execution_count": null,
   "metadata": {},
   "outputs": [],
   "source": [
    "#export\n",
    "_example_url = 'https://raw.githubusercontent.com/fastai/ghapi/master/examples/{}.json'"
   ]
  },
  {
   "cell_type": "code",
   "execution_count": null,
   "metadata": {},
   "outputs": [],
   "source": [
    "#export\n",
    "def example_payload(event):\n",
    "    \"Get an example of a JSON payload for `event`\"\n",
    "    return dict2obj(urljson(_example_url.format(event)))"
   ]
  },
  {
   "cell_type": "code",
   "execution_count": null,
   "metadata": {},
   "outputs": [
    {
     "name": "stdout",
     "output_type": "stream",
     "text": [
      "'page_build','content_reference','repository_import','create','workflow_run','delete','organization','sponsorship','project_column','push','context','milestone','project_card','project','package','pull_request','repository_dispatch','team_add','workflow_dispatch','member','meta','code_scanning_alert','public','needs','check_run','security_advisory','pull_request_review_comment','org_block','commit_comment','watch','marketplace_purchase','star','installation_repositories','check_suite','github_app_authorization','team','status','repository_vulnerability_alert','pull_request_review','label','installation','release','issues','repository','gollum','membership','deployment','deploy_key','issue_comment','ping','deployment_status','fork'\n"
     ]
    }
   ],
   "source": [
    "#hide\n",
    "print(','.join(repr(o) for o in Path('examples/').ls(file_exts=['.json']).attrgot('stem')))"
   ]
  },
  {
   "cell_type": "markdown",
   "metadata": {},
   "source": [
    "The possible events are available in the `Event` `enum`."
   ]
  },
  {
   "cell_type": "code",
   "execution_count": null,
   "metadata": {},
   "outputs": [],
   "source": [
    "#export\n",
    "Event = str_enum('Event',\n",
    "    'page_build','content_reference','repository_import','create','workflow_run','delete','organization','sponsorship',\n",
    "    'project_column','push','context','milestone','project_card','project','package','pull_request','repository_dispatch',\n",
    "    'team_add','workflow_dispatch','member','meta','code_scanning_alert','public','needs','check_run','security_advisory',\n",
    "    'pull_request_review_comment','org_block','commit_comment','watch','marketplace_purchase','star','installation_repositories',\n",
    "    'check_suite','github_app_authorization','team','status','repository_vulnerability_alert','pull_request_review','label',\n",
    "    'installation','release','issues','repository','gollum','membership','deployment','deploy_key','issue_comment','ping',\n",
    "    'deployment_status','fork')"
   ]
  },
  {
   "cell_type": "code",
   "execution_count": null,
   "metadata": {},
   "outputs": [
    {
     "data": {
      "text/plain": [
       "'page_build, content_reference, repository_import, create, workflow_run, delete, organization, sponsorship, project_column, push, context, milestone, project_card, project, package, pull_request, repository_dispatch, team_add, workflow_dispatch, member, meta, code_scanning_alert, public, needs, check_run, security_advisory, pull_request_review_comment, org_block, commit_comment, watch, marketplace_purchase, star, installation_repositories, check_suite, github_app_authorization, team, status, repository_vulnerability_alert, pull_request_review, label, installation, release, issues, repository, gollum, membership, deployment, deploy_key, issue_comment, ping, deployment_status, fork'"
      ]
     },
     "execution_count": null,
     "metadata": {},
     "output_type": "execute_result"
    }
   ],
   "source": [
    "', '.join(Event)"
   ]
  },
  {
   "cell_type": "markdown",
   "metadata": {},
   "source": [
    "## Workflow helper functions"
   ]
  },
  {
   "cell_type": "code",
   "execution_count": null,
   "metadata": {},
   "outputs": [],
   "source": [
    "#export\n",
    "def github_token():\n",
    "    \"Get GitHub token from `GITHUB_TOKEN` env var if available, or from `github` context\"\n",
    "    return os.getenv('GITHUB_TOKEN', context_github.get('token', None))"
   ]
  },
  {
   "cell_type": "code",
   "execution_count": null,
   "metadata": {},
   "outputs": [],
   "source": [
    "#export\n",
    "def actions_output(name, value):\n",
    "    \"Print the special GitHub Actions `::set-output` line for `name::value`\"\n",
    "    print(f\"::set-output name={name}::{value}\")"
   ]
  },
  {
   "cell_type": "markdown",
   "metadata": {},
   "source": [
    "Details in the [GitHub Documentation for `set-output`](https://docs.github.com/en/free-pro-team@latest/actions/reference/workflow-commands-for-github-actions#setting-an-output-parameter)."
   ]
  },
  {
   "cell_type": "code",
   "execution_count": null,
   "metadata": {},
   "outputs": [],
   "source": [
    "#export\n",
    "def actions_debug(message):\n",
    "    \"Print the special `::debug` line for `message`\"\n",
    "    print(f\"::debug::{message}\")"
   ]
  },
  {
   "cell_type": "markdown",
   "metadata": {},
   "source": [
    "Details in the [GitHub Documentation for `debug`](https://docs.github.com/en/free-pro-team@latest/actions/reference/workflow-commands-for-github-actions#setting-a-debug-message). Note that you must create a secret named `ACTIONS_STEP_DEBUG` with the value true to see the debug messages set by this command in the log."
   ]
  },
  {
   "cell_type": "code",
   "execution_count": null,
   "metadata": {},
   "outputs": [],
   "source": [
    "#export\n",
    "def actions_warn(message, details=''):\n",
    "    \"Print the special `::warning` line for `message`\"\n",
    "    print(f\"::warning {details}::{message}\")"
   ]
  },
  {
   "cell_type": "markdown",
   "metadata": {},
   "source": [
    "Details in the [GitHub Documentation for `warning`](https://docs.github.com/en/free-pro-team@latest/actions/reference/workflow-commands-for-github-actions#setting-a-warning-message). For the optional `details`, you can provide comma-delimited file, line, and column information, e.g.: `file=app.js,line=1,col=5`."
   ]
  },
  {
   "cell_type": "code",
   "execution_count": null,
   "metadata": {},
   "outputs": [],
   "source": [
    "#export\n",
    "def actions_error(message, details=''):\n",
    "    \"Print the special `::error` line for `message`\"\n",
    "    print(f\"::error {details}::{message}\")"
   ]
  },
  {
   "cell_type": "markdown",
   "metadata": {},
   "source": [
    "Details in the [GitHub Documentation for `error`](https://docs.github.com/en/free-pro-team@latest/actions/reference/workflow-commands-for-github-actions#setting-an-error-message). For the optional `details`, you can provide comma-delimited file, line, and column information, e.g.: `file=app.js,line=1,col=5`."
   ]
  },
  {
   "cell_type": "code",
   "execution_count": null,
   "metadata": {},
   "outputs": [],
   "source": [
    "#export\n",
    "def actions_group(title):\n",
    "    \"Print the special `::group` line for `title`\"\n",
    "    print(f\"::group::{title}\")"
   ]
  },
  {
   "cell_type": "code",
   "execution_count": null,
   "metadata": {},
   "outputs": [],
   "source": [
    "#export\n",
    "def actions_endgroup():\n",
    "    \"Print the special `::endgroup`\"\n",
    "    print(f\"::endgroup::\")"
   ]
  },
  {
   "cell_type": "markdown",
   "metadata": {},
   "source": [
    "Details in the GitHub Documentation for [grouping log lines](https://docs.github.com/en/free-pro-team@latest/actions/reference/workflow-commands-for-github-actions#grouping-log-lines)."
   ]
  },
  {
   "cell_type": "code",
   "execution_count": null,
   "metadata": {},
   "outputs": [],
   "source": [
    "#export\n",
    "def actions_mask(value):\n",
    "    \"Print the special `::add-mask` line for `value`\"\n",
    "    print(f\"::add-mask::{value}\")"
   ]
  },
  {
   "cell_type": "markdown",
   "metadata": {},
   "source": [
    "Details in the [GitHub Documentation for `add-mask`](https://docs.github.com/en/free-pro-team@latest/actions/reference/workflow-commands-for-github-actions#masking-a-value-in-log)."
   ]
  },
  {
   "cell_type": "markdown",
   "metadata": {},
   "source": [
    "## Export -"
   ]
  },
  {
   "cell_type": "code",
   "execution_count": null,
   "metadata": {},
   "outputs": [
    {
     "name": "stdout",
     "output_type": "stream",
     "text": [
      "Converted 00_core.ipynb.\n",
      "Converted 01_actions.ipynb.\n",
      "Converted 10_cli.ipynb.\n",
      "Converted 50_fullapi.ipynb.\n",
      "Converted 90_build_lib.ipynb.\n",
      "Converted index.ipynb.\n",
      "Converted tutorial_actions.ipynb.\n",
      "Converted tutorial_api.ipynb.\n"
     ]
    }
   ],
   "source": [
    "#hide\n",
    "from nbdev.export import notebook2script\n",
    "notebook2script()"
   ]
  },
  {
   "cell_type": "code",
   "execution_count": null,
   "metadata": {},
   "outputs": [],
   "source": []
  }
 ],
 "metadata": {
  "kernelspec": {
   "display_name": "Python 3",
   "language": "python",
   "name": "python3"
  }
 },
 "nbformat": 4,
 "nbformat_minor": 4
}
