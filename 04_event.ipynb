{
 "cells": [
  {
   "cell_type": "code",
   "execution_count": null,
   "metadata": {},
   "outputs": [],
   "source": [
    "#default_exp event"
   ]
  },
  {
   "cell_type": "markdown",
   "metadata": {},
   "source": [
    "# The events API\n",
    "\n",
    "> Helpers for getting GitHub API events"
   ]
  },
  {
   "cell_type": "code",
   "execution_count": null,
   "metadata": {},
   "outputs": [],
   "source": [
    "#export\n",
    "from fastcore.utils import *\n",
    "from fastcore.foundation import *\n",
    "from ghapi.core import *\n",
    "from ghapi.page import *\n",
    "\n",
    "import time\n",
    "from itertools import islice"
   ]
  },
  {
   "cell_type": "code",
   "execution_count": null,
   "metadata": {},
   "outputs": [],
   "source": [
    "api = GhApi()"
   ]
  },
  {
   "cell_type": "code",
   "execution_count": null,
   "metadata": {},
   "outputs": [],
   "source": [
    "# TODO only new events"
   ]
  },
  {
   "cell_type": "code",
   "execution_count": null,
   "metadata": {},
   "outputs": [],
   "source": [
    "#export\n",
    "def _list_events(username=None, org=None, owner=None, repo=None):\n",
    "    if (username or org or owner) and \\\n",
    "        not (bool(username) ^ bool(org) ^ bool(owner)): raise Exception('Can not pass more than one of username, org, and owner')\n",
    "    if (owner and not repo) or (repo and not owner): 'Must pass both repo and owner, if passing either'\n",
    "    if owner: return api.activity.list_public_events_for_repo_network,{'owner':owner,'repo':repo}\n",
    "    if org: return api.activity.list_public_org_events,{'org':org}\n",
    "    if username: return api.activity.list_public_events_for_user,{'username':username}\n",
    "    return api.activity.list_public_events,{}"
   ]
  },
  {
   "cell_type": "code",
   "execution_count": null,
   "metadata": {},
   "outputs": [],
   "source": [
    "#export\n",
    "@patch\n",
    "def list_events(self:GhApi, username=None, org=None, owner=None, repo=None, per_page=30, page=1):\n",
    "    \"Fetch public events for repo network, org, user, or all\"\n",
    "    oper,kwargs = _list_events(username=username, org=org, owner=owner, repo=repo)\n",
    "    return oper(per_page=per_page, page=page, **kwargs)"
   ]
  },
  {
   "cell_type": "code",
   "execution_count": null,
   "metadata": {},
   "outputs": [],
   "source": [
    "#export\n",
    "@patch\n",
    "def list_events_parallel(self:GhApi, username=None, org=None, owner=None, repo=None, per_page=30, n_pages=8):\n",
    "    \"Fetch as many events from `list_events` in parallel as available\"\n",
    "    oper,kwargs = _list_events(username=username, org=org, owner=owner, repo=repo)\n",
    "    return pages(oper, n_pages, per_page=per_page, **kwargs).concat()"
   ]
  },
  {
   "cell_type": "code",
   "execution_count": null,
   "metadata": {},
   "outputs": [
    {
     "data": {
      "text/plain": [
       "(240, 'fastai')"
      ]
     },
     "execution_count": null,
     "metadata": {},
     "output_type": "execute_result"
    }
   ],
   "source": [
    "ev = api.list_events_parallel(org='fastai')\n",
    "len(ev),ev[0].org.login"
   ]
  },
  {
   "cell_type": "code",
   "execution_count": null,
   "metadata": {},
   "outputs": [],
   "source": [
    "#export\n",
    "def fetch_events(types=None):\n",
    "    \"Generate an infinite stream of events optionally filtered to `types`\"\n",
    "    if types: types=setify(types)\n",
    "    seen = set()\n",
    "    while True:\n",
    "        evts = [o for o in api.list_events_parallel(n_pages=2) if o.id not in seen]\n",
    "        print('\\n***', len(evts))\n",
    "        for o in evts:\n",
    "            seen.add(o.id)\n",
    "            if not types or o.type in types: yield o\n",
    "        time.sleep(0.6)"
   ]
  },
  {
   "cell_type": "code",
   "execution_count": null,
   "metadata": {},
   "outputs": [
    {
     "name": "stdout",
     "output_type": "stream",
     "text": [
      "\n",
      "*** 60\n",
      "14505512015 14505511995 14505511993 14505511981 14505511975 14505511976 14505511971 14505511970 14505511968 14505511963 14505511921 14505511920 14505511889 \n",
      "*** 28\n",
      "14505512077 14505512069 14505512063 14505512061 14505512053 14505512051 14505512048 14505512040 14505512034 \n",
      "*** 38\n",
      "14505512248 14505512218 14505512215 14505512210 14505512198 14505512092 \n",
      "*** 41\n",
      "14505512340 14505512326 14505512325 14505512314 14505512313 14505512315 14505512311 14505512304 14505512307 14505512289 14505512277 14505512271 14505512261 14505512257 \n",
      "*** 43\n",
      "14505512456 14505512454 14505512450 14505512445 14505512429 14505512427 14505512408 14505512403 14505512395 14505512380 14505512366 14505512362 14505512355 14505512353 \n",
      "*** 32\n",
      "14505512515 14505512505 14505512504 14505512495 14505512486 14505512477 14505512458 \n",
      "*** 38\n",
      "14505512598 14505512600 14505512582 14505512566 14505512558 14505512549 14505512538 14505512530 14505512523 \n",
      "*** 60\n",
      "14505512763 14505512761 14505512740 14505512727 14505512723 14505512720 14505512716 14505512712 14505512709 14505512705 14505512701 14505512688 14505512679 14505512668 14505512669 14505512666 14505512655 \n",
      "*** 42\n",
      "14505512843 14505512838 14505512841 14505512839 14505512835 14505512833 14505512831 14505512809 14505512811 14505512803 14505512800 "
     ]
    }
   ],
   "source": [
    "for o in islice(fetch_events('PullRequestEvent'), 100): print(o.id, end=' ')"
   ]
  },
  {
   "cell_type": "code",
   "execution_count": null,
   "metadata": {},
   "outputs": [],
   "source": [
    "next(fetch_events('PullRequestEvent'))"
   ]
  },
  {
   "cell_type": "code",
   "execution_count": null,
   "metadata": {},
   "outputs": [],
   "source": [
    "evts = GhEvents(types=('IssuesEvent','ReleaseEvent','PullRequestEvent'), bots=True)"
   ]
  },
  {
   "cell_type": "code",
   "execution_count": null,
   "metadata": {},
   "outputs": [],
   "source": [
    "for ev in evts: ..."
   ]
  },
  {
   "cell_type": "code",
   "execution_count": null,
   "metadata": {},
   "outputs": [],
   "source": [
    "for b in islice(evts,10): ..."
   ]
  },
  {
   "cell_type": "markdown",
   "metadata": {},
   "source": [
    "## Export -"
   ]
  },
  {
   "cell_type": "code",
   "execution_count": null,
   "metadata": {},
   "outputs": [
    {
     "name": "stdout",
     "output_type": "stream",
     "text": [
      "Converted 00_core.ipynb.\n",
      "Converted 01_actions.ipynb.\n",
      "Converted 02_auth.ipynb.\n",
      "Converted 10_cli.ipynb.\n",
      "Converted 50_fullapi.ipynb.\n",
      "Converted 90_build_lib.ipynb.\n",
      "Converted Untitled.ipynb.\n",
      "Converted index.ipynb.\n",
      "Converted tutorial_actions.ipynb.\n"
     ]
    }
   ],
   "source": [
    "#hide\n",
    "from nbdev.export import notebook2script\n",
    "notebook2script()"
   ]
  },
  {
   "cell_type": "code",
   "execution_count": null,
   "metadata": {},
   "outputs": [],
   "source": []
  }
 ],
 "metadata": {
  "kernelspec": {
   "display_name": "Python 3",
   "language": "python",
   "name": "python3"
  }
 },
 "nbformat": 4,
 "nbformat_minor": 4
}
