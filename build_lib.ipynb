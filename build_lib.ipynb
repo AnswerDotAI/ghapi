{
 "cells": [
  {
   "cell_type": "code",
   "execution_count": null,
   "metadata": {},
   "outputs": [],
   "source": [
    "#default_exp build_lib"
   ]
  },
  {
   "cell_type": "code",
   "execution_count": null,
   "metadata": {},
   "outputs": [],
   "source": [
    "#export\n",
    "from fastcore.utils import *\n",
    "from fastcore.foundation import *\n",
    "import pprint"
   ]
  },
  {
   "cell_type": "markdown",
   "metadata": {},
   "source": [
    "## Parse Open API Spec\n",
    "\n",
    "This library leverages the [OpenAPI Specification](https://github.com/OAI/OpenAPI-Specification) to create a python client for the GitHub API.  The OpenAPI specification contains metadata on all of the endpoints and how to access them properly.  Using this metadata, we can construct a python client dynamically that updates automatically along with the OpenAPI Spec. "
   ]
  },
  {
   "cell_type": "markdown",
   "metadata": {},
   "source": [
    "We can download the OpenAPI Spec for GitHub's REST API at the following URL:"
   ]
  },
  {
   "cell_type": "code",
   "execution_count": null,
   "metadata": {},
   "outputs": [],
   "source": [
    "#export\n",
    "#export\n",
    "GH_OPENAPI_URL = 'https://github.com/github/rest-api-description/raw/main/descriptions/api.github.com/api.github.com.json?raw=true'\n",
    "GH_DOC_URL = 'https://docs.github.com/'\n"
   ]
  },
  {
   "cell_type": "code",
   "execution_count": null,
   "metadata": {},
   "outputs": [],
   "source": [
    "assert urlcheck(GH_OPENAPI_URL), \"The URL for the GitHub OpenAPI spec has changed.\"\n",
    "assert urlcheck(GH_DOC_URL, \"The URL for the GitHub docs has changed.\")"
   ]
  },
  {
   "cell_type": "markdown",
   "metadata": {},
   "source": [
    "Below is an example of the metadata contained for the endpoint `/repos/{owner}/{repo}/git/ref/{ref}`"
   ]
  },
  {
   "cell_type": "code",
   "execution_count": null,
   "metadata": {},
   "outputs": [
    {
     "data": {
      "text/plain": [
       "{'get': {'summary': 'Get a reference',\n",
       "  'description': 'Returns a single reference from your Git database. The `:ref` in the URL must be formatted as `heads/<branch name>` for branches and `tags/<tag name>` for tags. If the `:ref` doesn\\'t match an existing ref, a `404` is returned.\\n\\n**Note:** You need to explicitly [request a pull request](https://docs.github.com/rest/reference/pulls#get-a-pull-request) to trigger a test merge commit, which checks the mergeability of pull requests. For more information, see \"[Checking mergeability of pull requests](https://docs.github.com/rest/guides/getting-started-with-the-git-database-api#checking-mergeability-of-pull-requests)\".',\n",
       "  'tags': ['git'],\n",
       "  'operationId': 'git/get-ref',\n",
       "  'externalDocs': {'description': 'API method documentation',\n",
       "   'url': 'https://docs.github.com/rest/reference/git#get-a-reference'},\n",
       "  'parameters': [{'$ref': '#/components/parameters/owner'},\n",
       "   {'$ref': '#/components/parameters/repo'},\n",
       "   {'name': 'ref',\n",
       "    'description': 'ref+ parameter',\n",
       "    'in': 'path',\n",
       "    'required': True,\n",
       "    'schema': {'type': 'string'}}],\n",
       "  'responses': {'200': {'description': 'response',\n",
       "    'content': {'application/json': {'schema': {'$ref': '#/components/schemas/git-ref'},\n",
       "      'examples': {'default': {'$ref': '#/components/examples/git-ref'}}}}},\n",
       "   '404': {'$ref': '#/components/responses/not_found'}},\n",
       "  'x-github': {'githubCloudOnly': False,\n",
       "   'enabledForGitHubApps': True,\n",
       "   'previews': [],\n",
       "   'category': 'git',\n",
       "   'subcategory': 'refs'}}}"
      ]
     },
     "execution_count": null,
     "metadata": {},
     "output_type": "execute_result"
    }
   ],
   "source": [
    "js = urljson(GH_OPENAPI_URL)\n",
    "js['paths']['/repos/{owner}/{repo}/git/ref/{ref}']"
   ]
  },
  {
   "cell_type": "markdown",
   "metadata": {},
   "source": [
    "## Extract Metadata Into A Python Module"
   ]
  },
  {
   "cell_type": "code",
   "execution_count": null,
   "metadata": {},
   "outputs": [],
   "source": [
    "#export\n",
    "def build_funcs(pre,\n",
    "                nm='ghapi/metadata.py', \n",
    "                url=GH_OPENAPI_URL, \n",
    "                docurl=GH_DOC_URL):\n",
    "    \"\"\"Build module funcs.py from an Open API spec and optionally filter by a path `pre`\"\"\"\n",
    "    def _get_detls(o):\n",
    "        data = nested_idx(o, *'requestBody content application/json schema properties'.split()) or {}\n",
    "        url = o['externalDocs']['url'][len(docurl):]\n",
    "        return (o['operationId'], o['summary'], url, list(data.keys()))\n",
    "    \n",
    "    js = urljson(url)\n",
    "    paths = {o[len(pre):]:v for o,v in js['paths'].items() if o.startswith(pre)}\n",
    "    _funcs = [(path, verb) + _get_detls(detls)\n",
    "              for path,verbs in paths.items() for verb,detls in verbs.items()]\n",
    "    Path(nm).write_text(\"funcs = \" + pprint.pformat(_funcs, width=360))"
   ]
  },
  {
   "cell_type": "markdown",
   "metadata": {},
   "source": [
    "For example we will build the module `metadata.py` with the github OpenAPI spec for only paths beginning with `/repos/{owner}/{repo}`:"
   ]
  },
  {
   "cell_type": "code",
   "execution_count": null,
   "metadata": {},
   "outputs": [],
   "source": [
    "build_funcs(pre='/repos/{owner}/{repo}', nm='ghapi/metadata.py')"
   ]
  },
  {
   "cell_type": "markdown",
   "metadata": {},
   "source": [
    "This python module contains a list of metadata for each endpoint:"
   ]
  },
  {
   "cell_type": "code",
   "execution_count": null,
   "metadata": {},
   "outputs": [
    {
     "data": {
      "text/plain": [
       "(#298) [('', 'get', 'repos/get', 'Get a repository', 'v3/repos/#get-a-repository', []),('', 'patch', 'repos/update', 'Update a repository', 'v3/repos/#update-a-repository', ['name', 'description', 'homepage', 'private', 'visibility', 'has_issues', 'has_projects', 'has_wiki', 'is_template', 'default_branch', 'allow_squash_merge', 'allow_merge_commit', 'allow_rebase_merge', 'delete_branch_on_merge', 'archived']),('', 'delete', 'repos/delete', 'Delete a repository', 'v3/repos/#delete-a-repository', []),('/actions/artifacts', 'get', 'actions/list-artifacts-for-repo', 'List artifacts for a repository', 'rest/reference/actions#list-artifacts-for-a-repository', []),('/actions/artifacts/{artifact_id}', 'get', 'actions/get-artifact', 'Get an artifact', 'rest/reference/actions#get-an-artifact', []),('/actions/artifacts/{artifact_id}', 'delete', 'actions/delete-artifact', 'Delete an artifact', 'rest/reference/actions#delete-an-artifact', []),('/actions/artifacts/{artifact_id}/{archive_format}', 'get', 'actions/download-artifact', 'Download an artifact', 'rest/reference/actions#download-an-artifact', []),('/actions/jobs/{job_id}', 'get', 'actions/get-job-for-workflow-run', 'Get a job for a workflow run', 'rest/reference/actions#get-a-job-for-a-workflow-run', []),('/actions/jobs/{job_id}/logs', 'get', 'actions/download-job-logs-for-workflow-run', 'Download job logs for a workflow run', 'rest/reference/actions#download-job-logs-for-a-workflow-run', []),('/actions/permissions', 'get', 'actions/get-github-actions-permissions-repository', 'Get GitHub Actions permissions for a repository', 'rest/reference/actions#get-github-actions-permissions-for-a-repository', [])...]"
      ]
     },
     "execution_count": null,
     "metadata": {},
     "output_type": "execute_result"
    }
   ],
   "source": [
    "from ghapi.metadata import funcs\n",
    "L(funcs)"
   ]
  },
  {
   "cell_type": "markdown",
   "metadata": {},
   "source": [
    "## Export -"
   ]
  },
  {
   "cell_type": "code",
   "execution_count": null,
   "metadata": {},
   "outputs": [
    {
     "name": "stdout",
     "output_type": "stream",
     "text": [
      "Converted build_lib.ipynb.\n"
     ]
    }
   ],
   "source": [
    "#hide\n",
    "from nbdev.export import notebook2script\n",
    "notebook2script('build_lib.ipynb')"
   ]
  },
  {
   "cell_type": "code",
   "execution_count": null,
   "metadata": {},
   "outputs": [],
   "source": []
  }
 ],
 "metadata": {
  "kernelspec": {
   "display_name": "Python 3",
   "language": "python",
   "name": "python3"
  }
 },
 "nbformat": 4,
 "nbformat_minor": 4
}
