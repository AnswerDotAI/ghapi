{
 "cells": [
  {
   "cell_type": "code",
   "execution_count": null,
   "metadata": {},
   "outputs": [],
   "source": [
    "#default_exp core"
   ]
  },
  {
   "cell_type": "code",
   "execution_count": null,
   "metadata": {},
   "outputs": [],
   "source": [
    "#export\n",
    "import jsonref,json\n",
    "from fastcore.utils import *\n",
    "from fastcore.foundation import *\n",
    "from fastcore.meta import *\n",
    "from urllib import request\n",
    "import pprint,inspect\n",
    "from inspect import signature,Parameter\n",
    "from ghapi.build_lib import build_funcs, GH_DOC_URL\n",
    "from ghapi.metadata import funcs"
   ]
  },
  {
   "cell_type": "code",
   "execution_count": null,
   "metadata": {},
   "outputs": [],
   "source": [
    "#export\n",
    "GH_HOST = \"https://api.github.com\"\n",
    "_DOC_URL = GH_DOC_URL"
   ]
  },
  {
   "cell_type": "code",
   "execution_count": null,
   "metadata": {},
   "outputs": [],
   "source": [
    "import string\n",
    "_fmt = string.Formatter()\n",
    "\n",
    "def stringfmt_names(s:str)->L:\n",
    "    \"Unique brace-delimited names in `s`\"\n",
    "    return L(_fmt.parse(s)).itemgot(1).unique().filter()"
   ]
  },
  {
   "cell_type": "code",
   "execution_count": null,
   "metadata": {},
   "outputs": [
    {
     "data": {
      "text/plain": [
       "(#2) ['pull_number','review_id']"
      ]
     },
     "execution_count": null,
     "metadata": {},
     "output_type": "execute_result"
    }
   ],
   "source": [
    "stringfmt_names('/pulls/{pull_number}/reviews/{review_id}')"
   ]
  },
  {
   "cell_type": "code",
   "execution_count": null,
   "metadata": {},
   "outputs": [],
   "source": [
    "def _call(self, *args, **kwargs):\n",
    "    # TODO: post data\n",
    "    for a,b in zip(args,self.params): kwargs[b]=a\n",
    "    kw = {p:kwargs[p] for p in self.params}\n",
    "    path = self.path.format(**kw)\n",
    "    return self.client(path)\n",
    "\n",
    "_self_param = [Parameter('self', Parameter.POSITIONAL_OR_KEYWORD)]\n",
    "\n",
    "def _replace_sig(f, path_args, data_args):\n",
    "    p = [Parameter(o,               kind=Parameter.POSITIONAL_OR_KEYWORD) for o in path_args]\n",
    "    d = [Parameter(o, default=None, kind=Parameter.POSITIONAL_OR_KEYWORD) for o in data_args]\n",
    "    f.__signature__ = signature(f).replace(parameters=_self_param+p+d)\n",
    "    return f"
   ]
  },
  {
   "cell_type": "code",
   "execution_count": null,
   "metadata": {},
   "outputs": [],
   "source": [
    "class GhVerb:\n",
    "    __slots__ = 'path,verb,tag,name,summary,url,params,data,client,__call__,__doc__'.split(',')\n",
    "    \n",
    "    def __init__(self, path, verb, oper, summary, url, data, client):\n",
    "        tag,name = oper.split('/')\n",
    "        name = name.replace('-','_')\n",
    "        params = filter_ex(stringfmt_names(path), in_(('owner','repo')), True)\n",
    "        if params and not params[0]: breakpoint()\n",
    "        f = _replace_sig(copy_func(_call), params, data)\n",
    "        __doc__ = summary\n",
    "        __call__ = MethodType(f, self)\n",
    "        store_attr(self.__slots__)\n",
    "    \n",
    "    def _repr_markdown_(self):\n",
    "        params = ','.join(self.params+self.data)\n",
    "        return f\"[{self.tag}/{self.name}]({_DOC_URL}{self.url})({params}): {self.summary}\"\n",
    "    __repr__ = _repr_markdown_"
   ]
  },
  {
   "cell_type": "code",
   "execution_count": null,
   "metadata": {},
   "outputs": [],
   "source": [
    "class _GhVerbGroup(AttrDict):\n",
    "    def __init__(self, verbs): super().__init__(**{o.name:o for o in verbs})\n",
    "    def _repr_markdown_(self): return \"\\n\".join(f'- [{k}]({_DOC_URL}{v.url})' for k,v in self.items())"
   ]
  },
  {
   "cell_type": "code",
   "execution_count": null,
   "metadata": {},
   "outputs": [],
   "source": [
    "#export\n",
    "class GhApi:\n",
    "    def __init__(self, owner, repo, token):\n",
    "        funcs_ = L(funcs).starmap(GhVerb, client=self)\n",
    "        self._fs = {k:_GhVerbGroup(v) for k,v in groupby(funcs_, 'tag').items()}\n",
    "        self._headers = { 'Authorization' : 'token ' + token,\n",
    "                         'Accept': 'application/vnd.github.v3+json'}\n",
    "        self.owner,self.repo = owner,repo\n",
    "        self.repo_url = f\"{GH_HOST}/repos/{owner}/{repo}\"\n",
    "\n",
    "    def __dir__(self): return super().__dir__() + list(self._fs)\n",
    "\n",
    "    def __getattr__(self,k):\n",
    "        if k in self._fs: return self._fs[k]\n",
    "        raise AttributeError(k)\n",
    "\n",
    "    def __call__(self, path, **data):\n",
    "        \"Call GitHub API `path`\"\n",
    "        path = f\"{self.repo_url}{path}\"\n",
    "        return dict2obj(do_request(path, headers=self._headers, **data))"
   ]
  },
  {
   "cell_type": "code",
   "execution_count": null,
   "metadata": {},
   "outputs": [],
   "source": [
    "api = GhApi('fastai', 'fastcore', os.environ['FASTRELEASE_TOKEN'])"
   ]
  },
  {
   "cell_type": "code",
   "execution_count": null,
   "metadata": {},
   "outputs": [
    {
     "data": {
      "text/markdown": [
       "- ref: refs/heads/master\n",
       "- node_id: MDM6UmVmMjI1NDYwNTk5OnJlZnMvaGVhZHMvbWFzdGVy\n",
       "- url: https://api.github.com/repos/fastai/fastcore/git/refs/heads/master\n",
       "- object: \n",
       "  - sha: d06d540f07dd51e7ec89b59dd802871e284653e2\n",
       "  - type: commit\n",
       "  - url: https://api.github.com/repos/fastai/fastcore/git/commits/d06d540f07dd51e7ec89b59dd802871e284653e2"
      ],
      "text/plain": [
       "- ref: refs/heads/master\n",
       "- node_id: MDM6UmVmMjI1NDYwNTk5OnJlZnMvaGVhZHMvbWFzdGVy\n",
       "- url: https://api.github.com/repos/fastai/fastcore/git/refs/heads/master\n",
       "- object: \n",
       "  - sha: d06d540f07dd51e7ec89b59dd802871e284653e2\n",
       "  - type: commit\n",
       "  - url: https://api.github.com/repos/fastai/fastcore/git/commits/d06d540f07dd51e7ec89b59dd802871e284653e2"
      ]
     },
     "execution_count": null,
     "metadata": {},
     "output_type": "execute_result"
    }
   ],
   "source": [
    "api.git.get_ref('heads/master')"
   ]
  },
  {
   "cell_type": "code",
   "execution_count": null,
   "metadata": {},
   "outputs": [
    {
     "data": {
      "text/markdown": [
       "[repos/create_webhook](https://docs.github.com/rest/reference/repos#create-a-repository-webhook)(name,config,events,active): Create a repository webhook"
      ],
      "text/plain": [
       "[repos/create_webhook](https://docs.github.com/rest/reference/repos#create-a-repository-webhook)(name,config,events,active): Create a repository webhook"
      ]
     },
     "execution_count": null,
     "metadata": {},
     "output_type": "execute_result"
    }
   ],
   "source": [
    "api.repos.create_webhook"
   ]
  },
  {
   "cell_type": "code",
   "execution_count": null,
   "metadata": {},
   "outputs": [
    {
     "data": {
      "text/markdown": [
       "- [create_blob](https://docs.github.com/rest/reference/git#create-a-blob)\n",
       "- [get_blob](https://docs.github.com/rest/reference/git#get-a-blob)\n",
       "- [create_commit](https://docs.github.com/rest/reference/git#create-a-commit)\n",
       "- [get_commit](https://docs.github.com/rest/reference/git#get-a-commit)\n",
       "- [list_matching_refs](https://docs.github.com/rest/reference/git#list-matching-references)\n",
       "- [get_ref](https://docs.github.com/rest/reference/git#get-a-reference)\n",
       "- [create_ref](https://docs.github.com/rest/reference/git#create-a-reference)\n",
       "- [update_ref](https://docs.github.com/rest/reference/git#update-a-reference)\n",
       "- [delete_ref](https://docs.github.com/rest/reference/git#delete-a-reference)\n",
       "- [create_tag](https://docs.github.com/rest/reference/git#create-a-tag-object)\n",
       "- [get_tag](https://docs.github.com/rest/reference/git#get-a-tag)\n",
       "- [create_tree](https://docs.github.com/rest/reference/git#create-a-tree)\n",
       "- [get_tree](https://docs.github.com/rest/reference/git#get-a-tree)"
      ],
      "text/plain": [
       "- create_blob: [git/create_blob](https://docs.github.com/rest/reference/git#create-a-blob)(content,encoding): Create a blob\n",
       "- get_blob: [git/get_blob](https://docs.github.com/rest/reference/git#get-a-blob)(file_sha): Get a blob\n",
       "- create_commit: [git/create_commit](https://docs.github.com/rest/reference/git#create-a-commit)(message,tree,parents,author,committer,signature): Create a commit\n",
       "- get_commit: [git/get_commit](https://docs.github.com/rest/reference/git#get-a-commit)(commit_sha): Get a commit\n",
       "- list_matching_refs: [git/list_matching_refs](https://docs.github.com/rest/reference/git#list-matching-references)(ref): List matching references\n",
       "- get_ref: [git/get_ref](https://docs.github.com/rest/reference/git#get-a-reference)(ref): Get a reference\n",
       "- create_ref: [git/create_ref](https://docs.github.com/rest/reference/git#create-a-reference)(ref,sha,key): Create a reference\n",
       "- update_ref: [git/update_ref](https://docs.github.com/rest/reference/git#update-a-reference)(ref,sha,force): Update a reference\n",
       "- delete_ref: [git/delete_ref](https://docs.github.com/rest/reference/git#delete-a-reference)(ref): Delete a reference\n",
       "- create_tag: [git/create_tag](https://docs.github.com/rest/reference/git#create-a-tag-object)(tag,message,object,type,tagger): Create a tag object\n",
       "- get_tag: [git/get_tag](https://docs.github.com/rest/reference/git#get-a-tag)(tag_sha): Get a tag\n",
       "- create_tree: [git/create_tree](https://docs.github.com/rest/reference/git#create-a-tree)(tree,base_tree): Create a tree\n",
       "- get_tree: [git/get_tree](https://docs.github.com/rest/reference/git#get-a-tree)(tree_sha): Get a tree"
      ]
     },
     "execution_count": null,
     "metadata": {},
     "output_type": "execute_result"
    }
   ],
   "source": [
    "api.git"
   ]
  },
  {
   "cell_type": "code",
   "execution_count": null,
   "metadata": {},
   "outputs": [
    {
     "data": {
      "text/plain": [
       "'/git/ref/{ref}'"
      ]
     },
     "execution_count": null,
     "metadata": {},
     "output_type": "execute_result"
    }
   ],
   "source": [
    "api.git.get_ref.path"
   ]
  },
  {
   "cell_type": "code",
   "execution_count": null,
   "metadata": {},
   "outputs": [
    {
     "data": {
      "text/markdown": [
       "- url: https://api.github.com/repos/fastai/fastcore/issues/214\n",
       "- repository_url: https://api.github.com/repos/fastai/fastcore\n",
       "- labels_url: https://api.github.com/repos/fastai/fastcore/issues/214/labels{/name}\n",
       "- comments_url: https://api.github.com/repos/fastai/fastcore/issues/214/comments\n",
       "- events_url: https://api.github.com/repos/fastai/fastcore/issues/214/events\n",
       "- html_url: https://github.com/fastai/fastcore/issues/214\n",
       "- id: 744955123\n",
       "- node_id: MDU6SXNzdWU3NDQ5NTUxMjM=\n",
       "- number: 214\n",
       "- title: move `patch` and `patch_to` to `fastcore.basics`, and avoid clobbering existing symbols when patching\n",
       "- user: \n",
       "  - login: jph00\n",
       "  - id: 346999\n",
       "  - node_id: MDQ6VXNlcjM0Njk5OQ==\n",
       "  - avatar_url: https://avatars1.githubusercontent.com/u/346999?v=4\n",
       "  - gravatar_id: \n",
       "  - url: https://api.github.com/users/jph00\n",
       "  - html_url: https://github.com/jph00\n",
       "  - followers_url: https://api.github.com/users/jph00/followers\n",
       "  - following_url: https://api.github.com/users/jph00/following{/other_user}\n",
       "  - gists_url: https://api.github.com/users/jph00/gists{/gist_id}\n",
       "  - starred_url: https://api.github.com/users/jph00/starred{/owner}{/repo}\n",
       "  - subscriptions_url: https://api.github.com/users/jph00/subscriptions\n",
       "  - organizations_url: https://api.github.com/users/jph00/orgs\n",
       "  - repos_url: https://api.github.com/users/jph00/repos\n",
       "  - events_url: https://api.github.com/users/jph00/events{/privacy}\n",
       "  - received_events_url: https://api.github.com/users/jph00/received_events\n",
       "  - type: User\n",
       "  - site_admin: False\n",
       "- labels: \n",
       "  - \n",
       "    - id: 1710689103\n",
       "    - node_id: MDU6TGFiZWwxNzEwNjg5MTAz\n",
       "    - url: https://api.github.com/repos/fastai/fastcore/labels/enhancement\n",
       "    - name: enhancement\n",
       "    - color: a2eeef\n",
       "    - default: True\n",
       "    - description: New feature or request\n",
       "- state: open\n",
       "- locked: False\n",
       "- assignee: None\n",
       "- assignees: \n",
       "\n",
       "- milestone: None\n",
       "- comments: 0\n",
       "- created_at: 2020-11-17T17:53:14Z\n",
       "- updated_at: 2020-11-17T17:53:14Z\n",
       "- closed_at: None\n",
       "- author_association: MEMBER\n",
       "- active_lock_reason: None\n",
       "- body: \n",
       "- performed_via_github_app: None"
      ],
      "text/plain": [
       "- url: https://api.github.com/repos/fastai/fastcore/issues/214\n",
       "- repository_url: https://api.github.com/repos/fastai/fastcore\n",
       "- labels_url: https://api.github.com/repos/fastai/fastcore/issues/214/labels{/name}\n",
       "- comments_url: https://api.github.com/repos/fastai/fastcore/issues/214/comments\n",
       "- events_url: https://api.github.com/repos/fastai/fastcore/issues/214/events\n",
       "- html_url: https://github.com/fastai/fastcore/issues/214\n",
       "- id: 744955123\n",
       "- node_id: MDU6SXNzdWU3NDQ5NTUxMjM=\n",
       "- number: 214\n",
       "- title: move `patch` and `patch_to` to `fastcore.basics`, and avoid clobbering existing symbols when patching\n",
       "- user: \n",
       "  - login: jph00\n",
       "  - id: 346999\n",
       "  - node_id: MDQ6VXNlcjM0Njk5OQ==\n",
       "  - avatar_url: https://avatars1.githubusercontent.com/u/346999?v=4\n",
       "  - gravatar_id: \n",
       "  - url: https://api.github.com/users/jph00\n",
       "  - html_url: https://github.com/jph00\n",
       "  - followers_url: https://api.github.com/users/jph00/followers\n",
       "  - following_url: https://api.github.com/users/jph00/following{/other_user}\n",
       "  - gists_url: https://api.github.com/users/jph00/gists{/gist_id}\n",
       "  - starred_url: https://api.github.com/users/jph00/starred{/owner}{/repo}\n",
       "  - subscriptions_url: https://api.github.com/users/jph00/subscriptions\n",
       "  - organizations_url: https://api.github.com/users/jph00/orgs\n",
       "  - repos_url: https://api.github.com/users/jph00/repos\n",
       "  - events_url: https://api.github.com/users/jph00/events{/privacy}\n",
       "  - received_events_url: https://api.github.com/users/jph00/received_events\n",
       "  - type: User\n",
       "  - site_admin: False\n",
       "- labels: \n",
       "  - \n",
       "    - id: 1710689103\n",
       "    - node_id: MDU6TGFiZWwxNzEwNjg5MTAz\n",
       "    - url: https://api.github.com/repos/fastai/fastcore/labels/enhancement\n",
       "    - name: enhancement\n",
       "    - color: a2eeef\n",
       "    - default: True\n",
       "    - description: New feature or request\n",
       "- state: open\n",
       "- locked: False\n",
       "- assignee: None\n",
       "- assignees: \n",
       "\n",
       "- milestone: None\n",
       "- comments: 0\n",
       "- created_at: 2020-11-17T17:53:14Z\n",
       "- updated_at: 2020-11-17T17:53:14Z\n",
       "- closed_at: None\n",
       "- author_association: MEMBER\n",
       "- active_lock_reason: None\n",
       "- body: \n",
       "- performed_via_github_app: None"
      ]
     },
     "execution_count": null,
     "metadata": {},
     "output_type": "execute_result"
    }
   ],
   "source": [
    "api.issues.list_for_repo()[1]"
   ]
  },
  {
   "cell_type": "code",
   "execution_count": null,
   "metadata": {},
   "outputs": [],
   "source": [
    "def _tag_date(self, tag):\n",
    "    try: tag_d = self.gh(f\"git/ref/tags/{tag}\")\n",
    "    except HTTPError: raise Exception(f\"Failed to find tag {tag}\")\n",
    "    commit_d = self.gh(tag_d.object.url, complete=True)\n",
    "    self.commit_date = commit_d.committer.date\n",
    "    return self.commit_date"
   ]
  },
  {
   "cell_type": "code",
   "execution_count": null,
   "metadata": {},
   "outputs": [],
   "source": [
    "def release(self):\n",
    "    \"Tag and create a release in GitHub for the current version\"\n",
    "    run(f'git tag {ver}')\n",
    "    run('git push --tags')\n",
    "    run('git pull --tags')\n",
    "    self.gh(\"releases\", post=True, tag_name=ver, name=ver, body=notes)"
   ]
  },
  {
   "cell_type": "markdown",
   "metadata": {},
   "source": [
    "## Export -"
   ]
  },
  {
   "cell_type": "code",
   "execution_count": null,
   "metadata": {},
   "outputs": [
    {
     "name": "stdout",
     "output_type": "stream",
     "text": [
      "Converted 00_core.ipynb.\n",
      "Converted build_lib.ipynb.\n",
      "Converted index.ipynb.\n"
     ]
    }
   ],
   "source": [
    "\n",
    "#hide\n",
    "from nbdev.export import notebook2script\n",
    "notebook2script()"
   ]
  },
  {
   "cell_type": "code",
   "execution_count": null,
   "metadata": {},
   "outputs": [],
   "source": []
  }
 ],
 "metadata": {
  "kernelspec": {
   "display_name": "Python 3",
   "language": "python",
   "name": "python3"
  }
 },
 "nbformat": 4,
 "nbformat_minor": 4
}
