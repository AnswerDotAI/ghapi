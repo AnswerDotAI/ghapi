{
 "cells": [
  {
   "cell_type": "code",
   "execution_count": null,
   "metadata": {},
   "outputs": [],
   "source": [
    "#default_exp core"
   ]
  },
  {
   "cell_type": "markdown",
   "metadata": {},
   "source": [
    "# GhApi details\n",
    "\n",
    "> Detailed information on the GhApi API"
   ]
  },
  {
   "cell_type": "code",
   "execution_count": null,
   "metadata": {},
   "outputs": [],
   "source": [
    "#export\n",
    "from fastcore.utils import *\n",
    "from fastcore.foundation import *\n",
    "from fastcore.meta import *\n",
    "from ghapi.metadata import funcs\n",
    "\n",
    "import inspect,json,copy,urllib,mimetypes,base64\n",
    "from inspect import signature,Parameter,Signature\n",
    "from urllib.parse import urlencode\n",
    "from urllib.request import Request,urlretrieve\n",
    "from urllib.error import HTTPError\n",
    "from datetime import datetime,timedelta\n",
    "from pprint import pprint"
   ]
  },
  {
   "cell_type": "code",
   "execution_count": null,
   "metadata": {},
   "outputs": [],
   "source": [
    "#hide\n",
    "from nbdev import *"
   ]
  },
  {
   "cell_type": "code",
   "execution_count": null,
   "metadata": {},
   "outputs": [],
   "source": [
    "#export\n",
    "GH_HOST = \"https://api.github.com\"\n",
    "_DOC_URL = 'https://docs.github.com/'"
   ]
  },
  {
   "cell_type": "code",
   "execution_count": null,
   "metadata": {},
   "outputs": [],
   "source": [
    "#export\n",
    "def _preview_hdr(preview): return {'Accept': f'application/vnd.github.{preview}-preview+json'} if preview else {}\n",
    "\n",
    "def _mk_param(nm, **kwargs): return Parameter(nm, kind=Parameter.POSITIONAL_OR_KEYWORD, **kwargs)\n",
    "def _mk_sig_detls(o):\n",
    "    res = {}\n",
    "    if o[0]!=object: res['annotation']=o[0]\n",
    "    res['default'] = o[1] if len(o)>1 else None\n",
    "    return res\n",
    "def _mk_sig(req_args, opt_args, anno_args):\n",
    "    params =  [_mk_param(k) for k in req_args]\n",
    "    params += [_mk_param(k, default=v) for k,v in opt_args.items()]\n",
    "    params += [_mk_param(k, **_mk_sig_detls(v)) for k,v in anno_args.items()]\n",
    "    return Signature(params)"
   ]
  },
  {
   "cell_type": "code",
   "execution_count": null,
   "metadata": {},
   "outputs": [],
   "source": [
    "#export\n",
    "class _GhObj: pass"
   ]
  },
  {
   "cell_type": "code",
   "execution_count": null,
   "metadata": {},
   "outputs": [],
   "source": [
    "#export\n",
    "class _GhVerb(_GhObj):\n",
    "    __slots__ = 'path,verb,tag,name,summary,url,route_ps,params,data,preview,client,__doc__'.split(',')\n",
    "    def __init__(self, path, verb, oper, summary, url, params, data, preview, client, kwargs):\n",
    "        tag,name = oper.split('/')\n",
    "        name = name.replace('-','_')\n",
    "        path,_,_ = partial_format(path, **kwargs)\n",
    "        route_ps = stringfmt_names(path)\n",
    "        __doc__ = summary\n",
    "        data = {o[0]:o[1:] for o in data}\n",
    "        store_attr()\n",
    "    \n",
    "    def __call__(self, *args, headers=None, **kwargs):\n",
    "        headers = {**_preview_hdr(self.preview),**(headers or {})}\n",
    "        d = list(self.data)\n",
    "        flds = [o for o in self.route_ps+self.params+d if o not in kwargs]\n",
    "        for a,b in zip(args,flds): kwargs[b]=a\n",
    "        kwargs = {k:v for k,v in kwargs.items() if v is not None}\n",
    "        route_p,query_p,data_p = [{p:kwargs[p] for p in o if p in kwargs}\n",
    "                                 for o in (self.route_ps,self.params,d)]\n",
    "        return self.client(self.path, self.verb, headers=headers, route=route_p, query=query_p, data=data_p)\n",
    "\n",
    "    def __str__(self): return f'{self.tag}.{self.name}{signature(self)}\\n{self.doc_url}'\n",
    "    @property\n",
    "    def __signature__(self): return _mk_sig(self.route_ps, dict.fromkeys(self.params), self.data)\n",
    "    __call__.__signature__ = __signature__\n",
    "    @property\n",
    "    def doc_url(self): return _DOC_URL + self.url.replace(\" \",\"_\")\n",
    "\n",
    "    def _repr_markdown_(self):\n",
    "        params = ', '.join(self.route_ps+self.params+list(self.data))\n",
    "        return f'[{self.tag}.{self.name}]({self.doc_url})({params}): *{self.summary}*'\n",
    "    __repr__ = _repr_markdown_"
   ]
  },
  {
   "cell_type": "code",
   "execution_count": null,
   "metadata": {},
   "outputs": [],
   "source": [
    "#export\n",
    "class _GhVerbGroup(_GhObj):\n",
    "    def __init__(self, name, verbs):\n",
    "        self.name,self.verbs = name,verbs\n",
    "        for o in verbs: setattr(self, o.name, o)\n",
    "    def __str__(self): return \"\\n\".join(str(v) for v in self.verbs)\n",
    "    def _repr_markdown_(self): return \"\\n\".join(f'- {v._repr_markdown_()}' for v in self.verbs)"
   ]
  },
  {
   "cell_type": "code",
   "execution_count": null,
   "metadata": {},
   "outputs": [],
   "source": [
    "#export\n",
    "_docroot = 'https://docs.github.com/en/free-pro-team@latest/rest/reference/'"
   ]
  },
  {
   "cell_type": "markdown",
   "metadata": {},
   "source": [
    "## GhApi -"
   ]
  },
  {
   "cell_type": "code",
   "execution_count": null,
   "metadata": {},
   "outputs": [],
   "source": [
    "#export\n",
    "class GhApi(_GhObj):\n",
    "    def __init__(self, owner=None, repo=None, token=None, debug=None, limit_cb=None, **kwargs):\n",
    "        self.headers = { 'Accept': 'application/vnd.github.v3+json' }\n",
    "        token = token or os.getenv('GITHUB_TOKEN', None)\n",
    "        if token: self.headers['Authorization'] = 'token ' + token\n",
    "        if owner: kwargs['owner'] = owner\n",
    "        if repo:  kwargs['repo' ] = repo\n",
    "        funcs_ = L(funcs).starmap(_GhVerb, client=self, kwargs=kwargs)\n",
    "        self.func_dict = {f'{o.path}:{o.verb.upper()}':o for o in funcs_}\n",
    "        self.groups = {k.replace('-','_'):_GhVerbGroup(k,v) for k,v in groupby(funcs_, 'tag').items()}\n",
    "        self.debug,self.limit_cb,self.limit_rem = debug,limit_cb,5000\n",
    "\n",
    "    def __call__(self, path:str, verb:str=None, headers:dict=None, route:dict=None, query:dict=None, data=None):\n",
    "        \"Call a fully specified `path` using HTTP `verb`, passing arguments to `fastcore.core.urlsend`\"\n",
    "        if verb is None: verb = 'POST' if data else 'GET'\n",
    "        headers = {**self.headers,**(headers or {})}\n",
    "        if path[:7] not in ('http://','https:/'): path = GH_HOST+path\n",
    "        res,hdrs = urlsend(path, verb, headers=headers or None, debug=self.debug, return_headers=True,\n",
    "                           route=route or None, query=query or None, data=data or None)\n",
    "        if 'X-RateLimit-Remaining' in hdrs:\n",
    "            newlim = hdrs['X-RateLimit-Remaining']\n",
    "            if self.limit_cb is not None and newlim != self.limit_rem: self.limit_cb(int(newlim),int(hdrs['X-RateLimit-Limit']))\n",
    "            self.limit_rem = newlim\n",
    "            \n",
    "        return dict2obj(res)\n",
    "\n",
    "    def __dir__(self): return super().__dir__() + list(self.groups)\n",
    "    def _repr_markdown_(self): return \"\\n\".join(f'- [{o}]({_docroot+o})' for o in sorted(self.groups))\n",
    "    def __getattr__(self,k): return self.groups[k] if 'groups' in vars(self) and k in self.groups else stop(AttributeError(k))\n",
    "\n",
    "    def __getitem__(self, k):\n",
    "        \"Lookup and call an endpoint by path and verb (which defaults to 'GET')\"\n",
    "        a,b = k if isinstance(k,tuple) else (k,'GET')\n",
    "        return self.func_dict[f'{a}:{b.upper()}']\n",
    "\n",
    "    def full_docs(self):\n",
    "        return '\\n'.join(f'## {gn}\\n\\n{group._repr_markdown_()}\\n' for gn,group in sorted(self.groups.items()))"
   ]
  },
  {
   "cell_type": "code",
   "execution_count": null,
   "metadata": {},
   "outputs": [],
   "source": [
    "#hide\n",
    "token = os.environ['GITHUB_TOKEN']"
   ]
  },
  {
   "cell_type": "markdown",
   "metadata": {},
   "source": [
    "### Access by path"
   ]
  },
  {
   "cell_type": "code",
   "execution_count": null,
   "metadata": {},
   "outputs": [
    {
     "data": {
      "text/markdown": [
       "<h4 id=\"GhApi.__call__\" class=\"doc_header\"><code>GhApi.__call__</code><a href=\"__main__.py#L14\" class=\"source_link\" style=\"float:right\">[source]</a></h4>\n",
       "\n",
       "> <code>GhApi.__call__</code>(**`path`**:`str`, **`verb`**:`str`=*`None`*, **`headers`**:`dict`=*`None`*, **`route`**:`dict`=*`None`*, **`query`**:`dict`=*`None`*, **`data`**=*`None`*)\n",
       "\n",
       "Call a fully specified `path` using HTTP `verb`, passing arguments to `fastcore.core.urlsend`"
      ],
      "text/plain": [
       "<IPython.core.display.Markdown object>"
      ]
     },
     "metadata": {},
     "output_type": "display_data"
    }
   ],
   "source": [
    "show_doc(GhApi.__call__)"
   ]
  },
  {
   "cell_type": "code",
   "execution_count": null,
   "metadata": {},
   "outputs": [],
   "source": [
    "api = GhApi()"
   ]
  },
  {
   "cell_type": "markdown",
   "metadata": {},
   "source": [
    "You can call a `GhApi` object as a function, passing in the path to the endpoint, the HTTP verb, and any route, query parameter, or post data parameters as required."
   ]
  },
  {
   "cell_type": "code",
   "execution_count": null,
   "metadata": {},
   "outputs": [
    {
     "data": {
      "text/markdown": [
       "- ref: refs/heads/master\n",
       "- node_id: MDM6UmVmMzE1NzEyNTg4OnJlZnMvaGVhZHMvbWFzdGVy\n",
       "- url: https://api.github.com/repos/fastai/ghapi-test/git/refs/heads/master\n",
       "- object: \n",
       "  - sha: f9a76973ef7dc714cc300ab0feabb8e92f8823d9\n",
       "  - type: commit\n",
       "  - url: https://api.github.com/repos/fastai/ghapi-test/git/commits/f9a76973ef7dc714cc300ab0feabb8e92f8823d9"
      ],
      "text/plain": [
       "- ref: refs/heads/master\n",
       "- node_id: MDM6UmVmMzE1NzEyNTg4OnJlZnMvaGVhZHMvbWFzdGVy\n",
       "- url: https://api.github.com/repos/fastai/ghapi-test/git/refs/heads/master\n",
       "- object: \n",
       "  - sha: f9a76973ef7dc714cc300ab0feabb8e92f8823d9\n",
       "  - type: commit\n",
       "  - url: https://api.github.com/repos/fastai/ghapi-test/git/commits/f9a76973ef7dc714cc300ab0feabb8e92f8823d9"
      ]
     },
     "execution_count": null,
     "metadata": {},
     "output_type": "execute_result"
    }
   ],
   "source": [
    "api('/repos/{owner}/{repo}/git/ref/{ref}', 'GET', route=dict(\n",
    "    owner='fastai', repo='ghapi-test', ref='heads/master'))"
   ]
  },
  {
   "cell_type": "code",
   "execution_count": null,
   "metadata": {},
   "outputs": [
    {
     "data": {
      "text/markdown": [
       "<h4 id=\"GhApi.__getitem__\" class=\"doc_header\"><code>GhApi.__getitem__</code><a href=\"__main__.py#L32\" class=\"source_link\" style=\"float:right\">[source]</a></h4>\n",
       "\n",
       "> <code>GhApi.__getitem__</code>(**`k`**)\n",
       "\n",
       "Lookup and call an endpoint by path and verb (which defaults to 'GET')"
      ],
      "text/plain": [
       "<IPython.core.display.Markdown object>"
      ]
     },
     "metadata": {},
     "output_type": "display_data"
    }
   ],
   "source": [
    "show_doc(GhApi.__getitem__)"
   ]
  },
  {
   "cell_type": "markdown",
   "metadata": {},
   "source": [
    "You can access endpoints by indexing into the object. When using the API this way, you do not need to specify what type of parameter (route, query, or post data) is being used. This is, therefore, the same call as above:"
   ]
  },
  {
   "cell_type": "code",
   "execution_count": null,
   "metadata": {},
   "outputs": [
    {
     "data": {
      "text/markdown": [
       "- ref: refs/heads/master\n",
       "- node_id: MDM6UmVmMzE1NzEyNTg4OnJlZnMvaGVhZHMvbWFzdGVy\n",
       "- url: https://api.github.com/repos/fastai/ghapi-test/git/refs/heads/master\n",
       "- object: \n",
       "  - sha: f9a76973ef7dc714cc300ab0feabb8e92f8823d9\n",
       "  - type: commit\n",
       "  - url: https://api.github.com/repos/fastai/ghapi-test/git/commits/f9a76973ef7dc714cc300ab0feabb8e92f8823d9"
      ],
      "text/plain": [
       "- ref: refs/heads/master\n",
       "- node_id: MDM6UmVmMzE1NzEyNTg4OnJlZnMvaGVhZHMvbWFzdGVy\n",
       "- url: https://api.github.com/repos/fastai/ghapi-test/git/refs/heads/master\n",
       "- object: \n",
       "  - sha: f9a76973ef7dc714cc300ab0feabb8e92f8823d9\n",
       "  - type: commit\n",
       "  - url: https://api.github.com/repos/fastai/ghapi-test/git/commits/f9a76973ef7dc714cc300ab0feabb8e92f8823d9"
      ]
     },
     "execution_count": null,
     "metadata": {},
     "output_type": "execute_result"
    }
   ],
   "source": [
    "api['/repos/{owner}/{repo}/git/ref/{ref}'](owner='fastai', repo='ghapi-test', ref='heads/master')"
   ]
  },
  {
   "cell_type": "markdown",
   "metadata": {},
   "source": [
    "### Rate limits"
   ]
  },
  {
   "cell_type": "markdown",
   "metadata": {},
   "source": [
    "GitHub has various [rate limits](https://docs.github.com/en/free-pro-team@latest/rest/overview/resources-in-the-rest-api#rate-limiting) for their API. After each call, the response includes information about how many requests are remaining in the hourly quota. If you'd like to add alerts, or indications showing current quota usage, you can register a callback with `GhApi` by passing a callable to the `limit_cb` parameter. This callback will be called whenever the amount of quota used changes. It will be called with two arguments: the new quota remaining, and the total hourly quota."
   ]
  },
  {
   "cell_type": "code",
   "execution_count": null,
   "metadata": {},
   "outputs": [
    {
     "name": "stdout",
     "output_type": "stream",
     "text": [
      "Quota remaining: 4997 of 5000\n"
     ]
    },
    {
     "data": {
      "text/plain": [
       "'refs/heads/master'"
      ]
     },
     "execution_count": null,
     "metadata": {},
     "output_type": "execute_result"
    }
   ],
   "source": [
    "def _f(rem,quota): print(f\"Quota remaining: {rem} of {quota}\")\n",
    "\n",
    "api = GhApi(limit_cb=_f)\n",
    "api['/repos/{owner}/{repo}/git/ref/{ref}'](owner='fastai', repo='ghapi-test', ref='heads/master').ref"
   ]
  },
  {
   "cell_type": "markdown",
   "metadata": {},
   "source": [
    "You can always get the remaining quota from the `limit_rem` attribute:"
   ]
  },
  {
   "cell_type": "code",
   "execution_count": null,
   "metadata": {},
   "outputs": [
    {
     "data": {
      "text/plain": [
       "'4997'"
      ]
     },
     "execution_count": null,
     "metadata": {},
     "output_type": "execute_result"
    }
   ],
   "source": [
    "api.limit_rem"
   ]
  },
  {
   "cell_type": "markdown",
   "metadata": {},
   "source": [
    "## Operations"
   ]
  },
  {
   "cell_type": "markdown",
   "metadata": {},
   "source": [
    "Instead of passing a path to `GhApi`, you will more often use the operation methods provided in the API's operation groups, which include documentation, signatures, and auto-complete.\n",
    "\n",
    "If you provide `owner` and/or `repo` to the constructor, they will be automatically inserted into any calls which use them (except when calling `GhApi` as a function). You can also pass any other arbitrary keyword arguments you like to have them used as defaults for any relevant calls.\n",
    "\n",
    "You must include a GitHub API token if you need to access any authenticated endpoints. If don't pass the `token` param, then your `GITHUB_TOKEN` environment variable will be used, if available."
   ]
  },
  {
   "cell_type": "code",
   "execution_count": null,
   "metadata": {},
   "outputs": [],
   "source": [
    "api = GhApi(owner='fastai', repo='ghapi-test', token=token)"
   ]
  },
  {
   "cell_type": "markdown",
   "metadata": {},
   "source": [
    "### Operation groups"
   ]
  },
  {
   "cell_type": "markdown",
   "metadata": {},
   "source": [
    "The following groups of endpoints are provided, which you can list at any time along with a link to documentation for all endpoints in that group, by displaying the `GhApi` object:"
   ]
  },
  {
   "cell_type": "code",
   "execution_count": null,
   "metadata": {},
   "outputs": [
    {
     "data": {
      "text/markdown": [
       "- [actions](https://docs.github.com/en/free-pro-team@latest/rest/reference/actions)\n",
       "- [activity](https://docs.github.com/en/free-pro-team@latest/rest/reference/activity)\n",
       "- [apps](https://docs.github.com/en/free-pro-team@latest/rest/reference/apps)\n",
       "- [billing](https://docs.github.com/en/free-pro-team@latest/rest/reference/billing)\n",
       "- [checks](https://docs.github.com/en/free-pro-team@latest/rest/reference/checks)\n",
       "- [code_scanning](https://docs.github.com/en/free-pro-team@latest/rest/reference/code_scanning)\n",
       "- [codes_of_conduct](https://docs.github.com/en/free-pro-team@latest/rest/reference/codes_of_conduct)\n",
       "- [emojis](https://docs.github.com/en/free-pro-team@latest/rest/reference/emojis)\n",
       "- [enterprise_admin](https://docs.github.com/en/free-pro-team@latest/rest/reference/enterprise_admin)\n",
       "- [gists](https://docs.github.com/en/free-pro-team@latest/rest/reference/gists)\n",
       "- [git](https://docs.github.com/en/free-pro-team@latest/rest/reference/git)\n",
       "- [gitignore](https://docs.github.com/en/free-pro-team@latest/rest/reference/gitignore)\n",
       "- [interactions](https://docs.github.com/en/free-pro-team@latest/rest/reference/interactions)\n",
       "- [issues](https://docs.github.com/en/free-pro-team@latest/rest/reference/issues)\n",
       "- [licenses](https://docs.github.com/en/free-pro-team@latest/rest/reference/licenses)\n",
       "- [markdown](https://docs.github.com/en/free-pro-team@latest/rest/reference/markdown)\n",
       "- [meta](https://docs.github.com/en/free-pro-team@latest/rest/reference/meta)\n",
       "- [migrations](https://docs.github.com/en/free-pro-team@latest/rest/reference/migrations)\n",
       "- [oauth_authorizations](https://docs.github.com/en/free-pro-team@latest/rest/reference/oauth_authorizations)\n",
       "- [orgs](https://docs.github.com/en/free-pro-team@latest/rest/reference/orgs)\n",
       "- [projects](https://docs.github.com/en/free-pro-team@latest/rest/reference/projects)\n",
       "- [pulls](https://docs.github.com/en/free-pro-team@latest/rest/reference/pulls)\n",
       "- [rate_limit](https://docs.github.com/en/free-pro-team@latest/rest/reference/rate_limit)\n",
       "- [reactions](https://docs.github.com/en/free-pro-team@latest/rest/reference/reactions)\n",
       "- [repos](https://docs.github.com/en/free-pro-team@latest/rest/reference/repos)\n",
       "- [scim](https://docs.github.com/en/free-pro-team@latest/rest/reference/scim)\n",
       "- [search](https://docs.github.com/en/free-pro-team@latest/rest/reference/search)\n",
       "- [teams](https://docs.github.com/en/free-pro-team@latest/rest/reference/teams)\n",
       "- [users](https://docs.github.com/en/free-pro-team@latest/rest/reference/users)"
      ],
      "text/plain": [
       "<__main__.GhApi at 0x7fe9f04f0730>"
      ]
     },
     "execution_count": null,
     "metadata": {},
     "output_type": "execute_result"
    }
   ],
   "source": [
    "api"
   ]
  },
  {
   "cell_type": "markdown",
   "metadata": {},
   "source": [
    "### Calling endpoints"
   ]
  },
  {
   "cell_type": "markdown",
   "metadata": {},
   "source": [
    "The GitHub API's endpoint names generally start with a verb like \"get\", \"list\", \"delete\", \"create\", etc, followed `_`, then by a noun such as \"ref\", \"webhook\", \"issue\", etc.\n",
    "\n",
    "Each endpoint has a different signature, which you can see by using <kbd>Shift</kbd>-<kbd>Tab</kbd> in Jupyter, or by just printing the endpoint object (which also shows a link to the GitHub docs):"
   ]
  },
  {
   "cell_type": "code",
   "execution_count": null,
   "metadata": {},
   "outputs": [
    {
     "name": "stdout",
     "output_type": "stream",
     "text": [
      "repos.create_webhook(name: str = None, config: dict = None, events: list = ['push'], active: bool = True)\n",
      "https://docs.github.com/rest/reference/repos#create-a-repository-webhook\n"
     ]
    }
   ],
   "source": [
    "print(api.repos.create_webhook)"
   ]
  },
  {
   "cell_type": "markdown",
   "metadata": {},
   "source": [
    "Displaying an endpoint object in Jupyter also provides a formatted summary and link to the official GitHub documentation:"
   ]
  },
  {
   "cell_type": "code",
   "execution_count": null,
   "metadata": {},
   "outputs": [
    {
     "data": {
      "text/markdown": [
       "[repos.create_webhook](https://docs.github.com/rest/reference/repos#create-a-repository-webhook)(name, config, events, active): *Create a repository webhook*"
      ],
      "text/plain": [
       "[repos.create_webhook](https://docs.github.com/rest/reference/repos#create-a-repository-webhook)(name, config, events, active): *Create a repository webhook*"
      ]
     },
     "execution_count": null,
     "metadata": {},
     "output_type": "execute_result"
    }
   ],
   "source": [
    "api.repos.create_webhook"
   ]
  },
  {
   "cell_type": "markdown",
   "metadata": {},
   "source": [
    "Endpoint objects are called using standard Python method syntax:"
   ]
  },
  {
   "cell_type": "code",
   "execution_count": null,
   "metadata": {},
   "outputs": [],
   "source": [
    "ref = api.git.get_ref('heads/master')\n",
    "test_eq(ref.object.type, 'commit')"
   ]
  },
  {
   "cell_type": "markdown",
   "metadata": {},
   "source": [
    "Information about the endpoint are available as attributes:"
   ]
  },
  {
   "cell_type": "code",
   "execution_count": null,
   "metadata": {},
   "outputs": [
    {
     "data": {
      "text/plain": [
       "('/repos/fastai/ghapi-test/git/ref/{ref}', 'get')"
      ]
     },
     "execution_count": null,
     "metadata": {},
     "output_type": "execute_result"
    }
   ],
   "source": [
    "api.git.get_ref.path,api.git.get_ref.verb"
   ]
  },
  {
   "cell_type": "markdown",
   "metadata": {},
   "source": [
    "You can get a list of all endpoints available in a group, along with a link to documentation for each, by viewing the group:"
   ]
  },
  {
   "cell_type": "code",
   "execution_count": null,
   "metadata": {},
   "outputs": [
    {
     "data": {
      "text/markdown": [
       "- [git.create_blob](https://docs.github.com/rest/reference/git#create-a-blob)(content, encoding): *Create a blob*\n",
       "- [git.get_blob](https://docs.github.com/rest/reference/git#get-a-blob)(file_sha): *Get a blob*\n",
       "- [git.create_commit](https://docs.github.com/rest/reference/git#create-a-commit)(message, tree, parents, author, committer, signature): *Create a commit*\n",
       "- [git.get_commit](https://docs.github.com/rest/reference/git#get-a-commit)(commit_sha): *Get a commit*\n",
       "- [git.list_matching_refs](https://docs.github.com/rest/reference/git#list-matching-references)(ref, per_page, page): *List matching references*\n",
       "- [git.get_ref](https://docs.github.com/rest/reference/git#get-a-reference)(ref): *Get a reference*\n",
       "- [git.create_ref](https://docs.github.com/rest/reference/git#create-a-reference)(ref, sha, key): *Create a reference*\n",
       "- [git.update_ref](https://docs.github.com/rest/reference/git#update-a-reference)(ref, sha, force): *Update a reference*\n",
       "- [git.delete_ref](https://docs.github.com/rest/reference/git#delete-a-reference)(ref): *Delete a reference*\n",
       "- [git.create_tag](https://docs.github.com/rest/reference/git#create-a-tag-object)(tag, message, object, type, tagger): *Create a tag object*\n",
       "- [git.get_tag](https://docs.github.com/rest/reference/git#get-a-tag)(tag_sha): *Get a tag*\n",
       "- [git.create_tree](https://docs.github.com/rest/reference/git#create-a-tree)(tree, base_tree): *Create a tree*\n",
       "- [git.get_tree](https://docs.github.com/rest/reference/git#get-a-tree)(tree_sha, recursive): *Get a tree*"
      ],
      "text/plain": [
       "<__main__._GhVerbGroup at 0x7fe9f04f09a0>"
      ]
     },
     "execution_count": null,
     "metadata": {},
     "output_type": "execute_result"
    }
   ],
   "source": [
    "api.git"
   ]
  },
  {
   "cell_type": "markdown",
   "metadata": {},
   "source": [
    "For \"list\" endpoints, the noun will be a plural form, e.g.:"
   ]
  },
  {
   "cell_type": "code",
   "execution_count": null,
   "metadata": {},
   "outputs": [],
   "source": [
    "#hide\n",
    "for hook in api.repos.list_webhooks(): api.repos.delete_webhook(hook.id)"
   ]
  },
  {
   "cell_type": "code",
   "execution_count": null,
   "metadata": {},
   "outputs": [],
   "source": [
    "hooks = api.repos.list_webhooks()\n",
    "test_eq(len(hooks), 0)"
   ]
  },
  {
   "cell_type": "markdown",
   "metadata": {},
   "source": [
    "You can pass dicts, lists, etc. directly, where they are required for GitHub API endpoints:"
   ]
  },
  {
   "cell_type": "code",
   "execution_count": null,
   "metadata": {},
   "outputs": [],
   "source": [
    "url = 'https://example.com'\n",
    "cfg = dict(url=url, content_type='json', secret='XXX')\n",
    "hook = api.repos.create_webhook(config=cfg, events=['ping'])\n",
    "test_eq(hook.config.url, url)"
   ]
  },
  {
   "cell_type": "markdown",
   "metadata": {},
   "source": [
    "Let's confirm that our new webhook has been created:"
   ]
  },
  {
   "cell_type": "code",
   "execution_count": null,
   "metadata": {},
   "outputs": [],
   "source": [
    "hooks = api.repos.list_webhooks()\n",
    "test_eq(len(hooks), 1)\n",
    "test_eq(hooks[0].events, ['ping'])"
   ]
  },
  {
   "cell_type": "markdown",
   "metadata": {},
   "source": [
    "Finally, we can delete our new webhook:"
   ]
  },
  {
   "cell_type": "code",
   "execution_count": null,
   "metadata": {},
   "outputs": [
    {
     "data": {
      "text/markdown": [],
      "text/plain": []
     },
     "execution_count": null,
     "metadata": {},
     "output_type": "execute_result"
    }
   ],
   "source": [
    "api.repos.delete_webhook(hooks[0].id)"
   ]
  },
  {
   "cell_type": "markdown",
   "metadata": {},
   "source": [
    "### Paged operations"
   ]
  },
  {
   "cell_type": "markdown",
   "metadata": {},
   "source": [
    "Some GitHub API operations return their results one page at a time. For instance, there are many thousands of [gists](https://docs.github.com/en/free-pro-team@latest/github/writing-on-github/creating-gists), but if we call `list_public` we only see the first 30:"
   ]
  },
  {
   "cell_type": "code",
   "execution_count": null,
   "metadata": {},
   "outputs": [
    {
     "data": {
      "text/plain": [
       "30"
      ]
     },
     "execution_count": null,
     "metadata": {},
     "output_type": "execute_result"
    }
   ],
   "source": [
    "gists = api.gists.list_public()\n",
    "len(gists)"
   ]
  },
  {
   "cell_type": "markdown",
   "metadata": {},
   "source": [
    "That's because this operation takes two optional parameters, `per_page`, and `page`:"
   ]
  },
  {
   "cell_type": "code",
   "execution_count": null,
   "metadata": {},
   "outputs": [
    {
     "data": {
      "text/markdown": [
       "[gists.list_public](https://docs.github.com/v3/gists/#list-public-gists)(since, per_page, page): *List public gists*"
      ],
      "text/plain": [
       "[gists.list_public](https://docs.github.com/v3/gists/#list-public-gists)(since, per_page, page): *List public gists*"
      ]
     },
     "execution_count": null,
     "metadata": {},
     "output_type": "execute_result"
    }
   ],
   "source": [
    "api.gists.list_public"
   ]
  },
  {
   "cell_type": "markdown",
   "metadata": {},
   "source": [
    "This is a common pattern for `list_*` operations in the GitHub API. One way to get more results is to increase `per_page`:"
   ]
  },
  {
   "cell_type": "code",
   "execution_count": null,
   "metadata": {},
   "outputs": [
    {
     "data": {
      "text/plain": [
       "100"
      ]
     },
     "execution_count": null,
     "metadata": {},
     "output_type": "execute_result"
    }
   ],
   "source": [
    "len(api.gists.list_public(per_page=100))"
   ]
  },
  {
   "cell_type": "markdown",
   "metadata": {},
   "source": [
    "However, `per_page` has a maximum of `100`, so if you want more, you'll have to pass `page=` to get pages beyond the first. An easy way to iterate through all pages is to use `paged`."
   ]
  },
  {
   "cell_type": "code",
   "execution_count": null,
   "metadata": {},
   "outputs": [],
   "source": [
    "#export\n",
    "def paged(oper, *args, per_page=30, max_pages=9999, **kwargs):\n",
    "    \"Convert operation `oper(*args,**kwargs)` into an iterator\"\n",
    "    yield from itertools.takewhile(noop, (oper(*args, per_page=per_page, page=i) for i in range(1,max_pages+1)))"
   ]
  },
  {
   "cell_type": "markdown",
   "metadata": {},
   "source": [
    "We'll demonstrate this using the `repos.list_for_org` method:"
   ]
  },
  {
   "cell_type": "code",
   "execution_count": null,
   "metadata": {},
   "outputs": [
    {
     "data": {
      "text/markdown": [
       "[repos.list_for_org](https://docs.github.com/v3/repos/#list-organization-repositories)(org, type, sort, direction, per_page, page): *List organization repositories*"
      ],
      "text/plain": [
       "[repos.list_for_org](https://docs.github.com/v3/repos/#list-organization-repositories)(org, type, sort, direction, per_page, page): *List organization repositories*"
      ]
     },
     "execution_count": null,
     "metadata": {},
     "output_type": "execute_result"
    }
   ],
   "source": [
    "api.repos.list_for_org"
   ]
  },
  {
   "cell_type": "code",
   "execution_count": null,
   "metadata": {},
   "outputs": [
    {
     "data": {
      "text/plain": [
       "(30, 'fast-image')"
      ]
     },
     "execution_count": null,
     "metadata": {},
     "output_type": "execute_result"
    }
   ],
   "source": [
    "repos = api.repos.list_for_org('fastai')\n",
    "len(repos),repos[0].name"
   ]
  },
  {
   "cell_type": "markdown",
   "metadata": {},
   "source": [
    "To convert this operation into a Python iterator, pass the operation itself, along with any arguments (either keyword or positional) to `paged`:"
   ]
  },
  {
   "cell_type": "code",
   "execution_count": null,
   "metadata": {},
   "outputs": [],
   "source": [
    "repos = paged(api.repos.list_for_org, 'fastai')"
   ]
  },
  {
   "cell_type": "markdown",
   "metadata": {},
   "source": [
    "You can now iterate through `repos` using Python, e.g:"
   ]
  },
  {
   "cell_type": "code",
   "execution_count": null,
   "metadata": {},
   "outputs": [
    {
     "name": "stdout",
     "output_type": "stream",
     "text": [
      "30 fast-image\n",
      "30 fastforest\n",
      "30 .github\n",
      "3 tweetrel\n"
     ]
    }
   ],
   "source": [
    "for page in repos: print(len(page), page[0].name)"
   ]
  },
  {
   "cell_type": "markdown",
   "metadata": {},
   "source": [
    "### Convenience functions"
   ]
  },
  {
   "cell_type": "code",
   "execution_count": null,
   "metadata": {},
   "outputs": [],
   "source": [
    "#export\n",
    "def date2gh(dt:datetime)->str:\n",
    "    \"Convert `dt` (which is assumed to be in UTC time zone) to a format suitable for GitHub API operations\"\n",
    "    return f'{dt.replace(microsecond=0).isoformat()}Z'"
   ]
  },
  {
   "cell_type": "markdown",
   "metadata": {},
   "source": [
    "The GitHub API assumes that dates will be in a specific string format. `date2gh` converts Python standard `datetime` objects to that format. For instance, to find issues opened in the 'fastcore' repo in the last 4 weeks:"
   ]
  },
  {
   "cell_type": "code",
   "execution_count": null,
   "metadata": {},
   "outputs": [
    {
     "data": {
      "text/plain": [
       "8"
      ]
     },
     "execution_count": null,
     "metadata": {},
     "output_type": "execute_result"
    }
   ],
   "source": [
    "dt = date2gh(datetime.utcnow() - timedelta(weeks=4))\n",
    "issues = GhApi('fastai').issues.list_for_repo(repo='fastcore', since=dt)\n",
    "len(issues)"
   ]
  },
  {
   "cell_type": "code",
   "execution_count": null,
   "metadata": {},
   "outputs": [],
   "source": [
    "#export\n",
    "def gh2date(dtstr:str)->datetime:\n",
    "    \"Convert date string `dtstr` received from a GitHub API operation to a UTC `datetime`\"\n",
    "    return datetime.fromisoformat(dtstr.replace('Z', ''))"
   ]
  },
  {
   "cell_type": "code",
   "execution_count": null,
   "metadata": {},
   "outputs": [
    {
     "name": "stdout",
     "output_type": "stream",
     "text": [
      "2020-11-25T09:33:08Z -> 2020-11-25 09:33:08\n"
     ]
    }
   ],
   "source": [
    "created = issues[0].created_at\n",
    "print(created, '->', gh2date(created))"
   ]
  },
  {
   "cell_type": "markdown",
   "metadata": {},
   "source": [
    "### Preview endpoints"
   ]
  },
  {
   "cell_type": "markdown",
   "metadata": {},
   "source": [
    "GitHub's preview API functionality requires a special header to be passed to enable it. This is added automatically for you."
   ]
  },
  {
   "cell_type": "code",
   "execution_count": null,
   "metadata": {},
   "outputs": [],
   "source": [
    "#export\n",
    "def print_summary(req:Request):\n",
    "    \"Print `Request.summary` with the token (if any) removed\"\n",
    "    pprint(req.summary('Authorization'))"
   ]
  },
  {
   "cell_type": "markdown",
   "metadata": {},
   "source": [
    "You can set the `debug` attribute to any callable to intercept all requests, for instance to print `Request.summary`. `print_summary` is provided for this purpose. Using this, we can see the preview header that is added for preview functionality, e.g."
   ]
  },
  {
   "cell_type": "code",
   "execution_count": null,
   "metadata": {},
   "outputs": [
    {
     "name": "stdout",
     "output_type": "stream",
     "text": [
      "{'data': None,\n",
      " 'full_url': 'https://api.github.com/codes_of_conduct',\n",
      " 'headers': {'Accept': 'application/vnd.github.scarlet-witch-preview+json'},\n",
      " 'method': 'GET'}\n"
     ]
    },
    {
     "data": {
      "text/markdown": [
       "- key: contributor_covenant\n",
       "- name: Contributor Covenant\n",
       "- html_url: None\n",
       "- url: https://api.github.com/codes_of_conduct/contributor_covenant"
      ],
      "text/plain": [
       "- key: contributor_covenant\n",
       "- name: Contributor Covenant\n",
       "- html_url: None\n",
       "- url: https://api.github.com/codes_of_conduct/contributor_covenant"
      ]
     },
     "execution_count": null,
     "metadata": {},
     "output_type": "execute_result"
    }
   ],
   "source": [
    "api.debug=print_summary\n",
    "api.codes_of_conduct.get_all_codes_of_conduct()[0]"
   ]
  },
  {
   "cell_type": "markdown",
   "metadata": {},
   "source": [
    "## Authentication"
   ]
  },
  {
   "cell_type": "code",
   "execution_count": null,
   "metadata": {},
   "outputs": [],
   "source": [
    "#export\n",
    "_scopes =(\n",
    "    'repo','repo:status','repo_deployment','public_repo','repo:invite','security_events','admin:repo_hook','write:repo_hook',\n",
    "    'read:repo_hook','admin:org','write:org','read:org','admin:public_key','write:public_key','read:public_key','admin:org_hook',\n",
    "    'gist','notifications','user','read:user','user:email','user:follow','delete_repo','write:discussion','read:discussion',\n",
    "    'write:packages','read:packages','delete:packages','admin:gpg_key','write:gpg_key','read:gpg_key','workflow'\n",
    ")"
   ]
  },
  {
   "cell_type": "code",
   "execution_count": null,
   "metadata": {},
   "outputs": [],
   "source": [
    "#export\n",
    "Scope = AttrDict({o.replace(':','_'):o for o in _scopes})"
   ]
  },
  {
   "cell_type": "code",
   "execution_count": null,
   "metadata": {},
   "outputs": [],
   "source": [
    "#export\n",
    "def scope_str(*scopes)->str:\n",
    "    \"Convert `scopes` into a comma-separated string\"\n",
    "    return ','.join(str(o) for o in scopes if o)"
   ]
  },
  {
   "cell_type": "code",
   "execution_count": null,
   "metadata": {},
   "outputs": [
    {
     "data": {
      "text/plain": [
       "'repo,admin:public_key,public_repo'"
      ]
     },
     "execution_count": null,
     "metadata": {},
     "output_type": "execute_result"
    }
   ],
   "source": [
    "scope_str(Scope.repo,Scope.admin_public_key,Scope.public_repo)"
   ]
  },
  {
   "cell_type": "markdown",
   "metadata": {},
   "source": [
    "## Convenience methods"
   ]
  },
  {
   "cell_type": "markdown",
   "metadata": {},
   "source": [
    "There are some multi-step processes in the GitHub API that `GhApi` provide convenient wrappers for. The methods currently available are shown below; do not hesitate to [create an issue](https://github.com/fastai/ghapi-test/issues) or pull request if there are other processes that you'd like to see supported better."
   ]
  },
  {
   "cell_type": "markdown",
   "metadata": {},
   "source": [
    "### Releases"
   ]
  },
  {
   "cell_type": "code",
   "execution_count": null,
   "metadata": {},
   "outputs": [],
   "source": [
    "#export\n",
    "@patch\n",
    "def delete_release(self:GhApi, release):\n",
    "    \"Delete a release and its associated tag\"\n",
    "    self.repos.delete_release(release.id)\n",
    "    self.git.delete_ref(f'tags/{release.tag_name}')"
   ]
  },
  {
   "cell_type": "code",
   "execution_count": null,
   "metadata": {},
   "outputs": [
    {
     "name": "stdout",
     "output_type": "stream",
     "text": [
      "{'data': None,\n",
      " 'full_url': 'https://api.github.com/repos/fastai/ghapi-test/releases',\n",
      " 'headers': {'Accept': 'application/vnd.github.v3+json'},\n",
      " 'method': 'GET'}\n"
     ]
    }
   ],
   "source": [
    "#hide\n",
    "for rel in api.repos.list_releases(): api.delete_release(rel)"
   ]
  },
  {
   "cell_type": "code",
   "execution_count": null,
   "metadata": {},
   "outputs": [],
   "source": [
    "#export\n",
    "@patch\n",
    "def upload_file(self:GhApi, rel, fn):\n",
    "    \"Upload `fn` to endpoint for release `rel`\"\n",
    "    fn = Path(fn)\n",
    "    url = rel.upload_url.replace('{?name,label}','')\n",
    "    mime = mimetypes.guess_type(fn, False)[0] or 'application/octet-stream'\n",
    "    return self(url, 'POST', headers={'Content-Type':mime}, query = {'name':fn.name}, data=fn.read_bytes())"
   ]
  },
  {
   "cell_type": "code",
   "execution_count": null,
   "metadata": {},
   "outputs": [],
   "source": [
    "#export\n",
    "@patch\n",
    "def create_release(self:GhApi, tag_name, branch='master', name=None, body='',\n",
    "                   draft=False, prerelease=False, files=None):\n",
    "    \"Wrapper for `GhApi.repos.create_release` which also uploads `files`\"\n",
    "    if name is None: name = 'v'+tag_name\n",
    "    rel = self.repos.create_release(tag_name, target_commitish=branch, name=name, body=body,\n",
    "                                   draft=draft, prerelease=prerelease)\n",
    "    for file in listify(files): self.upload_file(rel, file)\n",
    "    return rel"
   ]
  },
  {
   "cell_type": "markdown",
   "metadata": {},
   "source": [
    "Creating a release and attaching files to it is normally a multi-stage process, so `create_release` wraps this up for you. It takes the same arguments as [`repos.create_release`](https://docs.github.com/rest/reference/repos#create-a-release), along with `files`, which can contain a single file name, or a list of file names to upload to your release:"
   ]
  },
  {
   "cell_type": "code",
   "execution_count": null,
   "metadata": {},
   "outputs": [
    {
     "name": "stdout",
     "output_type": "stream",
     "text": [
      "{'data': b'{\"tag_name\": \"0.0.1\", \"target_commitish\": \"master\", \"name\": \"v0.0.1\"'\n",
      "         b', \"body\": \"\", \"draft\": false, \"prerelease\": false}',\n",
      " 'full_url': 'https://api.github.com/repos/fastai/ghapi-test/releases',\n",
      " 'headers': {'Accept': 'application/vnd.github.v3+json'},\n",
      " 'method': 'POST'}\n",
      "{'data': b'---\\n\\ntitle: ghapi\\n\\n\\nkeywords: fastai\\nsidebar: home_sidebar\\n\\n'\n",
      "         b'summary: \"A delightful and complete interface to GitHub\\'s amazin'\n",
      "         b'g API\"\\ndescription: \"A delightful and complete interface to GitH'\n",
      "         b'ub\\'s amazing API\"\\nnb_path: \"index.ipynb\"\\n---\\n<!--\\n\\n#########'\n",
      "         b'########################################\\n### THIS FILE WAS AUTOG'\n",
      "         b'ENERATED! DO NOT EDIT! ###\\n#####################################'\n",
      "         b'############\\n# file to edit: index.ipynb\\n# command to build the '\n",
      "         b'docs after a change: nbdev_build_docs\\n\\n-->\\n\\n<div class=\"containe'\n",
      "         b'r\" id=\"notebook-container\">\\n        \\n    {% raw %}\\n    \\n<div cla'\n",
      "         b'ss=\"cell border-box-sizing code_cell rendered\">\\n\\n</div>\\n    {% e'\n",
      "         b'ndraw %}\\n\\n<div class=\"cell border-box-sizing text_cell rendered\"'\n",
      "         b'><div class=\"inner_cell\">\\n<div class=\"text_cell_render border-bo'\n",
      "         b'x-sizing rendered_html\">\\n<p><a href=\"/cli.html#ghapi\"><code>ghap'\n",
      "         b'i</code></a> provides 100% always-updated coverage of the entire <a '\n",
      "         b'href=\"https://docs.github.com/en/free-pro-team@latest/rest\">GitHub A'\n",
      "         b'PI</a>. Because we automatically convert the <a href=\"https://docs.g'\n",
      "         b'ithub.com/en/free-pro-team@latest/rest/overview/openapi-description\"'\n",
      "         b'>OpenAPI spec</a> to a Pythonic API, <a href=\"/cli.html#ghapi\"><code'\n",
      "         b'>ghapi</code></a> is always up to date with the latest changes to Gi'\n",
      "         b'tHub APIs. Furthermore, because this is all done dynamically, the en'\n",
      "         b'tire package is only 35kB in size!</p>\\n<p>Using <a href=\"/cli.ht'\n",
      "         b'ml#ghapi\"><code>ghapi</code></a>, you can automate nearly anything t'\n",
      "         b'hat you can do through the GitHub web interface or through the <code'\n",
      "         b'>git</code> client, such as:</p>\\n<ul>\\n<li>Open, list, comment on'\n",
      "         b', or modify <a href=\"https://guides.github.com/features/issues/\">iss'\n",
      "         b'ues</a> or <a href=\"https://docs.github.com/en/free-pro-team@latest/'\n",
      "         b'github/collaborating-with-issues-and-pull-requests/about-pull-reques'\n",
      "         b'ts\">pull requests</a></li>\\n<li>Create, list, or modify <a href=\"'\n",
      "         b'https://git-scm.com/book/en/v2/Git-Basics-Tagging\">git tags</a> or <'\n",
      "         b'a href=\"https://docs.github.com/en/free-pro-team@latest/github/admin'\n",
      "         b'istering-a-repository/managing-releases-in-a-repository\">GitHub rele'\n",
      "         b'ases</a>, including uploading release assets</li>\\n<li>Configure '\n",
      "         b'and run GitHub <a href=\"https://github.com/features/actions\">Actions'\n",
      "         b'</a> and <a href=\"https://docs.github.com/en/free-pro-team@latest/de'\n",
      "         b'velopers/webhooks-and-events/about-webhooks\">webhooks</a></li>\\n<'\n",
      "         b'li>Set up GitHub <a href=\"https://docs.github.com/en/free-pro-team@l'\n",
      "         b'atest/rest/reference/users\">users</a> and <a href=\"https://docs.gith'\n",
      "         b'ub.com/en/free-pro-team@latest/github/setting-up-and-managing-organi'\n",
      "         b'zations-and-teams/about-organizations\">organizations</a></li>\\n<l'\n",
      "         b'i>Manage your <a href=\"https://docs.github.com/en/free-pro-team@late'\n",
      "         b'st/rest/guides/delivering-deployments\">deployments</a></li>\\n<li>'\n",
      "         b'...and much, much more.</li>\\n</ul>\\n<p>There are two ways to use '\n",
      "         b'<a href=\"/cli.html#ghapi\"><code>ghapi</code></a>: either through Pyt'\n",
      "         b'hon, or from the command line. An overview of each is provided below'\n",
      "         b'.</p>\\n\\n</div>\\n</div>\\n</div>\\n<div class=\"cell border-box-sizi'\n",
      "         b'ng text_cell rendered\"><div class=\"inner_cell\">\\n<div class=\"text'\n",
      "         b'_cell_render border-box-sizing rendered_html\">\\n<h2 id=\"Installat'\n",
      "         b'ion\">Installation<a class=\"anchor-link\" href=\"#Installation\"> </a></'\n",
      "         b'h2>\\n</div>\\n</div>\\n</div>\\n<div class=\"cell border-box-sizing text'\n",
      "         b'_cell rendered\"><div class=\"inner_cell\">\\n<div class=\"text_cell_r'\n",
      "         b'ender border-box-sizing rendered_html\">\\n<p>To install, run eithe'\n",
      "         b'r <code>pip install ghapi</code> or <code>conda install -c fastai gh'\n",
      "         b'api</code>.</p>\\n\\n</div>\\n</div>\\n</div>\\n<div class=\"cell borde'\n",
      "         b'r-box-sizing text_cell rendered\"><div class=\"inner_cell\">\\n<div c'\n",
      "         b'lass=\"text_cell_render border-box-sizing rendered_html\">\\n<h2 id='\n",
      "         b'\"How-to-use---Python\">How to use - Python<a class=\"anchor-link\" href'\n",
      "         b'=\"#How-to-use---Python\"> </a></h2>\\n</div>\\n</div>\\n</div>\\n<div cla'\n",
      "         b'ss=\"cell border-box-sizing text_cell rendered\"><div class=\"inner_cel'\n",
      "         b'l\">\\n<div class=\"text_cell_render border-box-sizing rendered_html'\n",
      "         b'\">\\n<p>Throughout this documentation, you will see code inputs an'\n",
      "         b'd outputs shown in this format:</p>\\n\\n</div>\\n</div>\\n</div>\\n  '\n",
      "         b'  {% raw %}\\n    \\n<div class=\"cell border-box-sizing code_cell re'\n",
      "         b'ndered\">\\n<div class=\"input\">\\n\\n<div class=\"inner_cell\">\\n    <div '\n",
      "         b'class=\"input_area\">\\n<div class=\" highlight hl-ipython3\"><pre><sp'\n",
      "         b'an></span><span class=\"mi\">1</span><span class=\"o\">+</span><span cla'\n",
      "         b'ss=\"mi\">1</span>\\n</pre></div>\\n\\n    </div>\\n</div>\\n</div>\\n\\n<di'\n",
      "         b'v class=\"output_wrapper\">\\n<div class=\"output\">\\n\\n<div class=\"outp'\n",
      "         b'ut_area\">\\n\\n\\n\\n<div class=\"output_text output_subarea output_execu'\n",
      "         b'te_result\">\\n<pre>2</pre>\\n</div>\\n\\n</div>\\n\\n</div>\\n</div>\\n\\n'\n",
      "         b'</div>\\n    {% endraw %}\\n\\n<div class=\"cell border-box-sizing text'\n",
      "         b'_cell rendered\"><div class=\"inner_cell\">\\n<div class=\"text_cell_r'\n",
      "         b'ender border-box-sizing rendered_html\">\\n<p>We recommend reading '\n",
      "         b'the documentation on the <a href=\"https://ghapi.fast.ai/\">official s'\n",
      "         b'ite</a>, rather than on GitHub, since not all the functionality desc'\n",
      "         b'ribed on this page is available through the GitHub viewer.</p>\\n<'\n",
      "         b'p>All of the documentation is available directly as Jupyter Notebook'\n",
      "         b\"s, for instance the current page you're reading is available as a no\"\n",
      "         b'tebook <a href=\"https://github.com/fastai/ghapi/blob/master/index.ip'\n",
      "         b'ynb\">here</a>. To open any page as an interactive notebook in Google'\n",
      "         b' Colab, click the <em>Colab</em> badge at the top of the page.</'\n",
      "         b'p>\\n\\n</div>\\n</div>\\n</div>\\n<div class=\"cell border-box-sizing '\n",
      "         b'text_cell rendered\"><div class=\"inner_cell\">\\n<div class=\"text_ce'\n",
      "         b'll_render border-box-sizing rendered_html\">\\n<p>To access the Git'\n",
      "         b'Hub API, first create a <a href=\"/core.html#GhApi\"><code>GhApi</code'\n",
      "         b'></a> object:</p>\\n\\n</div>\\n</div>\\n</div>\\n    {% raw %}\\n    \\n<'\n",
      "         b'div class=\"cell border-box-sizing code_cell rendered\">\\n<div clas'\n",
      "         b's=\"input\">\\n\\n<div class=\"inner_cell\">\\n    <div class=\"input_area\"'\n",
      "         b'>\\n<div class=\" highlight hl-ipython3\"><pre><span></span><span cl'\n",
      "         b'ass=\"n\">api</span> <span class=\"o\">=</span> <span class=\"n\">GhApi</s'\n",
      "         b'pan><span class=\"p\">()</span>\\n</pre></div>\\n\\n    </div>\\n</div'\n",
      "         b'>\\n</div>\\n\\n</div>\\n    {% endraw %}\\n\\n<div class=\"cell border-b'\n",
      "         b'ox-sizing text_cell rendered\"><div class=\"inner_cell\">\\n<div clas'\n",
      "         b's=\"text_cell_render border-box-sizing rendered_html\">\\n<p>Every p'\n",
      "         b'art of the API includes documentation directly in the <code>api</cod'\n",
      "         b\"e> object itself. For instance, here's how to explore the groups of \"\n",
      "         b'functionality provided by the API by displaying the object:</p>\\n'\n",
      "         b'\\n</div>\\n</div>\\n</div>\\n    {% raw %}\\n    \\n<div class=\"cell bo'\n",
      "         b'rder-box-sizing code_cell rendered\">\\n<div class=\"input\">\\n\\n<div c'\n",
      "         b'lass=\"inner_cell\">\\n    <div class=\"input_area\">\\n<div class=\" hig'\n",
      "         b'hlight hl-ipython3\"><pre><span></span><span class=\"n\">api</span>'\n",
      "         b'\\n</pre></div>\\n\\n    </div>\\n</div>\\n</div>\\n\\n<div class=\"output_'\n",
      "         b'wrapper\">\\n<div class=\"output\">\\n\\n<div class=\"output_area\">\\n\\n\\n'\n",
      "         b'<div class=\"output_markdown rendered_html output_subarea output_exec'\n",
      "         b'ute_result\">\\n<ul>\\n<li><a href=\"https://docs.github.com/en/free-p'\n",
      "         b'ro-team@latest/rest/reference/actions\">actions</a></li>\\n<li><a h'\n",
      "         b'ref=\"https://docs.github.com/en/free-pro-team@latest/rest/reference/'\n",
      "         b'activity\">activity</a></li>\\n<li><a href=\"https://docs.github.com'\n",
      "         b'/en/free-pro-team@latest/rest/reference/apps\">apps</a></li>\\n<li>'\n",
      "         b'<a href=\"https://docs.github.com/en/free-pro-team@latest/rest/refere'\n",
      "         b'nce/billing\">billing</a></li>\\n<li><a href=\"https://docs.github.c'\n",
      "         b'om/en/free-pro-team@latest/rest/reference/checks\">checks</a></li'\n",
      "         b'>\\n<li><a href=\"https://docs.github.com/en/free-pro-team@latest/r'\n",
      "         b'est/reference/code_scanning\">code_scanning</a></li>\\n<li><a href='\n",
      "         b'\"https://docs.github.com/en/free-pro-team@latest/rest/reference/code'\n",
      "         b's_of_conduct\">codes_of_conduct</a></li>\\n<li><a href=\"https://doc'\n",
      "         b's.github.com/en/free-pro-team@latest/rest/reference/emojis\">emojis</'\n",
      "         b'a></li>\\n<li><a href=\"https://docs.github.com/en/free-pro-team@la'\n",
      "         b'test/rest/reference/enterprise_admin\">enterprise_admin</a></li>\\n'\n",
      "         b'<li><a href=\"https://docs.github.com/en/free-pro-team@latest/rest/re'\n",
      "         b'ference/gists\">gists</a></li>\\n<li><a href=\"https://docs.github.c'\n",
      "         b'om/en/free-pro-team@latest/rest/reference/git\">git</a></li>\\n<li>'\n",
      "         b'<a href=\"https://docs.github.com/en/free-pro-team@latest/rest/refere'\n",
      "         b'nce/gitignore\">gitignore</a></li>\\n<li><a href=\"https://docs.gith'\n",
      "         b'ub.com/en/free-pro-team@latest/rest/reference/interactions\">interact'\n",
      "         b'ions</a></li>\\n<li><a href=\"https://docs.github.com/en/free-pro-t'\n",
      "         b'eam@latest/rest/reference/issues\">issues</a></li>\\n<li><a href=\"h'\n",
      "         b'ttps://docs.github.com/en/free-pro-team@latest/rest/reference/licens'\n",
      "         b'es\">licenses</a></li>\\n<li><a href=\"https://docs.github.com/en/fr'\n",
      "         b'ee-pro-team@latest/rest/reference/markdown\">markdown</a></li>\\n<l'\n",
      "         b'i><a href=\"https://docs.github.com/en/free-pro-team@latest/rest/refe'\n",
      "         b'rence/meta\">meta</a></li>\\n<li><a href=\"https://docs.github.com/e'\n",
      "         b'n/free-pro-team@latest/rest/reference/migrations\">migrations</a></li'\n",
      "         b'>\\n<li><a href=\"https://docs.github.com/en/free-pro-team@latest/r'\n",
      "         b'est/reference/oauth_authorizations\">oauth_authorizations</a></li'\n",
      "         b'>\\n<li><a href=\"https://docs.github.com/en/free-pro-team@latest/r'\n",
      "         b'est/reference/orgs\">orgs</a></li>\\n<li><a href=\"https://docs.gith'\n",
      "         b'ub.com/en/free-pro-team@latest/rest/reference/projects\">projects</a>'\n",
      "         b'</li>\\n<li><a href=\"https://docs.github.com/en/free-pro-team@late'\n",
      "         b'st/rest/reference/pulls\">pulls</a></li>\\n<li><a href=\"https://doc'\n",
      "         b's.github.com/en/free-pro-team@latest/rest/reference/rate_limit\">rate'\n",
      "         b'_limit</a></li>\\n<li><a href=\"https://docs.github.com/en/free-pro'\n",
      "         b'-team@latest/rest/reference/reactions\">reactions</a></li>\\n<li><a'\n",
      "         b' href=\"https://docs.github.com/en/free-pro-team@latest/rest/referenc'\n",
      "         b'e/repos\">repos</a></li>\\n<li><a href=\"https://docs.github.com/en/'\n",
      "         b'free-pro-team@latest/rest/reference/scim\">scim</a></li>\\n<li><a h'\n",
      "         b'ref=\"https://docs.github.com/en/free-pro-team@latest/rest/reference/'\n",
      "         b'search\">search</a></li>\\n<li><a href=\"https://docs.github.com/en/'\n",
      "         b'free-pro-team@latest/rest/reference/teams\">teams</a></li>\\n<li><a'\n",
      "         b' href=\"https://docs.github.com/en/free-pro-team@latest/rest/referenc'\n",
      "         b'e/users\">users</a></li>\\n</ul>\\n\\n</div>\\n\\n</div>\\n\\n</div>\\n</div>'\n",
      "         b'\\n\\n</div>\\n    {% endraw %}\\n\\n<div class=\"cell border-box-sizin'\n",
      "         b'g text_cell rendered\"><div class=\"inner_cell\">\\n<div class=\"text_'\n",
      "         b'cell_render border-box-sizing rendered_html\">\\n<p>Then we can exp'\n",
      "         b'lore the endpoints provided by the API in each group, e.g. for the <'\n",
      "         b'code>git</code> group:</p>\\n\\n</div>\\n</div>\\n</div>\\n    {% raw '\n",
      "         b'%}\\n    \\n<div class=\"cell border-box-sizing code_cell rendered\">\\n'\n",
      "         b'<div class=\"input\">\\n\\n<div class=\"inner_cell\">\\n    <div class=\"in'\n",
      "         b'put_area\">\\n<div class=\" highlight hl-ipython3\"><pre><span></span'\n",
      "         b'><span class=\"n\">api</span><span class=\"o\">.</span><span class=\"n\">g'\n",
      "         b'it</span>\\n</pre></div>\\n\\n    </div>\\n</div>\\n</div>\\n\\n<div class'\n",
      "         b'=\"output_wrapper\">\\n<div class=\"output\">\\n\\n<div class=\"output_area'\n",
      "         b'\">\\n\\n\\n<div class=\"output_markdown rendered_html output_subarea ou'\n",
      "         b'tput_execute_result\">\\n<ul>\\n<li><a href=\"https://docs.github.com/'\n",
      "         b'rest/reference/git#create-a-blob\">git.create_blob</a>(owner, repo, c'\n",
      "         b'ontent, encoding): <em>Create a blob</em></li>\\n<li><a href=\"http'\n",
      "         b's://docs.github.com/rest/reference/git#get-a-blob\">git.get_blob</a>('\n",
      "         b'owner, repo, file_sha): <em>Get a blob</em></li>\\n<li><a href=\"ht'\n",
      "         b'tps://docs.github.com/rest/reference/git#create-a-commit\">git.create'\n",
      "         b'_commit</a>(owner, repo, message, tree, parents, author, committer, '\n",
      "         b'signature): <em>Create a commit</em></li>\\n<li><a href=\"https://d'\n",
      "         b'ocs.github.com/rest/reference/git#get-a-commit\">git.get_commit</a>(o'\n",
      "         b'wner, repo, commit_sha): <em>Get a commit</em></li>\\n<li><a href='\n",
      "         b'\"https://docs.github.com/rest/reference/git#list-matching-references'\n",
      "         b'\">git.list_matching_refs</a>(owner, repo, ref, per_page, page): <em>'\n",
      "         b'List matching references</em></li>\\n<li><a href=\"https://docs.git'\n",
      "         b'hub.com/rest/reference/git#get-a-reference\">git.get_ref</a>(owner, r'\n",
      "         b'epo, ref): <em>Get a reference</em></li>\\n<li><a href=\"https://do'\n",
      "         b'cs.github.com/rest/reference/git#create-a-reference\">git.create_ref<'\n",
      "         b'/a>(owner, repo, ref, sha, key): <em>Create a reference</em></li'\n",
      "         b'>\\n<li><a href=\"https://docs.github.com/rest/reference/git#update'\n",
      "         b'-a-reference\">git.update_ref</a>(owner, repo, ref, sha, force): <em>'\n",
      "         b'Update a reference</em></li>\\n<li><a href=\"https://docs.github.co'\n",
      "         b'm/rest/reference/git#delete-a-reference\">git.delete_ref</a>(owner, r'\n",
      "         b'epo, ref): <em>Delete a reference</em></li>\\n<li><a href=\"https:/'\n",
      "         b'/docs.github.com/rest/reference/git#create-a-tag-object\">git.create_'\n",
      "         b'tag</a>(owner, repo, tag, message, object, type, tagger): <em>Create'\n",
      "         b' a tag object</em></li>\\n<li><a href=\"https://docs.github.com/res'\n",
      "         b't/reference/git#get-a-tag\">git.get_tag</a>(owner, repo, tag_sha): <e'\n",
      "         b'm>Get a tag</em></li>\\n<li><a href=\"https://docs.github.com/rest/'\n",
      "         b'reference/git#create-a-tree\">git.create_tree</a>(owner, repo, tree, '\n",
      "         b'base_tree): <em>Create a tree</em></li>\\n<li><a href=\"https://doc'\n",
      "         b's.github.com/rest/reference/git#get-a-tree\">git.get_tree</a>(owner, '\n",
      "         b'repo, tree_sha, recursive): <em>Get a tree</em></li>\\n</ul>\\n\\n</di'\n",
      "         b'v>\\n\\n</div>\\n\\n</div>\\n</div>\\n\\n</div>\\n    {% endraw %}\\n\\n<div'\n",
      "         b' class=\"cell border-box-sizing text_cell rendered\"><div class=\"inner'\n",
      "         b'_cell\">\\n<div class=\"text_cell_render border-box-sizing rendered_'\n",
      "         b'html\">\\n<p>Here\\'s how to learn about an endpoint you want to use,'\n",
      "         b' e.g.:</p>\\n\\n</div>\\n</div>\\n</div>\\n    {% raw %}\\n    \\n<div cla'\n",
      "         b'ss=\"cell border-box-sizing code_cell rendered\">\\n<div class=\"inpu'\n",
      "         b't\">\\n\\n<div class=\"inner_cell\">\\n    <div class=\"input_area\">\\n<div '\n",
      "         b'class=\" highlight hl-ipython3\"><pre><span></span><span class=\"n\">api'\n",
      "         b'</span><span class=\"o\">.</span><span class=\"n\">git</span><span class'\n",
      "         b'=\"o\">.</span><span class=\"n\">get_ref</span>\\n</pre></div>\\n\\n    </'\n",
      "         b'div>\\n</div>\\n</div>\\n\\n<div class=\"output_wrapper\">\\n<div class='\n",
      "         b'\"output\">\\n\\n<div class=\"output_area\">\\n\\n\\n<div class=\"output_ma'\n",
      "         b'rkdown rendered_html output_subarea output_execute_result\">\\n<p><'\n",
      "         b'a href=\"https://docs.github.com/rest/reference/git#get-a-reference\">'\n",
      "         b'git.get_ref</a>(owner, repo, ref): <em>Get a reference</em></p>\\n'\n",
      "         b'\\n</div>\\n\\n</div>\\n\\n</div>\\n</div>\\n\\n</div>\\n    {% endraw %}\\n'\n",
      "         b'\\n<div class=\"cell border-box-sizing text_cell rendered\"><div cla'\n",
      "         b'ss=\"inner_cell\">\\n<div class=\"text_cell_render border-box-sizing '\n",
      "         b'rendered_html\">\\n<p>In Jupyter Notebook full tab completion, para'\n",
      "         b'meter lists, etc are provided for all endpoints. Endpoints are calle'\n",
      "         b'd as standard Python methods:</p>\\n\\n</div>\\n</div>\\n</div>\\n    '\n",
      "         b'{% raw %}\\n    \\n<div class=\"cell border-box-sizing code_cell rend'\n",
      "         b'ered\">\\n<div class=\"input\">\\n\\n<div class=\"inner_cell\">\\n    <div cl'\n",
      "         b'ass=\"input_area\">\\n<div class=\" highlight hl-ipython3\"><pre><span'\n",
      "         b'></span><span class=\"n\">api</span><span class=\"o\">.</span><span clas'\n",
      "         b's=\"n\">git</span><span class=\"o\">.</span><span class=\"n\">get_ref</spa'\n",
      "         b'n><span class=\"p\">(</span><span class=\"n\">owner</span><span class=\"o'\n",
      "         b'\">=</span><span class=\"s1\">&#39;fastai&#39;</span><span class=\"p\">,<'\n",
      "         b'/span> <span class=\"n\">repo</span><span class=\"o\">=</span><span clas'\n",
      "         b's=\"s1\">&#39;fastcore&#39;</span><span class=\"p\">,</span> <span class'\n",
      "         b'=\"n\">ref</span><span class=\"o\">=</span><span class=\"s1\">&#39;heads/m'\n",
      "         b'aster&#39;</span><span class=\"p\">)</span>\\n</pre></div>\\n\\n    </di'\n",
      "         b'v>\\n</div>\\n</div>\\n\\n<div class=\"output_wrapper\">\\n<div class=\"o'\n",
      "         b'utput\">\\n\\n<div class=\"output_area\">\\n\\n\\n<div class=\"output_mark'\n",
      "         b'down rendered_html output_subarea output_execute_result\">\\n<ul>\\n<'\n",
      "         b'li>ref: refs/heads/master</li>\\n<li>node_id: MDM6UmVmMjI1NDYwNTk5'\n",
      "         b'OnJlZnMvaGVhZHMvbWFzdGVy</li>\\n<li>url: <a href=\"https://api.gith'\n",
      "         b'ub.com/repos/fastai/fastcore/git/refs/heads/master\">https://api.gith'\n",
      "         b'ub.com/repos/fastai/fastcore/git/refs/heads/master</a></li>\\n<li>'\n",
      "         b'object: <ul>\\n<li>sha: 28721554e0eab1f2974237c502912f8ba42a44a0</'\n",
      "         b'li>\\n<li>type: commit</li>\\n<li>url: <a href=\"https://api.github.c'\n",
      "         b'om/repos/fastai/fastcore/git/commits/28721554e0eab1f2974237c502912f8'\n",
      "         b'ba42a44a0\">https://api.github.com/repos/fastai/fastcore/git/commits/'\n",
      "         b'28721554e0eab1f2974237c502912f8ba42a44a0</a></li>\\n</ul>\\n</li>\\n</'\n",
      "         b'ul>\\n\\n</div>\\n\\n</div>\\n\\n</div>\\n</div>\\n\\n</div>\\n    {% endraw'\n",
      "         b' %}\\n\\n<div class=\"cell border-box-sizing text_cell rendered\"><div'\n",
      "         b' class=\"inner_cell\">\\n<div class=\"text_cell_render border-box-siz'\n",
      "         b'ing rendered_html\">\\n<p>To use <a href=\"/cli.html#ghapi\"><code>gh'\n",
      "         b'api</code></a> to access authenticated operations (other than when r'\n",
      "         b'unning through GitHub Actions), you will need a GitHub <a href=\"http'\n",
      "         b's://docs.github.com/en/free-pro-team@latest/github/authenticating-to'\n",
      "         b'-github/creating-a-personal-access-token\">personal access token</a>,'\n",
      "         b\" which is a secret code used to access your account. If you don't ha\"\n",
      "         b've one, <a href=\"https://github.com/settings/tokens/new\">click here<'\n",
      "         b\"/a> to create one. You'll be asked to enter a name -- choose anythin\"\n",
      "         b'g you like, for instance \"<em>ghapi</em>\". You\\'ll also be asked '\n",
      "         b'to choose \"scopes\"; this limits what you\\'ll be able to do with t'\n",
      "         b'he API using this token. If you\\'re not sure, click \"<em>repo</em'\n",
      "         b'>\" \"<em>gist</em>\", \"<em>notifications</em>\", and \"<em>workflow</em>'\n",
      "         b'\". Then click \"Generate Token\" at the bottom of the screen, and copy'\n",
      "         b' the token (the long string of letters and numbers shown). You can e'\n",
      "         b'asily do that by clicking the little clipboard icon next to the toke'\n",
      "         b\"n.</p>\\n<p>Rather than pasting that token into every script, it's\"\n",
      "         b' easiest to save it as an environment variable. If you save it as <c'\n",
      "         b'ode>$GITHUB_TOKEN</code> then it will be most convenient, so add thi'\n",
      "         b's to the end of your <code>.bashrc</code> or <code>.zshrc</code> fil'\n",
      "         b'e:</p>\\n\\n<pre><code>export GITHUB_TOKEN=xxx\\n\\n</code></pre>\\n<p'\n",
      "         b'>...replacing the <code>xxx</code> with the token you just copied. ('\n",
      "         b\"Don't forget to <code>source</code> that file after you change it.),\"\n",
      "         b' pass a [GitHub token].</p>\\n<p>As well as your <code>token</code'\n",
      "         b'>, you can also pass any parameters you want auto-inserted into rele'\n",
      "         b'vant methods, such as <code>owner</code> and <code>repo</code>:<'\n",
      "         b'/p>\\n\\n</div>\\n</div>\\n</div>\\n    {% raw %}\\n    \\n<div class=\"cel'\n",
      "         b'l border-box-sizing code_cell rendered\">\\n<div class=\"input\">\\n\\n<d'\n",
      "         b'iv class=\"inner_cell\">\\n    <div class=\"input_area\">\\n<div class=\"'\n",
      "         b' highlight hl-ipython3\"><pre><span></span><span class=\"n\">api</span>'\n",
      "         b' <span class=\"o\">=</span> <span class=\"n\">GhApi</span><span class=\"p'\n",
      "         b'\">(</span><span class=\"n\">owner</span><span class=\"o\">=</span><span '\n",
      "         b'class=\"s1\">&#39;fastai&#39;</span><span class=\"p\">,</span> <span cla'\n",
      "         b'ss=\"n\">repo</span><span class=\"o\">=</span><span class=\"s1\">&#39;fast'\n",
      "         b'core&#39;</span><span class=\"p\">,</span> <span class=\"n\">token</span'\n",
      "         b'><span class=\"o\">=</span><span class=\"n\">github_token</span><span cl'\n",
      "         b'ass=\"p\">)</span>\\n</pre></div>\\n\\n    </div>\\n</div>\\n</div>\\n\\n</d'\n",
      "         b'iv>\\n    {% endraw %}\\n\\n<div class=\"cell border-box-sizing text_ce'\n",
      "         b'll rendered\"><div class=\"inner_cell\">\\n<div class=\"text_cell_rend'\n",
      "         b'er border-box-sizing rendered_html\">\\n<p>We can now repeat the pr'\n",
      "         b'evious method, but only need to pass <code>ref</code>:</p>\\n\\n</di'\n",
      "         b'v>\\n</div>\\n</div>\\n    {% raw %}\\n    \\n<div class=\"cell border-'\n",
      "         b'box-sizing code_cell rendered\">\\n<div class=\"input\">\\n\\n<div class='\n",
      "         b'\"inner_cell\">\\n    <div class=\"input_area\">\\n<div class=\" highligh'\n",
      "         b't hl-ipython3\"><pre><span></span><span class=\"n\">api</span><span cla'\n",
      "         b'ss=\"o\">.</span><span class=\"n\">git</span><span class=\"o\">.</span><sp'\n",
      "         b'an class=\"n\">get_ref</span><span class=\"p\">(</span><span class=\"s1\">'\n",
      "         b'&#39;heads/master&#39;</span><span class=\"p\">)</span>\\n</pre></di'\n",
      "         b'v>\\n\\n    </div>\\n</div>\\n</div>\\n\\n<div class=\"output_wrapper\">\\n<'\n",
      "         b'div class=\"output\">\\n\\n<div class=\"output_area\">\\n\\n\\n<div class='\n",
      "         b'\"output_markdown rendered_html output_subarea output_execute_result\"'\n",
      "         b'>\\n<ul>\\n<li>ref: refs/heads/master</li>\\n<li>node_id: MDM6UmVmMjI1'\n",
      "         b'NDYwNTk5OnJlZnMvaGVhZHMvbWFzdGVy</li>\\n<li>url: <a href=\"https://'\n",
      "         b'api.github.com/repos/fastai/fastcore/git/refs/heads/master\">https://'\n",
      "         b'api.github.com/repos/fastai/fastcore/git/refs/heads/master</a></'\n",
      "         b'li>\\n<li>object: <ul>\\n<li>sha: 28721554e0eab1f2974237c502912f8ba4'\n",
      "         b'2a44a0</li>\\n<li>type: commit</li>\\n<li>url: <a href=\"https://api.'\n",
      "         b'github.com/repos/fastai/fastcore/git/commits/28721554e0eab1f2974237c'\n",
      "         b'502912f8ba42a44a0\">https://api.github.com/repos/fastai/fastcore/git/'\n",
      "         b'commits/28721554e0eab1f2974237c502912f8ba42a44a0</a></li>\\n</ul>\\n'\n",
      "         b'</li>\\n</ul>\\n\\n</div>\\n\\n</div>\\n\\n</div>\\n</div>\\n\\n</div>\\n    {'\n",
      "         b'% endraw %}\\n\\n<div class=\"cell border-box-sizing text_cell render'\n",
      "         b'ed\"><div class=\"inner_cell\">\\n<div class=\"text_cell_render border'\n",
      "         b'-box-sizing rendered_html\">\\n<p>Now that we\\'ve provided our token'\n",
      "         b', we can use authenticated endpoints such as creating an issue:<'\n",
      "         b'/p>\\n<div class=\"highlight\"><pre><span></span><span class=\"n\">iss'\n",
      "         b'ue</span> <span class=\"o\">=</span> <span class=\"n\">api</span><span c'\n",
      "         b'lass=\"o\">.</span><span class=\"n\">issues</span><span class=\"o\">.</spa'\n",
      "         b'n><span class=\"n\">create</span><span class=\"p\">(</span><span class=\"'\n",
      "         b's2\">&quot;Remember to check out GhApi!&quot;</span><span class=\"p\">)'\n",
      "         b\"</span>\\n</pre></div>\\n<p>Since we've now checked out GhApi, let's\"\n",
      "         b' close this issue. \\xf0\\x9f\\x98\\x8e</p>\\n<div class=\"highlight\"><'\n",
      "         b'pre><span></span><span class=\"n\">api</span><span class=\"o\">.</span><'\n",
      "         b'span class=\"n\">issues</span><span class=\"o\">.</span><span class=\"n\">'\n",
      "         b'update</span><span class=\"p\">(</span><span class=\"n\">issue</span><sp'\n",
      "         b'an class=\"o\">.</span><span class=\"n\">number</span><span class=\"p\">,<'\n",
      "         b'/span> <span class=\"n\">state</span><span class=\"o\">=</span><span cla'\n",
      "         b'ss=\"s1\">&#39;closed&#39;</span><span class=\"p\">)</span>\\n</pre></'\n",
      "         b'div>\\n\\n</div>\\n</div>\\n</div>\\n<div class=\"cell border-box-sizin'\n",
      "         b'g text_cell rendered\"><div class=\"inner_cell\">\\n<div class=\"text_'\n",
      "         b'cell_render border-box-sizing rendered_html\">\\n<h2 id=\"How-to-use'\n",
      "         b'---command-line\">How to use - command line<a class=\"anchor-link\" hre'\n",
      "         b'f=\"#How-to-use---command-line\"> </a></h2>\\n</div>\\n</div>\\n</div>\\n<'\n",
      "         b'div class=\"cell border-box-sizing text_cell rendered\"><div class=\"in'\n",
      "         b'ner_cell\">\\n<div class=\"text_cell_render border-box-sizing render'\n",
      "         b'ed_html\">\\n<p>You can use <a href=\"/core.html#GhApi\"><code>GhApi<'\n",
      "         b'/code></a> via the command line, and can access nearly everything in'\n",
      "         b' the <a href=\"https://docs.github.com/en/free-pro-team@latest/rest\">'\n",
      "         b'GitHub API</a>. We provide an overview here of one of the command li'\n",
      "         b'ne programs, <a href=\"/cli.html#ghapi\"><code>ghapi</code></a> -- see'\n",
      "         b' the full CLI docs page for details on all the programs available.</'\n",
      "         b'p>\\n<p>We strongly recommend enabling tab completion for <a href='\n",
      "         b'\"/cli.html#ghapi\"><code>ghapi</code></a>, which you can do by placin'\n",
      "         b'g the following command at the end of your <code>~/.bashrc</code> or'\n",
      "         b' <code>~/.zshrc</code> file:</p>\\n<div class=\"highlight\"><pre><sp'\n",
      "         b'an></span><span class=\"nb\">eval</span> <span class=\"s2\">&quot;</span'\n",
      "         b'><span class=\"k\">$(</span>completion-ghapi --install<span class=\"k\">'\n",
      "         b')</span><span class=\"s2\">&quot;</span>\\n</pre></div>\\n<p>To get st'\n",
      "         b'arted with the <a href=\"/cli.html#ghapi\"><code>ghapi</code></a> comm'\n",
      "         b'and, first find the name of the operation you wish to perform, for i'\n",
      "         b'nstance by searching the <a href=\"https://ghapi.fast.ai/fullapi.html'\n",
      "         b'\">full API reference</a>.</p>\\n<p>To use <a href=\"/cli.html#ghapi'\n",
      "         b'\"><code>ghapi</code></a>, pass the method name (exactly the same as '\n",
      "         b\"you'd use in the Python API) as the first parameter, followed by any\"\n",
      "         b' positional parameters required, and then keyword arguments with \"<c'\n",
      "         b'ode>--</code>\" before each parameter name.</p>\\n<p>For instance, '\n",
      "         b'<a href=\"https://ghapi.fast.ai/fullapi.html#git\">git.get_ref</a> tak'\n",
      "         b'es three parameters: <code>owner</code>, <code>repo</code>, and <cod'\n",
      "         b'e>ref</code>. If we wish to pass the first two as positional paramet'\n",
      "         b\"ers, and the last as a named argument, then we'd call:</p>\\n<div \"\n",
      "         b'class=\"highlight\"><pre><span></span>ghapi git.get_ref fastai ghapi-t'\n",
      "         b'est --ref heads/master\\n</pre></div>\\n<p>If you have enabled tab c'\n",
      "         b\"ompletion, then after you've typed <code>ghapi g</code> try pressing\"\n",
      "         b\" <kbd>Tab</kbd>, and you'll see all the operation groups available i\"\n",
      "         b'n the GitHub API that start with <code>g</code>. If you keep typing,'\n",
      "         b\" e.g. <code>ghapi git.</code>, and hit <kbd>Tab</kbd> again, you'll \"\n",
      "         b'now see all the operations available in the <code>git</code> group, '\n",
      "         b'i.e:</p>\\n\\n<pre><code>git.create_blob git.create_commit git.creat'\n",
      "         b'e_ref git.create_tag git.create_tree git.delete_ref git.get_blob git'\n",
      "         b'.get_commit git.get_ref git.get_tag git.get_tree git.list_matching_r'\n",
      "         b'efs git.name git.update_ref git.verbs</code></pre>\\n<p>If you pas'\n",
      "         b\"s just <code>--help</code> after the operation name, you'll see a fu\"\n",
      "         b'll list of all parameters accepted, and a link to the official GitHu'\n",
      "         b'b documentation.</p>\\n<div class=\"highlight\"><pre><span></span>gh'\n",
      "         b'api --help\\n&gt; &gt;&gt; git.get_ref<span class=\"o\">(</span>owne'\n",
      "         b'r, repo, ref<span class=\"o\">)</span>\\n&gt;&gt;&gt; https://docs.g'\n",
      "         b'ithub.com/rest/reference/git#get-a-reference\\n</pre></div>\\n<p>In '\n",
      "         b'addition to <code>--help</code> and the GitHub operation parameters,'\n",
      "         b' you can also pass the following:</p>\\n<ul>\\n<li><code>--headers</'\n",
      "         b'code>: A list of extra headers to pass, JSON-encoded</li>\\n<li><c'\n",
      "         b'ode>--token</code>: A GitHub authentation token</li>\\n<li><code>-'\n",
      "         b'-debug</code>: Print requests before sending them</li>\\n</ul>\\n\\n</'\n",
      "         b'div>\\n</div>\\n</div>\\n</div>\\n \\n\\n',\n",
      " 'full_url': 'https://uploads.github.com/repos/fastai/ghapi-test/releases/35079827/assets?name=index.html',\n",
      " 'headers': {'Accept': 'application/vnd.github.v3+json',\n",
      "             'Content-type': 'text/html'},\n",
      " 'method': 'POST'}\n"
     ]
    }
   ],
   "source": [
    "rel = api.create_release('0.0.1', files=['docs/index.html'])\n",
    "test_eq(rel.name, 'v0.0.1')"
   ]
  },
  {
   "cell_type": "code",
   "execution_count": null,
   "metadata": {},
   "outputs": [
    {
     "name": "stdout",
     "output_type": "stream",
     "text": [
      "{'data': None,\n",
      " 'full_url': 'https://api.github.com/repos/fastai/ghapi-test/releases',\n",
      " 'headers': {'Accept': 'application/vnd.github.v3+json'},\n",
      " 'method': 'GET'}\n"
     ]
    }
   ],
   "source": [
    "rels = api.repos.list_releases()\n",
    "test_eq(len(rels), 1)"
   ]
  },
  {
   "cell_type": "markdown",
   "metadata": {},
   "source": [
    "We can check that our file has been uploaded; GitHub refers to them as \"assets\":"
   ]
  },
  {
   "cell_type": "code",
   "execution_count": null,
   "metadata": {},
   "outputs": [
    {
     "name": "stdout",
     "output_type": "stream",
     "text": [
      "{'data': None,\n",
      " 'full_url': 'https://api.github.com/repos/fastai/ghapi-test/releases/35079827/assets',\n",
      " 'headers': {'Accept': 'application/vnd.github.v3+json'},\n",
      " 'method': 'GET'}\n"
     ]
    }
   ],
   "source": [
    "assets = api.repos.list_release_assets(rels[0].id)\n",
    "test_eq(assets[0].name, 'index.html')\n",
    "test_eq(assets[0].content_type, 'text/html')"
   ]
  },
  {
   "cell_type": "code",
   "execution_count": null,
   "metadata": {},
   "outputs": [
    {
     "data": {
      "text/markdown": [
       "<h4 id=\"GhApi.delete_release\" class=\"doc_header\"><code>GhApi.delete_release</code><a href=\"__main__.py#L2\" class=\"source_link\" style=\"float:right\">[source]</a></h4>\n",
       "\n",
       "> <code>GhApi.delete_release</code>(**`release`**)\n",
       "\n",
       "Delete a release and its associated tag"
      ],
      "text/plain": [
       "<IPython.core.display.Markdown object>"
      ]
     },
     "metadata": {},
     "output_type": "display_data"
    }
   ],
   "source": [
    "show_doc(GhApi.delete_release)"
   ]
  },
  {
   "cell_type": "markdown",
   "metadata": {},
   "source": [
    "### Branches and tags"
   ]
  },
  {
   "cell_type": "code",
   "execution_count": null,
   "metadata": {},
   "outputs": [],
   "source": [
    "#export\n",
    "@patch\n",
    "def list_tags(self:GhApi, prefix:str=''):\n",
    "    \"List all tags, optionally filtered to those starting with `prefix`\"\n",
    "    return self.git.list_matching_refs(f'tags/{prefix}')"
   ]
  },
  {
   "cell_type": "markdown",
   "metadata": {},
   "source": [
    "With no `prefix`, all tags are listed."
   ]
  },
  {
   "cell_type": "code",
   "execution_count": null,
   "metadata": {},
   "outputs": [
    {
     "name": "stdout",
     "output_type": "stream",
     "text": [
      "{'data': None,\n",
      " 'full_url': 'https://api.github.com/repos/fastai/ghapi-test/git/matching-refs/tags/',\n",
      " 'headers': {'Accept': 'application/vnd.github.v3+json'},\n",
      " 'method': 'GET'}\n"
     ]
    }
   ],
   "source": [
    "test_eq(len(api.list_tags()), 1)"
   ]
  },
  {
   "cell_type": "markdown",
   "metadata": {},
   "source": [
    "Using the full tag name will return just that tag."
   ]
  },
  {
   "cell_type": "code",
   "execution_count": null,
   "metadata": {},
   "outputs": [
    {
     "name": "stdout",
     "output_type": "stream",
     "text": [
      "{'data': None,\n",
      " 'full_url': 'https://api.github.com/repos/fastai/ghapi-test/git/matching-refs/tags/0.0.1',\n",
      " 'headers': {'Accept': 'application/vnd.github.v3+json'},\n",
      " 'method': 'GET'}\n"
     ]
    }
   ],
   "source": [
    "test_eq(len(api.list_tags(rel.tag_name)), 1)"
   ]
  },
  {
   "cell_type": "code",
   "execution_count": null,
   "metadata": {},
   "outputs": [],
   "source": [
    "#export\n",
    "@patch\n",
    "def list_branches(self:GhApi, prefix:str=''):\n",
    "    \"List all branches, optionally filtered to those starting with `prefix`\"\n",
    "    return self.git.list_matching_refs(f'heads/{prefix}')"
   ]
  },
  {
   "cell_type": "markdown",
   "metadata": {},
   "source": [
    "Branches can be listed in the exactly the same way as tags."
   ]
  },
  {
   "cell_type": "code",
   "execution_count": null,
   "metadata": {},
   "outputs": [
    {
     "name": "stdout",
     "output_type": "stream",
     "text": [
      "{'data': None,\n",
      " 'full_url': 'https://api.github.com/repos/fastai/ghapi-test/git/matching-refs/heads/master',\n",
      " 'headers': {'Accept': 'application/vnd.github.v3+json'},\n",
      " 'method': 'GET'}\n"
     ]
    }
   ],
   "source": [
    "test_eq(len(api.list_branches('master')), 1)"
   ]
  },
  {
   "cell_type": "markdown",
   "metadata": {},
   "source": [
    "We can delete our release and confirm that it is removed:"
   ]
  },
  {
   "cell_type": "code",
   "execution_count": null,
   "metadata": {},
   "outputs": [
    {
     "name": "stdout",
     "output_type": "stream",
     "text": [
      "{'data': None,\n",
      " 'full_url': 'https://api.github.com/repos/fastai/ghapi-test/releases/35079827',\n",
      " 'headers': {'Accept': 'application/vnd.github.v3+json'},\n",
      " 'method': 'DELETE'}\n",
      "{'data': None,\n",
      " 'full_url': 'https://api.github.com/repos/fastai/ghapi-test/git/refs/tags/0.0.1',\n",
      " 'headers': {'Accept': 'application/vnd.github.v3+json'},\n",
      " 'method': 'DELETE'}\n",
      "{'data': None,\n",
      " 'full_url': 'https://api.github.com/repos/fastai/ghapi-test/releases',\n",
      " 'headers': {'Accept': 'application/vnd.github.v3+json'},\n",
      " 'method': 'GET'}\n"
     ]
    }
   ],
   "source": [
    "api.delete_release(rels[0])\n",
    "test_eq(len(api.repos.list_releases()), 0)"
   ]
  },
  {
   "cell_type": "code",
   "execution_count": null,
   "metadata": {},
   "outputs": [],
   "source": [
    "#export\n",
    "# See https://stackoverflow.com/questions/9765453\n",
    "EMPTY_TREE_SHA = '4b825dc642cb6eb9a060e54bf8d69288fbee4904'"
   ]
  },
  {
   "cell_type": "code",
   "execution_count": null,
   "metadata": {},
   "outputs": [],
   "source": [
    "#export\n",
    "@patch\n",
    "def create_branch_empty(self:GhApi, branch):\n",
    "    c = self.git.create_commit(f'create {branch}', EMPTY_TREE_SHA)\n",
    "    return self.git.create_ref(f'refs/heads/{branch}', c.sha)"
   ]
  },
  {
   "cell_type": "code",
   "execution_count": null,
   "metadata": {},
   "outputs": [
    {
     "name": "stdout",
     "output_type": "stream",
     "text": [
      "{'data': b'{\"message\": \"create testme\", \"tree\": \"4b825dc642cb6eb9a060e54bf8d692'\n",
      "         b'88fbee4904\"}',\n",
      " 'full_url': 'https://api.github.com/repos/fastai/ghapi-test/git/commits',\n",
      " 'headers': {'Accept': 'application/vnd.github.v3+json'},\n",
      " 'method': 'POST'}\n",
      "{'data': b'{\"ref\": \"refs/heads/testme\", \"sha\": \"6ead5d26729238add90de4c12995b11'\n",
      "         b'90a4fe66d\"}',\n",
      " 'full_url': 'https://api.github.com/repos/fastai/ghapi-test/git/refs',\n",
      " 'headers': {'Accept': 'application/vnd.github.v3+json'},\n",
      " 'method': 'POST'}\n",
      "{'data': None,\n",
      " 'full_url': 'https://api.github.com/repos/fastai/ghapi-test/git/matching-refs/heads/testme',\n",
      " 'headers': {'Accept': 'application/vnd.github.v3+json'},\n",
      " 'method': 'GET'}\n"
     ]
    }
   ],
   "source": [
    "ref = api.create_branch_empty(\"testme\")\n",
    "test_eq(len(api.list_branches('testme')), 1)"
   ]
  },
  {
   "cell_type": "code",
   "execution_count": null,
   "metadata": {},
   "outputs": [],
   "source": [
    "#export\n",
    "@patch\n",
    "def delete_tag(self:GhApi, tag:str):\n",
    "    \"Delete a tag\"\n",
    "    return self.git.delete_ref(f'tags/{tag}')"
   ]
  },
  {
   "cell_type": "code",
   "execution_count": null,
   "metadata": {},
   "outputs": [],
   "source": [
    "#export\n",
    "@patch\n",
    "def delete_branch(self:GhApi, branch:str):\n",
    "    \"Delete a branch\"\n",
    "    return self.git.delete_ref(f'heads/{branch}')"
   ]
  },
  {
   "cell_type": "code",
   "execution_count": null,
   "metadata": {},
   "outputs": [
    {
     "name": "stdout",
     "output_type": "stream",
     "text": [
      "{'data': None,\n",
      " 'full_url': 'https://api.github.com/repos/fastai/ghapi-test/git/refs/heads/testme',\n",
      " 'headers': {'Accept': 'application/vnd.github.v3+json'},\n",
      " 'method': 'DELETE'}\n",
      "{'data': None,\n",
      " 'full_url': 'https://api.github.com/repos/fastai/ghapi-test/git/matching-refs/heads/testme',\n",
      " 'headers': {'Accept': 'application/vnd.github.v3+json'},\n",
      " 'method': 'GET'}\n"
     ]
    }
   ],
   "source": [
    "api.delete_branch('testme')\n",
    "test_eq(len(api.list_branches('testme')), 0)"
   ]
  },
  {
   "cell_type": "code",
   "execution_count": null,
   "metadata": {},
   "outputs": [],
   "source": [
    "#export\n",
    "@patch\n",
    "def get_branch(self:GhApi, branch=None):\n",
    "    branch = branch or self.repos.get().default_branch\n",
    "    return self.list_branches(branch)[0]"
   ]
  },
  {
   "cell_type": "markdown",
   "metadata": {},
   "source": [
    "### Content (git files)"
   ]
  },
  {
   "cell_type": "code",
   "execution_count": null,
   "metadata": {},
   "outputs": [],
   "source": [
    "#export\n",
    "@patch\n",
    "def list_files(self:GhApi, branch=None):\n",
    "    ref = self.get_branch(branch)\n",
    "    res = self.git.get_tree(ref.object.sha).tree\n",
    "    return {o.path:o for o in res}"
   ]
  },
  {
   "cell_type": "code",
   "execution_count": null,
   "metadata": {},
   "outputs": [
    {
     "name": "stdout",
     "output_type": "stream",
     "text": [
      "{'data': None,\n",
      " 'full_url': 'https://api.github.com/repos/fastai/ghapi-test',\n",
      " 'headers': {'Accept': 'application/vnd.github.nebula-preview+json'},\n",
      " 'method': 'GET'}\n",
      "{'data': None,\n",
      " 'full_url': 'https://api.github.com/repos/fastai/ghapi-test/git/matching-refs/heads/master',\n",
      " 'headers': {'Accept': 'application/vnd.github.v3+json'},\n",
      " 'method': 'GET'}\n",
      "{'data': None,\n",
      " 'full_url': 'https://api.github.com/repos/fastai/ghapi-test/git/trees/f9a76973ef7dc714cc300ab0feabb8e92f8823d9',\n",
      " 'headers': {'Accept': 'application/vnd.github.v3+json'},\n",
      " 'method': 'GET'}\n"
     ]
    },
    {
     "data": {
      "text/markdown": [
       "- path: README.md\n",
       "- mode: 100644\n",
       "- type: blob\n",
       "- sha: 9b33a4362dda251455f7e4d99554467d1e6ba024\n",
       "- size: 66\n",
       "- url: https://api.github.com/repos/fastai/ghapi-test/git/blobs/9b33a4362dda251455f7e4d99554467d1e6ba024"
      ],
      "text/plain": [
       "- path: README.md\n",
       "- mode: 100644\n",
       "- type: blob\n",
       "- sha: 9b33a4362dda251455f7e4d99554467d1e6ba024\n",
       "- size: 66\n",
       "- url: https://api.github.com/repos/fastai/ghapi-test/git/blobs/9b33a4362dda251455f7e4d99554467d1e6ba024"
      ]
     },
     "execution_count": null,
     "metadata": {},
     "output_type": "execute_result"
    }
   ],
   "source": [
    "files = api.list_files()\n",
    "files['README.md']"
   ]
  },
  {
   "cell_type": "code",
   "execution_count": null,
   "metadata": {},
   "outputs": [],
   "source": [
    "#export\n",
    "@patch\n",
    "def get_content(self:GhApi, path):\n",
    "    res = self.repos.get_content(path)\n",
    "    return base64.b64decode(res.content)"
   ]
  },
  {
   "cell_type": "code",
   "execution_count": null,
   "metadata": {},
   "outputs": [
    {
     "name": "stdout",
     "output_type": "stream",
     "text": [
      "{'data': None,\n",
      " 'full_url': 'https://api.github.com/repos/fastai/ghapi-test/contents/README.md',\n",
      " 'headers': {'Accept': 'application/vnd.github.v3+json'},\n",
      " 'method': 'GET'}\n"
     ]
    }
   ],
   "source": [
    "readme = api.get_content('README.md').decode()\n",
    "assert 'ghapi' in readme"
   ]
  },
  {
   "cell_type": "code",
   "execution_count": null,
   "metadata": {},
   "outputs": [],
   "source": [
    "#export\n",
    "@patch\n",
    "def update_contents(self:GhApi, path, message=None, content=None,\n",
    "                    sha=None, branch=None, committer=None, author=None):\n",
    "    if sha is None: sha = api.list_files()[path].sha\n",
    "    if not isinstance(content,bytes): content = content.encode()\n",
    "    content = base64.b64encode(content).decode()\n",
    "    return api.repos.create_or_update_file_contents(path, message, content=content,\n",
    "        sha=sha, branch=branch, committer=committer, author=author)"
   ]
  },
  {
   "cell_type": "code",
   "execution_count": null,
   "metadata": {},
   "outputs": [
    {
     "name": "stdout",
     "output_type": "stream",
     "text": [
      "{'data': None,\n",
      " 'full_url': 'https://api.github.com/repos/fastai/ghapi-test',\n",
      " 'headers': {'Accept': 'application/vnd.github.nebula-preview+json'},\n",
      " 'method': 'GET'}\n",
      "{'data': None,\n",
      " 'full_url': 'https://api.github.com/repos/fastai/ghapi-test/git/matching-refs/heads/master',\n",
      " 'headers': {'Accept': 'application/vnd.github.v3+json'},\n",
      " 'method': 'GET'}\n",
      "{'data': None,\n",
      " 'full_url': 'https://api.github.com/repos/fastai/ghapi-test/git/trees/f9a76973ef7dc714cc300ab0feabb8e92f8823d9',\n",
      " 'headers': {'Accept': 'application/vnd.github.v3+json'},\n",
      " 'method': 'GET'}\n",
      "{'data': b'{\"message\": \"Update README\", \"content\": \"IyBnaGFwaS10ZXN0CgpUZXN0aW5'\n",
      "         b'nIHJlcG8gZm9yIGdoYXBpLiBZb3UgY2FuIHNhZmVseSBpZ25vcmUgdGhpcy4KZm9vYmF'\n",
      "         b'y\", \"sha\": \"9b33a4362dda251455f7e4d99554467d1e6ba024\"}',\n",
      " 'full_url': 'https://api.github.com/repos/fastai/ghapi-test/contents/README.md',\n",
      " 'headers': {'Accept': 'application/vnd.github.v3+json'},\n",
      " 'method': 'PUT'}\n"
     ]
    },
    {
     "data": {
      "text/plain": [
       "72"
      ]
     },
     "execution_count": null,
     "metadata": {},
     "output_type": "execute_result"
    }
   ],
   "source": [
    "res = api.update_contents('README.md', \"Update README\", content=readme+\"foobar\")\n",
    "res.content.size"
   ]
  },
  {
   "cell_type": "code",
   "execution_count": null,
   "metadata": {},
   "outputs": [
    {
     "name": "stdout",
     "output_type": "stream",
     "text": [
      "{'data': None,\n",
      " 'full_url': 'https://api.github.com/repos/fastai/ghapi-test/contents/README.md',\n",
      " 'headers': {'Accept': 'application/vnd.github.v3+json'},\n",
      " 'method': 'GET'}\n",
      "{'data': None,\n",
      " 'full_url': 'https://api.github.com/repos/fastai/ghapi-test',\n",
      " 'headers': {'Accept': 'application/vnd.github.nebula-preview+json'},\n",
      " 'method': 'GET'}\n",
      "{'data': None,\n",
      " 'full_url': 'https://api.github.com/repos/fastai/ghapi-test/git/matching-refs/heads/master',\n",
      " 'headers': {'Accept': 'application/vnd.github.v3+json'},\n",
      " 'method': 'GET'}\n",
      "{'data': None,\n",
      " 'full_url': 'https://api.github.com/repos/fastai/ghapi-test/git/trees/9bfc03f07d70d14944fca4464443fcf8da8dd444',\n",
      " 'headers': {'Accept': 'application/vnd.github.v3+json'},\n",
      " 'method': 'GET'}\n",
      "{'data': b'{\"message\": \"Revert README\", \"content\": \"IyBnaGFwaS10ZXN0CgpUZXN0aW5'\n",
      "         b'nIHJlcG8gZm9yIGdoYXBpLiBZb3UgY2FuIHNhZmVseSBpZ25vcmUgdGhpcy4K\", \"sha'\n",
      "         b'\": \"eaea0f2698e76c75602058bf4e2e9fd7940ac4e3\"}',\n",
      " 'full_url': 'https://api.github.com/repos/fastai/ghapi-test/contents/README.md',\n",
      " 'headers': {'Accept': 'application/vnd.github.v3+json'},\n",
      " 'method': 'PUT'}\n"
     ]
    }
   ],
   "source": [
    "readme = api.get_content('README.md').decode()\n",
    "assert 'foobar' in readme\n",
    "api.update_contents('README.md', \"Revert README\", content=readme[:-6]);"
   ]
  },
  {
   "cell_type": "code",
   "execution_count": null,
   "metadata": {},
   "outputs": [],
   "source": [
    "#export\n",
    "@patch\n",
    "def enable_pages(self:GhApi, branch=None, path=\"/\"):\n",
    "    \"Enable or update pages for a repo to point to a `branch` and `path`.\"\n",
    "    if path not in ('/docs','/'): raise Exception(\"path not in ('/docs','/')\")\n",
    "    r = self.repos.get()\n",
    "    branch = branch or r.default_branch\n",
    "    source = {\"branch\": branch, \"path\": path}\n",
    "    if r.has_pages: return self.repos.update_information_about_pages_site(source=source)\n",
    "    if len(self.list_branches(branch))==0: self.create_branch_empty(branch)\n",
    "    return self.repos.create_pages_site(source=source)"
   ]
  },
  {
   "cell_type": "markdown",
   "metadata": {},
   "source": [
    "`branch` is set to the default branch if `None`. `path` must be `/docs` or `/`."
   ]
  },
  {
   "cell_type": "code",
   "execution_count": null,
   "metadata": {},
   "outputs": [
    {
     "name": "stdout",
     "output_type": "stream",
     "text": [
      "{'data': None,\n",
      " 'full_url': 'https://api.github.com/repos/fastai/ghapi-test',\n",
      " 'headers': {'Accept': 'application/vnd.github.nebula-preview+json'},\n",
      " 'method': 'GET'}\n",
      "{'data': None,\n",
      " 'full_url': 'https://api.github.com/repos/fastai/ghapi-test/git/matching-refs/heads/new-branch',\n",
      " 'headers': {'Accept': 'application/vnd.github.v3+json'},\n",
      " 'method': 'GET'}\n",
      "{'data': b'{\"message\": \"create new-branch\", \"tree\": \"4b825dc642cb6eb9a060e54bf8'\n",
      "         b'd69288fbee4904\"}',\n",
      " 'full_url': 'https://api.github.com/repos/fastai/ghapi-test/git/commits',\n",
      " 'headers': {'Accept': 'application/vnd.github.v3+json'},\n",
      " 'method': 'POST'}\n",
      "{'data': b'{\"ref\": \"refs/heads/new-branch\", \"sha\": \"6ef9506361f90c68804fac4eb97'\n",
      "         b'2eb958cef9ff5\"}',\n",
      " 'full_url': 'https://api.github.com/repos/fastai/ghapi-test/git/refs',\n",
      " 'headers': {'Accept': 'application/vnd.github.v3+json'},\n",
      " 'method': 'POST'}\n",
      "{'data': b'{\"source\": {\"branch\": \"new-branch\", \"path\": \"/\"}}',\n",
      " 'full_url': 'https://api.github.com/repos/fastai/ghapi-test/pages',\n",
      " 'headers': {'Accept': 'application/vnd.github.switcheroo-preview+json'},\n",
      " 'method': 'POST'}\n"
     ]
    },
    {
     "ename": "HTTPError",
     "evalue": "HTTP Error 500: Internal Server Error",
     "output_type": "error",
     "traceback": [
      "\u001b[0;31m---------------------------------------------------------------------------\u001b[0m",
      "\u001b[0;31mHTTPError\u001b[0m                                 Traceback (most recent call last)",
      "\u001b[0;32m<ipython-input-78-420f68127e2e>\u001b[0m in \u001b[0;36m<module>\u001b[0;34m\u001b[0m\n\u001b[0;32m----> 1\u001b[0;31m \u001b[0mres\u001b[0m \u001b[0;34m=\u001b[0m \u001b[0mapi\u001b[0m\u001b[0;34m.\u001b[0m\u001b[0menable_pages\u001b[0m\u001b[0;34m(\u001b[0m\u001b[0mbranch\u001b[0m\u001b[0;34m=\u001b[0m\u001b[0;34m'new-branch'\u001b[0m\u001b[0;34m,\u001b[0m \u001b[0mpath\u001b[0m\u001b[0;34m=\u001b[0m\u001b[0;34m'/'\u001b[0m\u001b[0;34m)\u001b[0m\u001b[0;34m\u001b[0m\u001b[0;34m\u001b[0m\u001b[0m\n\u001b[0m\u001b[1;32m      2\u001b[0m \u001b[0mtest_eq\u001b[0m\u001b[0;34m(\u001b[0m\u001b[0mres\u001b[0m\u001b[0;34m.\u001b[0m\u001b[0msource\u001b[0m\u001b[0;34m.\u001b[0m\u001b[0mbranch\u001b[0m\u001b[0;34m,\u001b[0m \u001b[0;34m'new-branch'\u001b[0m\u001b[0;34m)\u001b[0m\u001b[0;34m\u001b[0m\u001b[0;34m\u001b[0m\u001b[0m\n\u001b[1;32m      3\u001b[0m \u001b[0mtest_eq\u001b[0m\u001b[0;34m(\u001b[0m\u001b[0mres\u001b[0m\u001b[0;34m.\u001b[0m\u001b[0msource\u001b[0m\u001b[0;34m.\u001b[0m\u001b[0mpath\u001b[0m\u001b[0;34m,\u001b[0m \u001b[0;34m'/'\u001b[0m\u001b[0;34m)\u001b[0m\u001b[0;34m\u001b[0m\u001b[0;34m\u001b[0m\u001b[0m\n\u001b[1;32m      4\u001b[0m \u001b[0mapi\u001b[0m\u001b[0;34m.\u001b[0m\u001b[0mrepos\u001b[0m\u001b[0;34m.\u001b[0m\u001b[0mdelete_pages_site\u001b[0m\u001b[0;34m(\u001b[0m\u001b[0;34m)\u001b[0m\u001b[0;34m\u001b[0m\u001b[0;34m\u001b[0m\u001b[0m\n\u001b[1;32m      5\u001b[0m \u001b[0mapi\u001b[0m\u001b[0;34m.\u001b[0m\u001b[0mdelete_branch\u001b[0m\u001b[0;34m(\u001b[0m\u001b[0;34m'new-branch'\u001b[0m\u001b[0;34m)\u001b[0m\u001b[0;34m\u001b[0m\u001b[0;34m\u001b[0m\u001b[0m\n",
      "\u001b[0;32m<ipython-input-77-046cb4100996>\u001b[0m in \u001b[0;36menable_pages\u001b[0;34m(self, branch, path)\u001b[0m\n\u001b[1;32m      9\u001b[0m     \u001b[0;32mif\u001b[0m \u001b[0mr\u001b[0m\u001b[0;34m.\u001b[0m\u001b[0mhas_pages\u001b[0m\u001b[0;34m:\u001b[0m \u001b[0;32mreturn\u001b[0m \u001b[0mself\u001b[0m\u001b[0;34m.\u001b[0m\u001b[0mrepos\u001b[0m\u001b[0;34m.\u001b[0m\u001b[0mupdate_information_about_pages_site\u001b[0m\u001b[0;34m(\u001b[0m\u001b[0msource\u001b[0m\u001b[0;34m=\u001b[0m\u001b[0msource\u001b[0m\u001b[0;34m)\u001b[0m\u001b[0;34m\u001b[0m\u001b[0;34m\u001b[0m\u001b[0m\n\u001b[1;32m     10\u001b[0m     \u001b[0;32mif\u001b[0m \u001b[0mlen\u001b[0m\u001b[0;34m(\u001b[0m\u001b[0mself\u001b[0m\u001b[0;34m.\u001b[0m\u001b[0mlist_branches\u001b[0m\u001b[0;34m(\u001b[0m\u001b[0mbranch\u001b[0m\u001b[0;34m)\u001b[0m\u001b[0;34m)\u001b[0m\u001b[0;34m==\u001b[0m\u001b[0;36m0\u001b[0m\u001b[0;34m:\u001b[0m \u001b[0mself\u001b[0m\u001b[0;34m.\u001b[0m\u001b[0mcreate_branch_empty\u001b[0m\u001b[0;34m(\u001b[0m\u001b[0mbranch\u001b[0m\u001b[0;34m)\u001b[0m\u001b[0;34m\u001b[0m\u001b[0;34m\u001b[0m\u001b[0m\n\u001b[0;32m---> 11\u001b[0;31m     \u001b[0;32mreturn\u001b[0m \u001b[0mself\u001b[0m\u001b[0;34m.\u001b[0m\u001b[0mrepos\u001b[0m\u001b[0;34m.\u001b[0m\u001b[0mcreate_pages_site\u001b[0m\u001b[0;34m(\u001b[0m\u001b[0msource\u001b[0m\u001b[0;34m=\u001b[0m\u001b[0msource\u001b[0m\u001b[0;34m)\u001b[0m\u001b[0;34m\u001b[0m\u001b[0;34m\u001b[0m\u001b[0m\n\u001b[0m",
      "\u001b[0;32m<ipython-input-7-e546d97ea984>\u001b[0m in \u001b[0;36m__call__\u001b[0;34m(self, headers, *args, **kwargs)\u001b[0m\n\u001b[1;32m     19\u001b[0m         route_p,query_p,data_p = [{p:kwargs[p] for p in o if p in kwargs}\n\u001b[1;32m     20\u001b[0m                                  for o in (self.route_ps,self.params,d)]\n\u001b[0;32m---> 21\u001b[0;31m         \u001b[0;32mreturn\u001b[0m \u001b[0mself\u001b[0m\u001b[0;34m.\u001b[0m\u001b[0mclient\u001b[0m\u001b[0;34m(\u001b[0m\u001b[0mself\u001b[0m\u001b[0;34m.\u001b[0m\u001b[0mpath\u001b[0m\u001b[0;34m,\u001b[0m \u001b[0mself\u001b[0m\u001b[0;34m.\u001b[0m\u001b[0mverb\u001b[0m\u001b[0;34m,\u001b[0m \u001b[0mheaders\u001b[0m\u001b[0;34m=\u001b[0m\u001b[0mheaders\u001b[0m\u001b[0;34m,\u001b[0m \u001b[0mroute\u001b[0m\u001b[0;34m=\u001b[0m\u001b[0mroute_p\u001b[0m\u001b[0;34m,\u001b[0m \u001b[0mquery\u001b[0m\u001b[0;34m=\u001b[0m\u001b[0mquery_p\u001b[0m\u001b[0;34m,\u001b[0m \u001b[0mdata\u001b[0m\u001b[0;34m=\u001b[0m\u001b[0mdata_p\u001b[0m\u001b[0;34m)\u001b[0m\u001b[0;34m\u001b[0m\u001b[0;34m\u001b[0m\u001b[0m\n\u001b[0m\u001b[1;32m     22\u001b[0m \u001b[0;34m\u001b[0m\u001b[0m\n\u001b[1;32m     23\u001b[0m     \u001b[0;32mdef\u001b[0m \u001b[0m__str__\u001b[0m\u001b[0;34m(\u001b[0m\u001b[0mself\u001b[0m\u001b[0;34m)\u001b[0m\u001b[0;34m:\u001b[0m \u001b[0;32mreturn\u001b[0m \u001b[0;34mf'{self.tag}.{self.name}{signature(self)}\\n{self.doc_url}'\u001b[0m\u001b[0;34m\u001b[0m\u001b[0;34m\u001b[0m\u001b[0m\n",
      "\u001b[0;32m<ipython-input-10-dc4bac5731e2>\u001b[0m in \u001b[0;36m__call__\u001b[0;34m(self, path, verb, headers, route, query, data)\u001b[0m\n\u001b[1;32m     17\u001b[0m         \u001b[0mheaders\u001b[0m \u001b[0;34m=\u001b[0m \u001b[0;34m{\u001b[0m\u001b[0;34m**\u001b[0m\u001b[0mself\u001b[0m\u001b[0;34m.\u001b[0m\u001b[0mheaders\u001b[0m\u001b[0;34m,\u001b[0m\u001b[0;34m**\u001b[0m\u001b[0;34m(\u001b[0m\u001b[0mheaders\u001b[0m \u001b[0;32mor\u001b[0m \u001b[0;34m{\u001b[0m\u001b[0;34m}\u001b[0m\u001b[0;34m)\u001b[0m\u001b[0;34m}\u001b[0m\u001b[0;34m\u001b[0m\u001b[0;34m\u001b[0m\u001b[0m\n\u001b[1;32m     18\u001b[0m         \u001b[0;32mif\u001b[0m \u001b[0mpath\u001b[0m\u001b[0;34m[\u001b[0m\u001b[0;34m:\u001b[0m\u001b[0;36m7\u001b[0m\u001b[0;34m]\u001b[0m \u001b[0;32mnot\u001b[0m \u001b[0;32min\u001b[0m \u001b[0;34m(\u001b[0m\u001b[0;34m'http://'\u001b[0m\u001b[0;34m,\u001b[0m\u001b[0;34m'https:/'\u001b[0m\u001b[0;34m)\u001b[0m\u001b[0;34m:\u001b[0m \u001b[0mpath\u001b[0m \u001b[0;34m=\u001b[0m \u001b[0mGH_HOST\u001b[0m\u001b[0;34m+\u001b[0m\u001b[0mpath\u001b[0m\u001b[0;34m\u001b[0m\u001b[0;34m\u001b[0m\u001b[0m\n\u001b[0;32m---> 19\u001b[0;31m         res,hdrs = urlsend(path, verb, headers=headers or None, debug=self.debug, return_headers=True,\n\u001b[0m\u001b[1;32m     20\u001b[0m                            route=route or None, query=query or None, data=data or None)\n\u001b[1;32m     21\u001b[0m         \u001b[0;32mif\u001b[0m \u001b[0;34m'X-RateLimit-Remaining'\u001b[0m \u001b[0;32min\u001b[0m \u001b[0mhdrs\u001b[0m\u001b[0;34m:\u001b[0m\u001b[0;34m\u001b[0m\u001b[0;34m\u001b[0m\u001b[0m\n",
      "\u001b[0;32m~/github/fastcore/fastcore/net.py\u001b[0m in \u001b[0;36murlsend\u001b[0;34m(url, verb, headers, route, query, data, json_data, return_json, return_headers, debug)\u001b[0m\n\u001b[1;32m    173\u001b[0m     \u001b[0mreq\u001b[0m \u001b[0;34m=\u001b[0m \u001b[0murlrequest\u001b[0m\u001b[0;34m(\u001b[0m\u001b[0murl\u001b[0m\u001b[0;34m,\u001b[0m \u001b[0mverb\u001b[0m\u001b[0;34m,\u001b[0m \u001b[0mheaders\u001b[0m\u001b[0;34m,\u001b[0m \u001b[0mroute\u001b[0m\u001b[0;34m=\u001b[0m\u001b[0mroute\u001b[0m\u001b[0;34m,\u001b[0m \u001b[0mquery\u001b[0m\u001b[0;34m=\u001b[0m\u001b[0mquery\u001b[0m\u001b[0;34m,\u001b[0m \u001b[0mdata\u001b[0m\u001b[0;34m=\u001b[0m\u001b[0mdata\u001b[0m\u001b[0;34m,\u001b[0m \u001b[0mjson_data\u001b[0m\u001b[0;34m=\u001b[0m\u001b[0mjson_data\u001b[0m\u001b[0;34m)\u001b[0m\u001b[0;34m\u001b[0m\u001b[0;34m\u001b[0m\u001b[0m\n\u001b[1;32m    174\u001b[0m     \u001b[0;32mif\u001b[0m \u001b[0mdebug\u001b[0m\u001b[0;34m:\u001b[0m \u001b[0mdebug\u001b[0m\u001b[0;34m(\u001b[0m\u001b[0mreq\u001b[0m\u001b[0;34m)\u001b[0m\u001b[0;34m\u001b[0m\u001b[0;34m\u001b[0m\u001b[0m\n\u001b[0;32m--> 175\u001b[0;31m     \u001b[0;32mreturn\u001b[0m \u001b[0murlread\u001b[0m\u001b[0;34m(\u001b[0m\u001b[0mreq\u001b[0m\u001b[0;34m,\u001b[0m \u001b[0mreturn_json\u001b[0m\u001b[0;34m=\u001b[0m\u001b[0mreturn_json\u001b[0m\u001b[0;34m,\u001b[0m \u001b[0mreturn_headers\u001b[0m\u001b[0;34m=\u001b[0m\u001b[0mreturn_headers\u001b[0m\u001b[0;34m)\u001b[0m\u001b[0;34m\u001b[0m\u001b[0;34m\u001b[0m\u001b[0m\n\u001b[0m\u001b[1;32m    176\u001b[0m \u001b[0;34m\u001b[0m\u001b[0m\n\u001b[1;32m    177\u001b[0m \u001b[0;31m# Cell\u001b[0m\u001b[0;34m\u001b[0m\u001b[0;34m\u001b[0m\u001b[0;34m\u001b[0m\u001b[0m\n",
      "\u001b[0;32m~/github/fastcore/fastcore/net.py\u001b[0m in \u001b[0;36murlread\u001b[0;34m(url, data, headers, decode, return_json, return_headers, **kwargs)\u001b[0m\n\u001b[1;32m    108\u001b[0m     \u001b[0;34m\"Retrieve `url`, using `data` dict or `kwargs` to `POST` if present\"\u001b[0m\u001b[0;34m\u001b[0m\u001b[0;34m\u001b[0m\u001b[0m\n\u001b[1;32m    109\u001b[0m     \u001b[0;32mtry\u001b[0m\u001b[0;34m:\u001b[0m\u001b[0;34m\u001b[0m\u001b[0;34m\u001b[0m\u001b[0m\n\u001b[0;32m--> 110\u001b[0;31m         \u001b[0;32mwith\u001b[0m \u001b[0murlopen\u001b[0m\u001b[0;34m(\u001b[0m\u001b[0murl\u001b[0m\u001b[0;34m,\u001b[0m \u001b[0mdata\u001b[0m\u001b[0;34m=\u001b[0m\u001b[0mdata\u001b[0m\u001b[0;34m,\u001b[0m \u001b[0mheaders\u001b[0m\u001b[0;34m=\u001b[0m\u001b[0mheaders\u001b[0m\u001b[0;34m,\u001b[0m \u001b[0;34m**\u001b[0m\u001b[0mkwargs\u001b[0m\u001b[0;34m)\u001b[0m \u001b[0;32mas\u001b[0m \u001b[0mu\u001b[0m\u001b[0;34m:\u001b[0m \u001b[0mres\u001b[0m\u001b[0;34m,\u001b[0m\u001b[0mhdrs\u001b[0m \u001b[0;34m=\u001b[0m \u001b[0mu\u001b[0m\u001b[0;34m.\u001b[0m\u001b[0mread\u001b[0m\u001b[0;34m(\u001b[0m\u001b[0;34m)\u001b[0m\u001b[0;34m,\u001b[0m\u001b[0mu\u001b[0m\u001b[0;34m.\u001b[0m\u001b[0mheaders\u001b[0m\u001b[0;34m\u001b[0m\u001b[0;34m\u001b[0m\u001b[0m\n\u001b[0m\u001b[1;32m    111\u001b[0m     \u001b[0;32mexcept\u001b[0m \u001b[0mHTTPError\u001b[0m \u001b[0;32mas\u001b[0m \u001b[0me\u001b[0m\u001b[0;34m:\u001b[0m\u001b[0;34m\u001b[0m\u001b[0;34m\u001b[0m\u001b[0m\n\u001b[1;32m    112\u001b[0m         \u001b[0;32mif\u001b[0m \u001b[0;36m400\u001b[0m \u001b[0;34m<=\u001b[0m \u001b[0me\u001b[0m\u001b[0;34m.\u001b[0m\u001b[0mcode\u001b[0m \u001b[0;34m<\u001b[0m \u001b[0;36m500\u001b[0m\u001b[0;34m:\u001b[0m \u001b[0;32mraise\u001b[0m \u001b[0mExceptionsHTTP\u001b[0m\u001b[0;34m[\u001b[0m\u001b[0me\u001b[0m\u001b[0;34m.\u001b[0m\u001b[0mcode\u001b[0m\u001b[0;34m]\u001b[0m\u001b[0;34m(\u001b[0m\u001b[0me\u001b[0m\u001b[0;34m.\u001b[0m\u001b[0murl\u001b[0m\u001b[0;34m,\u001b[0m \u001b[0me\u001b[0m\u001b[0;34m.\u001b[0m\u001b[0mhdrs\u001b[0m\u001b[0;34m,\u001b[0m \u001b[0me\u001b[0m\u001b[0;34m.\u001b[0m\u001b[0mfp\u001b[0m\u001b[0;34m)\u001b[0m \u001b[0;32mfrom\u001b[0m \u001b[0;32mNone\u001b[0m\u001b[0;34m\u001b[0m\u001b[0;34m\u001b[0m\u001b[0m\n",
      "\u001b[0;32m~/github/fastcore/fastcore/net.py\u001b[0m in \u001b[0;36murlopen\u001b[0;34m(url, data, headers, **kwargs)\u001b[0m\n\u001b[1;32m    102\u001b[0m         \u001b[0;32mif\u001b[0m \u001b[0;32mnot\u001b[0m \u001b[0misinstance\u001b[0m\u001b[0;34m(\u001b[0m\u001b[0mdata\u001b[0m\u001b[0;34m,\u001b[0m \u001b[0;34m(\u001b[0m\u001b[0mstr\u001b[0m\u001b[0;34m,\u001b[0m\u001b[0mbytes\u001b[0m\u001b[0;34m)\u001b[0m\u001b[0;34m)\u001b[0m\u001b[0;34m:\u001b[0m \u001b[0mdata\u001b[0m \u001b[0;34m=\u001b[0m \u001b[0murlencode\u001b[0m\u001b[0;34m(\u001b[0m\u001b[0mdata\u001b[0m\u001b[0;34m)\u001b[0m\u001b[0;34m\u001b[0m\u001b[0;34m\u001b[0m\u001b[0m\n\u001b[1;32m    103\u001b[0m         \u001b[0;32mif\u001b[0m \u001b[0;32mnot\u001b[0m \u001b[0misinstance\u001b[0m\u001b[0;34m(\u001b[0m\u001b[0mdata\u001b[0m\u001b[0;34m,\u001b[0m \u001b[0mbytes\u001b[0m\u001b[0;34m)\u001b[0m\u001b[0;34m:\u001b[0m \u001b[0mdata\u001b[0m \u001b[0;34m=\u001b[0m \u001b[0mdata\u001b[0m\u001b[0;34m.\u001b[0m\u001b[0mencode\u001b[0m\u001b[0;34m(\u001b[0m\u001b[0;34m'ascii'\u001b[0m\u001b[0;34m)\u001b[0m\u001b[0;34m\u001b[0m\u001b[0;34m\u001b[0m\u001b[0m\n\u001b[0;32m--> 104\u001b[0;31m     \u001b[0;32mreturn\u001b[0m \u001b[0m_opener\u001b[0m\u001b[0;34m.\u001b[0m\u001b[0mopen\u001b[0m\u001b[0;34m(\u001b[0m\u001b[0murlwrap\u001b[0m\u001b[0;34m(\u001b[0m\u001b[0murl\u001b[0m\u001b[0;34m,\u001b[0m \u001b[0mdata\u001b[0m\u001b[0;34m=\u001b[0m\u001b[0mdata\u001b[0m\u001b[0;34m,\u001b[0m \u001b[0mheaders\u001b[0m\u001b[0;34m=\u001b[0m\u001b[0mheaders\u001b[0m\u001b[0;34m)\u001b[0m\u001b[0;34m)\u001b[0m\u001b[0;34m\u001b[0m\u001b[0;34m\u001b[0m\u001b[0m\n\u001b[0m\u001b[1;32m    105\u001b[0m \u001b[0;34m\u001b[0m\u001b[0m\n\u001b[1;32m    106\u001b[0m \u001b[0;31m# Cell\u001b[0m\u001b[0;34m\u001b[0m\u001b[0;34m\u001b[0m\u001b[0;34m\u001b[0m\u001b[0m\n",
      "\u001b[0;32m~/anaconda3/lib/python3.8/urllib/request.py\u001b[0m in \u001b[0;36mopen\u001b[0;34m(self, fullurl, data, timeout)\u001b[0m\n\u001b[1;32m    529\u001b[0m         \u001b[0;32mfor\u001b[0m \u001b[0mprocessor\u001b[0m \u001b[0;32min\u001b[0m \u001b[0mself\u001b[0m\u001b[0;34m.\u001b[0m\u001b[0mprocess_response\u001b[0m\u001b[0;34m.\u001b[0m\u001b[0mget\u001b[0m\u001b[0;34m(\u001b[0m\u001b[0mprotocol\u001b[0m\u001b[0;34m,\u001b[0m \u001b[0;34m[\u001b[0m\u001b[0;34m]\u001b[0m\u001b[0;34m)\u001b[0m\u001b[0;34m:\u001b[0m\u001b[0;34m\u001b[0m\u001b[0;34m\u001b[0m\u001b[0m\n\u001b[1;32m    530\u001b[0m             \u001b[0mmeth\u001b[0m \u001b[0;34m=\u001b[0m \u001b[0mgetattr\u001b[0m\u001b[0;34m(\u001b[0m\u001b[0mprocessor\u001b[0m\u001b[0;34m,\u001b[0m \u001b[0mmeth_name\u001b[0m\u001b[0;34m)\u001b[0m\u001b[0;34m\u001b[0m\u001b[0;34m\u001b[0m\u001b[0m\n\u001b[0;32m--> 531\u001b[0;31m             \u001b[0mresponse\u001b[0m \u001b[0;34m=\u001b[0m \u001b[0mmeth\u001b[0m\u001b[0;34m(\u001b[0m\u001b[0mreq\u001b[0m\u001b[0;34m,\u001b[0m \u001b[0mresponse\u001b[0m\u001b[0;34m)\u001b[0m\u001b[0;34m\u001b[0m\u001b[0;34m\u001b[0m\u001b[0m\n\u001b[0m\u001b[1;32m    532\u001b[0m \u001b[0;34m\u001b[0m\u001b[0m\n\u001b[1;32m    533\u001b[0m         \u001b[0;32mreturn\u001b[0m \u001b[0mresponse\u001b[0m\u001b[0;34m\u001b[0m\u001b[0;34m\u001b[0m\u001b[0m\n",
      "\u001b[0;32m~/anaconda3/lib/python3.8/urllib/request.py\u001b[0m in \u001b[0;36mhttp_response\u001b[0;34m(self, request, response)\u001b[0m\n\u001b[1;32m    638\u001b[0m         \u001b[0;31m# request was successfully received, understood, and accepted.\u001b[0m\u001b[0;34m\u001b[0m\u001b[0;34m\u001b[0m\u001b[0;34m\u001b[0m\u001b[0m\n\u001b[1;32m    639\u001b[0m         \u001b[0;32mif\u001b[0m \u001b[0;32mnot\u001b[0m \u001b[0;34m(\u001b[0m\u001b[0;36m200\u001b[0m \u001b[0;34m<=\u001b[0m \u001b[0mcode\u001b[0m \u001b[0;34m<\u001b[0m \u001b[0;36m300\u001b[0m\u001b[0;34m)\u001b[0m\u001b[0;34m:\u001b[0m\u001b[0;34m\u001b[0m\u001b[0;34m\u001b[0m\u001b[0m\n\u001b[0;32m--> 640\u001b[0;31m             response = self.parent.error(\n\u001b[0m\u001b[1;32m    641\u001b[0m                 'http', request, response, code, msg, hdrs)\n\u001b[1;32m    642\u001b[0m \u001b[0;34m\u001b[0m\u001b[0m\n",
      "\u001b[0;32m~/anaconda3/lib/python3.8/urllib/request.py\u001b[0m in \u001b[0;36merror\u001b[0;34m(self, proto, *args)\u001b[0m\n\u001b[1;32m    567\u001b[0m         \u001b[0;32mif\u001b[0m \u001b[0mhttp_err\u001b[0m\u001b[0;34m:\u001b[0m\u001b[0;34m\u001b[0m\u001b[0;34m\u001b[0m\u001b[0m\n\u001b[1;32m    568\u001b[0m             \u001b[0margs\u001b[0m \u001b[0;34m=\u001b[0m \u001b[0;34m(\u001b[0m\u001b[0mdict\u001b[0m\u001b[0;34m,\u001b[0m \u001b[0;34m'default'\u001b[0m\u001b[0;34m,\u001b[0m \u001b[0;34m'http_error_default'\u001b[0m\u001b[0;34m)\u001b[0m \u001b[0;34m+\u001b[0m \u001b[0morig_args\u001b[0m\u001b[0;34m\u001b[0m\u001b[0;34m\u001b[0m\u001b[0m\n\u001b[0;32m--> 569\u001b[0;31m             \u001b[0;32mreturn\u001b[0m \u001b[0mself\u001b[0m\u001b[0;34m.\u001b[0m\u001b[0m_call_chain\u001b[0m\u001b[0;34m(\u001b[0m\u001b[0;34m*\u001b[0m\u001b[0margs\u001b[0m\u001b[0;34m)\u001b[0m\u001b[0;34m\u001b[0m\u001b[0;34m\u001b[0m\u001b[0m\n\u001b[0m\u001b[1;32m    570\u001b[0m \u001b[0;34m\u001b[0m\u001b[0m\n\u001b[1;32m    571\u001b[0m \u001b[0;31m# XXX probably also want an abstract factory that knows when it makes\u001b[0m\u001b[0;34m\u001b[0m\u001b[0;34m\u001b[0m\u001b[0;34m\u001b[0m\u001b[0m\n",
      "\u001b[0;32m~/anaconda3/lib/python3.8/urllib/request.py\u001b[0m in \u001b[0;36m_call_chain\u001b[0;34m(self, chain, kind, meth_name, *args)\u001b[0m\n\u001b[1;32m    500\u001b[0m         \u001b[0;32mfor\u001b[0m \u001b[0mhandler\u001b[0m \u001b[0;32min\u001b[0m \u001b[0mhandlers\u001b[0m\u001b[0;34m:\u001b[0m\u001b[0;34m\u001b[0m\u001b[0;34m\u001b[0m\u001b[0m\n\u001b[1;32m    501\u001b[0m             \u001b[0mfunc\u001b[0m \u001b[0;34m=\u001b[0m \u001b[0mgetattr\u001b[0m\u001b[0;34m(\u001b[0m\u001b[0mhandler\u001b[0m\u001b[0;34m,\u001b[0m \u001b[0mmeth_name\u001b[0m\u001b[0;34m)\u001b[0m\u001b[0;34m\u001b[0m\u001b[0;34m\u001b[0m\u001b[0m\n\u001b[0;32m--> 502\u001b[0;31m             \u001b[0mresult\u001b[0m \u001b[0;34m=\u001b[0m \u001b[0mfunc\u001b[0m\u001b[0;34m(\u001b[0m\u001b[0;34m*\u001b[0m\u001b[0margs\u001b[0m\u001b[0;34m)\u001b[0m\u001b[0;34m\u001b[0m\u001b[0;34m\u001b[0m\u001b[0m\n\u001b[0m\u001b[1;32m    503\u001b[0m             \u001b[0;32mif\u001b[0m \u001b[0mresult\u001b[0m \u001b[0;32mis\u001b[0m \u001b[0;32mnot\u001b[0m \u001b[0;32mNone\u001b[0m\u001b[0;34m:\u001b[0m\u001b[0;34m\u001b[0m\u001b[0;34m\u001b[0m\u001b[0m\n\u001b[1;32m    504\u001b[0m                 \u001b[0;32mreturn\u001b[0m \u001b[0mresult\u001b[0m\u001b[0;34m\u001b[0m\u001b[0;34m\u001b[0m\u001b[0m\n",
      "\u001b[0;32m~/anaconda3/lib/python3.8/urllib/request.py\u001b[0m in \u001b[0;36mhttp_error_default\u001b[0;34m(self, req, fp, code, msg, hdrs)\u001b[0m\n\u001b[1;32m    647\u001b[0m \u001b[0;32mclass\u001b[0m \u001b[0mHTTPDefaultErrorHandler\u001b[0m\u001b[0;34m(\u001b[0m\u001b[0mBaseHandler\u001b[0m\u001b[0;34m)\u001b[0m\u001b[0;34m:\u001b[0m\u001b[0;34m\u001b[0m\u001b[0;34m\u001b[0m\u001b[0m\n\u001b[1;32m    648\u001b[0m     \u001b[0;32mdef\u001b[0m \u001b[0mhttp_error_default\u001b[0m\u001b[0;34m(\u001b[0m\u001b[0mself\u001b[0m\u001b[0;34m,\u001b[0m \u001b[0mreq\u001b[0m\u001b[0;34m,\u001b[0m \u001b[0mfp\u001b[0m\u001b[0;34m,\u001b[0m \u001b[0mcode\u001b[0m\u001b[0;34m,\u001b[0m \u001b[0mmsg\u001b[0m\u001b[0;34m,\u001b[0m \u001b[0mhdrs\u001b[0m\u001b[0;34m)\u001b[0m\u001b[0;34m:\u001b[0m\u001b[0;34m\u001b[0m\u001b[0;34m\u001b[0m\u001b[0m\n\u001b[0;32m--> 649\u001b[0;31m         \u001b[0;32mraise\u001b[0m \u001b[0mHTTPError\u001b[0m\u001b[0;34m(\u001b[0m\u001b[0mreq\u001b[0m\u001b[0;34m.\u001b[0m\u001b[0mfull_url\u001b[0m\u001b[0;34m,\u001b[0m \u001b[0mcode\u001b[0m\u001b[0;34m,\u001b[0m \u001b[0mmsg\u001b[0m\u001b[0;34m,\u001b[0m \u001b[0mhdrs\u001b[0m\u001b[0;34m,\u001b[0m \u001b[0mfp\u001b[0m\u001b[0;34m)\u001b[0m\u001b[0;34m\u001b[0m\u001b[0;34m\u001b[0m\u001b[0m\n\u001b[0m\u001b[1;32m    650\u001b[0m \u001b[0;34m\u001b[0m\u001b[0m\n\u001b[1;32m    651\u001b[0m \u001b[0;32mclass\u001b[0m \u001b[0mHTTPRedirectHandler\u001b[0m\u001b[0;34m(\u001b[0m\u001b[0mBaseHandler\u001b[0m\u001b[0;34m)\u001b[0m\u001b[0;34m:\u001b[0m\u001b[0;34m\u001b[0m\u001b[0;34m\u001b[0m\u001b[0m\n",
      "\u001b[0;31mHTTPError\u001b[0m: HTTP Error 500: Internal Server Error"
     ]
    }
   ],
   "source": [
    "res = api.enable_pages(branch='new-branch', path='/')\n",
    "test_eq(res.source.branch, 'new-branch')\n",
    "test_eq(res.source.path, '/')\n",
    "api.repos.delete_pages_site()\n",
    "api.delete_branch('new-branch')"
   ]
  },
  {
   "cell_type": "markdown",
   "metadata": {},
   "source": [
    "## Export -"
   ]
  },
  {
   "cell_type": "code",
   "execution_count": null,
   "metadata": {},
   "outputs": [
    {
     "name": "stdout",
     "output_type": "stream",
     "text": [
      "Converted 00_core.ipynb.\n",
      "Converted 01_actions.ipynb.\n",
      "Converted 02_auth.ipynb.\n",
      "Converted 10_cli.ipynb.\n",
      "Converted 50_fullapi.ipynb.\n",
      "Converted 90_build_lib.ipynb.\n",
      "Converted index.ipynb.\n",
      "Converted tutorial_actions.ipynb.\n"
     ]
    }
   ],
   "source": [
    "#hide\n",
    "from nbdev.export import notebook2script\n",
    "notebook2script()"
   ]
  },
  {
   "cell_type": "code",
   "execution_count": null,
   "metadata": {},
   "outputs": [],
   "source": []
  }
 ],
 "metadata": {
  "kernelspec": {
   "display_name": "Python 3",
   "language": "python",
   "name": "python3"
  }
 },
 "nbformat": 4,
 "nbformat_minor": 4
}
