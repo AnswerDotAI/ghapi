{
 "cells": [
  {
   "cell_type": "code",
   "execution_count": null,
   "metadata": {},
   "outputs": [],
   "source": [
    "#default_exp core"
   ]
  },
  {
   "cell_type": "code",
   "execution_count": null,
   "metadata": {},
   "outputs": [],
   "source": [
    "#export\n",
    "from fastcore.utils import *\n",
    "from fastcore.foundation import *\n",
    "from fastcore.meta import *\n",
    "\n",
    "import pprint,inspect,json,copy\n",
    "from inspect import signature,Parameter,Signature\n",
    "from urllib.parse import urlencode\n",
    "from ghapi.metadata import funcs\n",
    "from urllib.request import Request"
   ]
  },
  {
   "cell_type": "code",
   "execution_count": null,
   "metadata": {},
   "outputs": [],
   "source": [
    "#export\n",
    "GH_HOST = \"https://api.github.com\"\n",
    "_DOC_URL = 'https://docs.github.com/'"
   ]
  },
  {
   "cell_type": "code",
   "execution_count": null,
   "metadata": {},
   "outputs": [],
   "source": [
    "def _mk_param(nm, **kwargs): return Parameter(nm, kind=Parameter.POSITIONAL_OR_KEYWORD, **kwargs)\n",
    "\n",
    "def mk_sig(req_args, def_args):\n",
    "    params =  [_mk_param(k) for k in req_args]\n",
    "    params += [_mk_param(k, default=v) for k,v in def_args.items()]\n",
    "    return Signature(params)"
   ]
  },
  {
   "cell_type": "code",
   "execution_count": null,
   "metadata": {},
   "outputs": [],
   "source": [
    "#export\n",
    "class GhVerb:\n",
    "    __slots__ = 'path,verb,tag,name,summary,url,route_ps,params,data,hdrs,__doc__'.split(',')\n",
    "    def __init__(self, path, verb, oper, summary, url, params, data, hdrs, kwargs):\n",
    "        tag,name = oper.split('/')\n",
    "        name = name.replace('-','_')\n",
    "        path,route_ps,xtra = partial_format(path, **kwargs)\n",
    "        __doc__ = summary\n",
    "        store_attr()\n",
    "    \n",
    "    def __call__(self, *args, **kwargs):\n",
    "        flds = [o for o in self.route_ps+self.params+self.data if o not in kwargs]\n",
    "        for a,b in zip(args,flds): kwargs[b]=a\n",
    "        route_p,query_p,data_p = [{p:kwargs[p] for p in o if p in kwargs}\n",
    "                                 for o in (self.route_ps,self.params,self.data)]\n",
    "        return dict2obj(urlsend(GH_HOST+self.path, self.verb, headers=self.hdrs,\n",
    "                              route=route_p, query=query_p, data=data_p))\n",
    "\n",
    "    @property\n",
    "    def __signature__(self): return mk_sig(self.route_ps, {})\n",
    "    __call__.__signature__ = __signature__\n",
    "\n",
    "    def _repr_markdown_(self):\n",
    "        params = ','.join(self.params+self.data)\n",
    "        return f\"[{self.tag}/{self.name}]({_DOC_URL}{self.url})({params}): {self.summary}\"\n",
    "    __repr__ = _repr_markdown_\n",
    "\n",
    "class _GhVerbGroup(AttrDict):\n",
    "    def __init__(self, verbs): super().__init__(**{o.name:o for o in verbs})\n",
    "    def _repr_markdown_(self): return \"\\n\".join(f'- [{k}]({_DOC_URL}{v.url})' for k,v in self.items())"
   ]
  },
  {
   "cell_type": "code",
   "execution_count": null,
   "metadata": {},
   "outputs": [],
   "source": [
    "#export\n",
    "class GhApi:\n",
    "    def __init__(self, owner=None, repo=None, token=None, **kwargs):\n",
    "        self._headers = { 'Accept': 'application/vnd.github.v3+json' }\n",
    "        if token: self._headers['Authorization'] = 'token ' + token\n",
    "        if owner: kwargs['owner'] = owner\n",
    "        if repo:  kwargs['repo' ] = repo\n",
    "        funcs_ = L(funcs).starmap(GhVerb, hdrs=self._headers, kwargs=kwargs)\n",
    "        self._fs = {k:_GhVerbGroup(v) for k,v in groupby(funcs_, 'tag').items()}\n",
    "\n",
    "    def __dir__(self): return super().__dir__() + list(self._fs)\n",
    "\n",
    "    def __getattr__(self,k):\n",
    "        if k in self._fs: return self._fs[k]\n",
    "        raise AttributeError(k)"
   ]
  },
  {
   "cell_type": "code",
   "execution_count": null,
   "metadata": {},
   "outputs": [],
   "source": [
    "api = GhApi('fastai', 'fastcore', os.environ['FASTRELEASE_TOKEN'])"
   ]
  },
  {
   "cell_type": "code",
   "execution_count": null,
   "metadata": {},
   "outputs": [
    {
     "data": {
      "text/markdown": [
       "- ref: refs/heads/master\n",
       "- node_id: MDM6UmVmMjI1NDYwNTk5OnJlZnMvaGVhZHMvbWFzdGVy\n",
       "- url: https://api.github.com/repos/fastai/fastcore/git/refs/heads/master\n",
       "- object: \n",
       "  - sha: 88be5bd61f8b476778473dad509f0d3060862ae8\n",
       "  - type: commit\n",
       "  - url: https://api.github.com/repos/fastai/fastcore/git/commits/88be5bd61f8b476778473dad509f0d3060862ae8"
      ],
      "text/plain": [
       "- ref: refs/heads/master\n",
       "- node_id: MDM6UmVmMjI1NDYwNTk5OnJlZnMvaGVhZHMvbWFzdGVy\n",
       "- url: https://api.github.com/repos/fastai/fastcore/git/refs/heads/master\n",
       "- object: \n",
       "  - sha: 88be5bd61f8b476778473dad509f0d3060862ae8\n",
       "  - type: commit\n",
       "  - url: https://api.github.com/repos/fastai/fastcore/git/commits/88be5bd61f8b476778473dad509f0d3060862ae8"
      ]
     },
     "execution_count": null,
     "metadata": {},
     "output_type": "execute_result"
    }
   ],
   "source": [
    "api.git.get_ref('heads/master')"
   ]
  },
  {
   "cell_type": "code",
   "execution_count": null,
   "metadata": {},
   "outputs": [
    {
     "data": {
      "text/markdown": [
       "[git/get_ref](https://docs.github.com/rest/reference/git#get-a-reference)(): Get a reference"
      ],
      "text/plain": [
       "[git/get_ref](https://docs.github.com/rest/reference/git#get-a-reference)(): Get a reference"
      ]
     },
     "execution_count": null,
     "metadata": {},
     "output_type": "execute_result"
    }
   ],
   "source": [
    "api.git.get_ref"
   ]
  },
  {
   "cell_type": "code",
   "execution_count": null,
   "metadata": {},
   "outputs": [
    {
     "data": {
      "text/plain": [
       "'/repos/{owner}/{repo}/git/ref/{ref}'"
      ]
     },
     "execution_count": null,
     "metadata": {},
     "output_type": "execute_result"
    }
   ],
   "source": [
    "api.git.get_ref.path"
   ]
  },
  {
   "cell_type": "code",
   "execution_count": null,
   "metadata": {},
   "outputs": [
    {
     "data": {
      "text/markdown": [
       "- [create_blob](https://docs.github.com/rest/reference/git#create-a-blob)\n",
       "- [get_blob](https://docs.github.com/rest/reference/git#get-a-blob)\n",
       "- [create_commit](https://docs.github.com/rest/reference/git#create-a-commit)\n",
       "- [get_commit](https://docs.github.com/rest/reference/git#get-a-commit)\n",
       "- [list_matching_refs](https://docs.github.com/rest/reference/git#list-matching-references)\n",
       "- [get_ref](https://docs.github.com/rest/reference/git#get-a-reference)\n",
       "- [create_ref](https://docs.github.com/rest/reference/git#create-a-reference)\n",
       "- [update_ref](https://docs.github.com/rest/reference/git#update-a-reference)\n",
       "- [delete_ref](https://docs.github.com/rest/reference/git#delete-a-reference)\n",
       "- [create_tag](https://docs.github.com/rest/reference/git#create-a-tag-object)\n",
       "- [get_tag](https://docs.github.com/rest/reference/git#get-a-tag)\n",
       "- [create_tree](https://docs.github.com/rest/reference/git#create-a-tree)\n",
       "- [get_tree](https://docs.github.com/rest/reference/git#get-a-tree)"
      ],
      "text/plain": [
       "- create_blob: [git/create_blob](https://docs.github.com/rest/reference/git#create-a-blob)(content,encoding): Create a blob\n",
       "- get_blob: [git/get_blob](https://docs.github.com/rest/reference/git#get-a-blob)(file_sha): Get a blob\n",
       "- create_commit: [git/create_commit](https://docs.github.com/rest/reference/git#create-a-commit)(message,tree,parents,author,committer,signature): Create a commit\n",
       "- get_commit: [git/get_commit](https://docs.github.com/rest/reference/git#get-a-commit)(commit_sha): Get a commit\n",
       "- list_matching_refs: [git/list_matching_refs](https://docs.github.com/rest/reference/git#list-matching-references)(ref): List matching references\n",
       "- get_ref: [git/get_ref](https://docs.github.com/rest/reference/git#get-a-reference)(ref): Get a reference\n",
       "- create_ref: [git/create_ref](https://docs.github.com/rest/reference/git#create-a-reference)(ref,sha,key): Create a reference\n",
       "- update_ref: [git/update_ref](https://docs.github.com/rest/reference/git#update-a-reference)(ref,sha,force): Update a reference\n",
       "- delete_ref: [git/delete_ref](https://docs.github.com/rest/reference/git#delete-a-reference)(ref): Delete a reference\n",
       "- create_tag: [git/create_tag](https://docs.github.com/rest/reference/git#create-a-tag-object)(tag,message,object,type,tagger): Create a tag object\n",
       "- get_tag: [git/get_tag](https://docs.github.com/rest/reference/git#get-a-tag)(tag_sha): Get a tag\n",
       "- create_tree: [git/create_tree](https://docs.github.com/rest/reference/git#create-a-tree)(tree,base_tree): Create a tree\n",
       "- get_tree: [git/get_tree](https://docs.github.com/rest/reference/git#get-a-tree)(tree_sha): Get a tree"
      ]
     },
     "execution_count": null,
     "metadata": {},
     "output_type": "execute_result"
    }
   ],
   "source": [
    "api.git"
   ]
  },
  {
   "cell_type": "markdown",
   "metadata": {},
   "source": [
    "```python\n",
    "its = 'fastai,fastgpu,fastcore,fastprogress,fastrelease,nbdev,ghapi'.split(',')\n",
    "url = 'https://webhooks.fast.ai'\n",
    "for it in its:\n",
    "    api.repo = it\n",
    "    for hook in api.repos.list_webhooks(): api.repos.delete_webhook(hook.id)\n",
    "    cfg = dict(url=url, content_type='json', secret='XXX')\n",
    "    api.repos.create_webhook(config=cfg, events=['release'])\n",
    "```"
   ]
  },
  {
   "cell_type": "code",
   "execution_count": null,
   "metadata": {},
   "outputs": [],
   "source": [
    "def _tag_date(self, tag):\n",
    "    try: tag_d = self.gh(f\"git/ref/tags/{tag}\")\n",
    "    except HTTPError: raise Exception(f\"Failed to find tag {tag}\")\n",
    "    commit_d = self.gh(tag_d.object.url, complete=True)\n",
    "    self.commit_date = commit_d.committer.date\n",
    "    return self.commit_date"
   ]
  },
  {
   "cell_type": "code",
   "execution_count": null,
   "metadata": {},
   "outputs": [],
   "source": [
    "def release(self):\n",
    "    \"Tag and create a release in GitHub for the current version\"\n",
    "    run(f'git tag {ver}')\n",
    "    run('git push --tags')\n",
    "    run('git pull --tags')\n",
    "    self.gh(\"releases\", post=True, tag_name=ver, name=ver, body=notes)"
   ]
  },
  {
   "cell_type": "markdown",
   "metadata": {},
   "source": [
    "## Export -"
   ]
  },
  {
   "cell_type": "code",
   "execution_count": null,
   "metadata": {},
   "outputs": [
    {
     "name": "stdout",
     "output_type": "stream",
     "text": [
      "Converted 00_core.ipynb.\n",
      "Converted 90_build_lib.ipynb.\n",
      "Converted index.ipynb.\n"
     ]
    }
   ],
   "source": [
    "\n",
    "#hide\n",
    "from nbdev.export import notebook2script\n",
    "notebook2script()"
   ]
  },
  {
   "cell_type": "code",
   "execution_count": null,
   "metadata": {},
   "outputs": [],
   "source": []
  }
 ],
 "metadata": {
  "kernelspec": {
   "display_name": "Python 3",
   "language": "python",
   "name": "python3"
  }
 },
 "nbformat": 4,
 "nbformat_minor": 4
}
