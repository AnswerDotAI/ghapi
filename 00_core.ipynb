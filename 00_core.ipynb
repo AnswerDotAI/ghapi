{
 "cells": [
  {
   "cell_type": "code",
   "execution_count": null,
   "metadata": {},
   "outputs": [],
   "source": [
    "import jsonref,json\n",
    "from fastcore.utils import *\n",
    "from fastcore.foundation import *\n",
    "from fastcore.meta import *\n",
    "\n",
    "import pprint,inspect\n",
    "from inspect import signature,Parameter"
   ]
  },
  {
   "cell_type": "code",
   "execution_count": null,
   "metadata": {},
   "outputs": [],
   "source": [
    "js = jsonref.load(open('../openapi/api.github.com.json'))\n",
    "# js['paths']['/repos/{owner}/{repo}/git/ref/{ref}']"
   ]
  },
  {
   "cell_type": "code",
   "execution_count": null,
   "metadata": {},
   "outputs": [],
   "source": [
    "_DOC_URL = 'https://docs.github.com/'"
   ]
  },
  {
   "cell_type": "code",
   "execution_count": null,
   "metadata": {},
   "outputs": [],
   "source": [
    "def _api_js():\n",
    "    url = 'https://github.com/github/rest-api-description/blob/main/descriptions/api.github.com/api.github.com.json?raw=true'\n",
    "    return urljson(url)"
   ]
  },
  {
   "cell_type": "code",
   "execution_count": null,
   "metadata": {},
   "outputs": [],
   "source": [
    "def build_funcs(nm='funcs.py'):\n",
    "    def _get_detls(o):\n",
    "        data = nested_idx(o, *'requestBody content application/json schema properties'.split()) or {}\n",
    "        url = o['externalDocs']['url'][len(_DOC_URL):]\n",
    "        return (o['operationId'], o['summary'], url, list(data.keys()))\n",
    "    \n",
    "    js = _api_js()\n",
    "    pre = '/repos/{owner}/{repo}'\n",
    "    paths = {o[len(pre):]:v for o,v in js['paths'].items() if o.startswith(pre)}\n",
    "    _funcs = [(path, verb) + _get_detls(detls)\n",
    "              for path,verbs in paths.items() for verb,detls in verbs.items()]\n",
    "    Path(nm).write_text(\"funcs = \" + pprint.pformat(_funcs, width=360))"
   ]
  },
  {
   "cell_type": "code",
   "execution_count": null,
   "metadata": {},
   "outputs": [],
   "source": [
    "# paths,comps = itemgetter('paths','components')(_api_js())\n",
    "# params = comps['parameters']\n",
    "# build_funcs()"
   ]
  },
  {
   "cell_type": "code",
   "execution_count": null,
   "metadata": {},
   "outputs": [],
   "source": [
    "from funcs import funcs"
   ]
  },
  {
   "cell_type": "code",
   "execution_count": null,
   "metadata": {},
   "outputs": [
    {
     "data": {
      "text/plain": [
       "('', 'get', 'repos/get', 'Get a repository', 'v3/repos/#get-a-repository', [])"
      ]
     },
     "execution_count": null,
     "metadata": {},
     "output_type": "execute_result"
    }
   ],
   "source": [
    "funcs[0]"
   ]
  },
  {
   "cell_type": "code",
   "execution_count": null,
   "metadata": {},
   "outputs": [],
   "source": [
    "#export\n",
    "GH_HOST = \"https://api.github.com\""
   ]
  },
  {
   "cell_type": "code",
   "execution_count": null,
   "metadata": {},
   "outputs": [],
   "source": [
    "import string\n",
    "_fmt = string.Formatter()\n",
    "\n",
    "def stringfmt_names(s:str)->L:\n",
    "    \"Unique brace-delimited names in `s`\"\n",
    "    return L(_fmt.parse(s)).itemgot(1).unique().filter()"
   ]
  },
  {
   "cell_type": "code",
   "execution_count": null,
   "metadata": {},
   "outputs": [
    {
     "data": {
      "text/plain": [
       "(#2) ['pull_number','review_id']"
      ]
     },
     "execution_count": null,
     "metadata": {},
     "output_type": "execute_result"
    }
   ],
   "source": [
    "stringfmt_names('/pulls/{pull_number}/reviews/{review_id}')"
   ]
  },
  {
   "cell_type": "code",
   "execution_count": null,
   "metadata": {},
   "outputs": [],
   "source": [
    "def _call(self, *args, **kwargs):\n",
    "    # TODO: post data\n",
    "    for a,b in zip(args,self.params): kwargs[b]=a\n",
    "    kw = {p:kwargs[p] for p in self.params}\n",
    "    path = self.path.format(**kw)\n",
    "    return self.client(path)\n",
    "\n",
    "_self_param = [Parameter('self', Parameter.POSITIONAL_OR_KEYWORD)]\n",
    "\n",
    "def _replace_sig(f, path_args, data_args):\n",
    "    p = [Parameter(o,               kind=Parameter.POSITIONAL_OR_KEYWORD) for o in path_args]\n",
    "    d = [Parameter(o, default=None, kind=Parameter.POSITIONAL_OR_KEYWORD) for o in data_args]\n",
    "    f.__signature__ = signature(f).replace(parameters=_self_param+p+d)\n",
    "    return f"
   ]
  },
  {
   "cell_type": "code",
   "execution_count": null,
   "metadata": {},
   "outputs": [],
   "source": [
    "class GhVerb:\n",
    "    __slots__ = 'path,verb,tag,name,summary,url,params,data,client,__call__,__doc__'.split(',')\n",
    "    \n",
    "    def __init__(self, path, verb, oper, summary, url, data, client):\n",
    "        tag,name = oper.split('/')\n",
    "        name = name.replace('-','_')\n",
    "        params = filter_ex(stringfmt_names(path), in_(('owner','repo')), True)\n",
    "        if params and not params[0]: breakpoint()\n",
    "        f = _replace_sig(copy_func(_call), params, data)\n",
    "        __doc__ = summary\n",
    "        __call__ = MethodType(f, self)\n",
    "        store_attr(self.__slots__)\n",
    "    \n",
    "    def _repr_markdown_(self):\n",
    "        params = ','.join(self.params+self.data)\n",
    "        return f\"[{self.tag}/{self.name}]({_DOC_URL}{self.url})({params}): {self.summary}\"\n",
    "    __repr__ = _repr_markdown_"
   ]
  },
  {
   "cell_type": "code",
   "execution_count": null,
   "metadata": {},
   "outputs": [],
   "source": [
    "class _GhVerbGroup(AttrDict):\n",
    "    def __init__(self, verbs): super().__init__(**{o.name:o for o in verbs})\n",
    "    def _repr_markdown_(self): return \"\\n\".join(f'- [{k}]({_DOC_URL}{v.url})' for k,v in self.items())"
   ]
  },
  {
   "cell_type": "code",
   "execution_count": null,
   "metadata": {},
   "outputs": [],
   "source": [
    "#export\n",
    "class GhApi:\n",
    "    def __init__(self, owner, repo, token):\n",
    "        funcs_ = L(funcs).starmap(GhVerb, client=self)\n",
    "        self._fs = {k:_GhVerbGroup(v) for k,v in groupby(funcs_, 'tag').items()}\n",
    "        self._headers = { 'Authorization' : 'token ' + token,\n",
    "                         'Accept': 'application/vnd.github.v3+json'}\n",
    "        self.owner,self.repo = owner,repo\n",
    "        self.repo_url = f\"{GH_HOST}/repos/{owner}/{repo}\"\n",
    "\n",
    "    def __dir__(self): return super().__dir__() + list(self._fs)\n",
    "\n",
    "    def __getattr__(self,k):\n",
    "        if k in self._fs: return self._fs[k]\n",
    "        raise AttributeError(k)\n",
    "\n",
    "    def __call__(self, path, **data):\n",
    "        \"Call GitHub API `path`\"\n",
    "        path = f\"{self.repo_url}{path}\"\n",
    "        return dict2obj(do_request(path, headers=self._headers, **data))"
   ]
  },
  {
   "cell_type": "code",
   "execution_count": null,
   "metadata": {},
   "outputs": [],
   "source": [
    "api = GhApi('fastai', 'fastcore', os.environ['FASTRELEASE_TOKEN'])"
   ]
  },
  {
   "cell_type": "code",
   "execution_count": null,
   "metadata": {},
   "outputs": [
    {
     "data": {
      "text/markdown": [
       "- ref: refs/heads/master\n",
       "- node_id: MDM6UmVmMjI1NDYwNTk5OnJlZnMvaGVhZHMvbWFzdGVy\n",
       "- url: https://api.github.com/repos/fastai/fastcore/git/refs/heads/master\n",
       "- object: \n",
       "  - sha: 569a67ed66fae0ed12015042fcfe25cd51671082\n",
       "  - type: commit\n",
       "  - url: https://api.github.com/repos/fastai/fastcore/git/commits/569a67ed66fae0ed12015042fcfe25cd51671082"
      ],
      "text/plain": [
       "- ref: refs/heads/master\n",
       "- node_id: MDM6UmVmMjI1NDYwNTk5OnJlZnMvaGVhZHMvbWFzdGVy\n",
       "- url: https://api.github.com/repos/fastai/fastcore/git/refs/heads/master\n",
       "- object: \n",
       "  - sha: 569a67ed66fae0ed12015042fcfe25cd51671082\n",
       "  - type: commit\n",
       "  - url: https://api.github.com/repos/fastai/fastcore/git/commits/569a67ed66fae0ed12015042fcfe25cd51671082"
      ]
     },
     "execution_count": null,
     "metadata": {},
     "output_type": "execute_result"
    }
   ],
   "source": [
    "api.git.get_ref('heads/master')"
   ]
  },
  {
   "cell_type": "code",
   "execution_count": null,
   "metadata": {},
   "outputs": [
    {
     "data": {
      "text/markdown": [
       "[repos/create_webhook](https://docs.github.com/rest/reference/repos#create-a-repository-webhook)(name,config,events,active): Create a repository webhook"
      ],
      "text/plain": [
       "[repos/create_webhook](https://docs.github.com/rest/reference/repos#create-a-repository-webhook)(name,config,events,active): Create a repository webhook"
      ]
     },
     "execution_count": null,
     "metadata": {},
     "output_type": "execute_result"
    }
   ],
   "source": [
    "api.repos.create_webhook"
   ]
  },
  {
   "cell_type": "code",
   "execution_count": null,
   "metadata": {},
   "outputs": [
    {
     "data": {
      "text/markdown": [
       "- [create_blob](https://docs.github.com/rest/reference/git#create-a-blob)\n",
       "- [get_blob](https://docs.github.com/rest/reference/git#get-a-blob)\n",
       "- [create_commit](https://docs.github.com/rest/reference/git#create-a-commit)\n",
       "- [get_commit](https://docs.github.com/rest/reference/git#get-a-commit)\n",
       "- [list_matching_refs](https://docs.github.com/rest/reference/git#list-matching-references)\n",
       "- [get_ref](https://docs.github.com/rest/reference/git#get-a-reference)\n",
       "- [create_ref](https://docs.github.com/rest/reference/git#create-a-reference)\n",
       "- [update_ref](https://docs.github.com/rest/reference/git#update-a-reference)\n",
       "- [delete_ref](https://docs.github.com/rest/reference/git#delete-a-reference)\n",
       "- [create_tag](https://docs.github.com/rest/reference/git#create-a-tag-object)\n",
       "- [get_tag](https://docs.github.com/rest/reference/git#get-a-tag)\n",
       "- [create_tree](https://docs.github.com/rest/reference/git#create-a-tree)\n",
       "- [get_tree](https://docs.github.com/rest/reference/git#get-a-tree)"
      ],
      "text/plain": [
       "- create_blob: [git/create_blob](https://docs.github.com/rest/reference/git#create-a-blob)(content,encoding): Create a blob\n",
       "- get_blob: [git/get_blob](https://docs.github.com/rest/reference/git#get-a-blob)(file_sha): Get a blob\n",
       "- create_commit: [git/create_commit](https://docs.github.com/rest/reference/git#create-a-commit)(message,tree,parents,author,committer,signature): Create a commit\n",
       "- get_commit: [git/get_commit](https://docs.github.com/rest/reference/git#get-a-commit)(commit_sha): Get a commit\n",
       "- list_matching_refs: [git/list_matching_refs](https://docs.github.com/rest/reference/git#list-matching-references)(ref): List matching references\n",
       "- get_ref: [git/get_ref](https://docs.github.com/rest/reference/git#get-a-reference)(ref): Get a reference\n",
       "- create_ref: [git/create_ref](https://docs.github.com/rest/reference/git#create-a-reference)(ref,sha,key): Create a reference\n",
       "- update_ref: [git/update_ref](https://docs.github.com/rest/reference/git#update-a-reference)(ref,sha,force): Update a reference\n",
       "- delete_ref: [git/delete_ref](https://docs.github.com/rest/reference/git#delete-a-reference)(ref): Delete a reference\n",
       "- create_tag: [git/create_tag](https://docs.github.com/rest/reference/git#create-a-tag-object)(tag,message,object,type,tagger): Create a tag object\n",
       "- get_tag: [git/get_tag](https://docs.github.com/rest/reference/git#get-a-tag)(tag_sha): Get a tag\n",
       "- create_tree: [git/create_tree](https://docs.github.com/rest/reference/git#create-a-tree)(tree,base_tree): Create a tree\n",
       "- get_tree: [git/get_tree](https://docs.github.com/rest/reference/git#get-a-tree)(tree_sha): Get a tree"
      ]
     },
     "execution_count": null,
     "metadata": {},
     "output_type": "execute_result"
    }
   ],
   "source": [
    "api.git"
   ]
  },
  {
   "cell_type": "code",
   "execution_count": null,
   "metadata": {},
   "outputs": [
    {
     "data": {
      "text/plain": [
       "'/git/ref/{ref}'"
      ]
     },
     "execution_count": null,
     "metadata": {},
     "output_type": "execute_result"
    }
   ],
   "source": [
    "api.git.get_ref.path"
   ]
  },
  {
   "cell_type": "code",
   "execution_count": null,
   "metadata": {},
   "outputs": [
    {
     "data": {
      "text/markdown": [
       "- url: https://api.github.com/repos/fastai/fastcore/issues/217\n",
       "- repository_url: https://api.github.com/repos/fastai/fastcore\n",
       "- labels_url: https://api.github.com/repos/fastai/fastcore/issues/217/labels{/name}\n",
       "- comments_url: https://api.github.com/repos/fastai/fastcore/issues/217/comments\n",
       "- events_url: https://api.github.com/repos/fastai/fastcore/issues/217/events\n",
       "- html_url: https://github.com/fastai/fastcore/issues/217\n",
       "- id: 747092503\n",
       "- node_id: MDU6SXNzdWU3NDcwOTI1MDM=\n",
       "- number: 217\n",
       "- title: delegates doesn't pull the __init__ of a class\n",
       "- user: \n",
       "  - login: muellerzr\n",
       "  - id: 7831895\n",
       "  - node_id: MDQ6VXNlcjc4MzE4OTU=\n",
       "  - avatar_url: https://avatars0.githubusercontent.com/u/7831895?v=4\n",
       "  - gravatar_id: \n",
       "  - url: https://api.github.com/users/muellerzr\n",
       "  - html_url: https://github.com/muellerzr\n",
       "  - followers_url: https://api.github.com/users/muellerzr/followers\n",
       "  - following_url: https://api.github.com/users/muellerzr/following{/other_user}\n",
       "  - gists_url: https://api.github.com/users/muellerzr/gists{/gist_id}\n",
       "  - starred_url: https://api.github.com/users/muellerzr/starred{/owner}{/repo}\n",
       "  - subscriptions_url: https://api.github.com/users/muellerzr/subscriptions\n",
       "  - organizations_url: https://api.github.com/users/muellerzr/orgs\n",
       "  - repos_url: https://api.github.com/users/muellerzr/repos\n",
       "  - events_url: https://api.github.com/users/muellerzr/events{/privacy}\n",
       "  - received_events_url: https://api.github.com/users/muellerzr/received_events\n",
       "  - type: User\n",
       "  - site_admin: False\n",
       "- labels: \n",
       "\n",
       "- state: open\n",
       "- locked: False\n",
       "- assignee: None\n",
       "- assignees: \n",
       "\n",
       "- milestone: None\n",
       "- comments: 0\n",
       "- created_at: 2020-11-20T02:43:36Z\n",
       "- updated_at: 2020-11-20T02:44:23Z\n",
       "- closed_at: None\n",
       "- author_association: NONE\n",
       "- active_lock_reason: None\n",
       "- body: There is currently a bug with tab completion when it comes to classes and delegates. A prime example is `Datasets`. It's setup as:\r\n",
       "```python\r\n",
       "@delegates(TfmdLists)\r\n",
       "class Datasets(FilteredBase)\r\n",
       "```\r\n",
       "When performing a tab-hint to see the possible parameters, we should see both its parameters as well as `TfmdLists` for the kwargs. Instead we currently see: \r\n",
       "![image](https://user-images.githubusercontent.com/7831895/99751341-0582c900-2ab0-11eb-914e-304b8ef23278.png)\r\n",
       "\r\n",
       "Another example is here is the results of `doc`:\r\n",
       "![image](https://user-images.githubusercontent.com/7831895/99751388-18959900-2ab0-11eb-98a3-87b4e3daa3ca.png)\r\n",
       "\r\n",
       "\r\n",
       "You can see the `kwargs` were present in the first, dropped in the last but only a *part* of `TfmdLists`' parameters were added. For extra clarity I will manually adjust the `delegates()` to include `TfmdLists`' `__init__`, where we can see it working as expected:\r\n",
       "\r\n",
       "![image](https://user-images.githubusercontent.com/7831895/99751484-4549b080-2ab0-11eb-8d9f-608c93c6abb9.png)\r\n",
       "\n",
       "- performed_via_github_app: None"
      ],
      "text/plain": [
       "- url: https://api.github.com/repos/fastai/fastcore/issues/217\n",
       "- repository_url: https://api.github.com/repos/fastai/fastcore\n",
       "- labels_url: https://api.github.com/repos/fastai/fastcore/issues/217/labels{/name}\n",
       "- comments_url: https://api.github.com/repos/fastai/fastcore/issues/217/comments\n",
       "- events_url: https://api.github.com/repos/fastai/fastcore/issues/217/events\n",
       "- html_url: https://github.com/fastai/fastcore/issues/217\n",
       "- id: 747092503\n",
       "- node_id: MDU6SXNzdWU3NDcwOTI1MDM=\n",
       "- number: 217\n",
       "- title: delegates doesn't pull the __init__ of a class\n",
       "- user: \n",
       "  - login: muellerzr\n",
       "  - id: 7831895\n",
       "  - node_id: MDQ6VXNlcjc4MzE4OTU=\n",
       "  - avatar_url: https://avatars0.githubusercontent.com/u/7831895?v=4\n",
       "  - gravatar_id: \n",
       "  - url: https://api.github.com/users/muellerzr\n",
       "  - html_url: https://github.com/muellerzr\n",
       "  - followers_url: https://api.github.com/users/muellerzr/followers\n",
       "  - following_url: https://api.github.com/users/muellerzr/following{/other_user}\n",
       "  - gists_url: https://api.github.com/users/muellerzr/gists{/gist_id}\n",
       "  - starred_url: https://api.github.com/users/muellerzr/starred{/owner}{/repo}\n",
       "  - subscriptions_url: https://api.github.com/users/muellerzr/subscriptions\n",
       "  - organizations_url: https://api.github.com/users/muellerzr/orgs\n",
       "  - repos_url: https://api.github.com/users/muellerzr/repos\n",
       "  - events_url: https://api.github.com/users/muellerzr/events{/privacy}\n",
       "  - received_events_url: https://api.github.com/users/muellerzr/received_events\n",
       "  - type: User\n",
       "  - site_admin: False\n",
       "- labels: \n",
       "\n",
       "- state: open\n",
       "- locked: False\n",
       "- assignee: None\n",
       "- assignees: \n",
       "\n",
       "- milestone: None\n",
       "- comments: 0\n",
       "- created_at: 2020-11-20T02:43:36Z\n",
       "- updated_at: 2020-11-20T02:44:23Z\n",
       "- closed_at: None\n",
       "- author_association: NONE\n",
       "- active_lock_reason: None\n",
       "- body: There is currently a bug with tab completion when it comes to classes and delegates. A prime example is `Datasets`. It's setup as:\n",
       "```python\n",
       "@delegates(TfmdLists)\n",
       "class Datasets(FilteredBase)\n",
       "```\n",
       "When performing a tab-hint to see the possible parameters, we should see both its parameters as well as `TfmdLists` for the kwargs. Instead we currently see: \n",
       "![image](https://user-images.githubusercontent.com/7831895/99751341-0582c900-2ab0-11eb-914e-304b8ef23278.png)\n",
       "\n",
       "Another example is here is the results of `doc`:\n",
       "![image](https://user-images.githubusercontent.com/7831895/99751388-18959900-2ab0-11eb-98a3-87b4e3daa3ca.png)\n",
       "\n",
       "\n",
       "You can see the `kwargs` were present in the first, dropped in the last but only a *part* of `TfmdLists`' parameters were added. For extra clarity I will manually adjust the `delegates()` to include `TfmdLists`' `__init__`, where we can see it working as expected:\n",
       "\n",
       "![image](https://user-images.githubusercontent.com/7831895/99751484-4549b080-2ab0-11eb-8d9f-608c93c6abb9.png)\n",
       "\n",
       "- performed_via_github_app: None"
      ]
     },
     "execution_count": null,
     "metadata": {},
     "output_type": "execute_result"
    }
   ],
   "source": [
    "api.issues.list_for_repo()[0]"
   ]
  },
  {
   "cell_type": "code",
   "execution_count": null,
   "metadata": {},
   "outputs": [],
   "source": []
  },
  {
   "cell_type": "code",
   "execution_count": null,
   "metadata": {},
   "outputs": [],
   "source": [
    "def _tag_date(self, tag):\n",
    "    try: tag_d = self.gh(f\"git/ref/tags/{tag}\")\n",
    "    except HTTPError: raise Exception(f\"Failed to find tag {tag}\")\n",
    "    commit_d = self.gh(tag_d.object.url, complete=True)\n",
    "    self.commit_date = commit_d.committer.date\n",
    "    return self.commit_date"
   ]
  },
  {
   "cell_type": "code",
   "execution_count": null,
   "metadata": {},
   "outputs": [],
   "source": [
    "def release(self):\n",
    "    \"Tag and create a release in GitHub for the current version\"\n",
    "    run(f'git tag {ver}')\n",
    "    run('git push --tags')\n",
    "    run('git pull --tags')\n",
    "    self.gh(\"releases\", post=True, tag_name=ver, name=ver, body=notes)"
   ]
  },
  {
   "cell_type": "markdown",
   "metadata": {},
   "source": [
    "## Export -"
   ]
  },
  {
   "cell_type": "code",
   "execution_count": null,
   "metadata": {},
   "outputs": [],
   "source": []
  }
 ],
 "metadata": {
  "kernelspec": {
   "display_name": "Python 3",
   "language": "python",
   "name": "python3"
  }
 },
 "nbformat": 4,
 "nbformat_minor": 4
}
