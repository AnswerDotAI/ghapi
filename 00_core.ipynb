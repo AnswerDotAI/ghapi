{
 "cells": [
  {
   "cell_type": "code",
   "execution_count": null,
   "metadata": {},
   "outputs": [],
   "source": [
    "#default_exp core"
   ]
  },
  {
   "cell_type": "markdown",
   "metadata": {},
   "source": [
    "# API details\n",
    "\n",
    "> Detailed information on the GhApi API"
   ]
  },
  {
   "cell_type": "code",
   "execution_count": null,
   "metadata": {},
   "outputs": [],
   "source": [
    "#export\n",
    "from fastcore.utils import *\n",
    "from fastcore.foundation import *\n",
    "from fastcore.meta import *\n",
    "\n",
    "import pprint,inspect,json,copy,urllib,mimetypes\n",
    "from inspect import signature,Parameter,Signature\n",
    "from urllib.parse import urlencode\n",
    "from ghapi.metadata import funcs\n",
    "from urllib.request import Request,urlretrieve"
   ]
  },
  {
   "cell_type": "code",
   "execution_count": null,
   "metadata": {},
   "outputs": [],
   "source": [
    "from nbdev import *"
   ]
  },
  {
   "cell_type": "code",
   "execution_count": null,
   "metadata": {},
   "outputs": [],
   "source": [
    "#export\n",
    "GH_HOST = \"https://api.github.com\"\n",
    "_DOC_URL = 'https://docs.github.com/'"
   ]
  },
  {
   "cell_type": "code",
   "execution_count": null,
   "metadata": {},
   "outputs": [],
   "source": [
    "#export\n",
    "def _mk_param(nm, **kwargs): return Parameter(nm, kind=Parameter.POSITIONAL_OR_KEYWORD, **kwargs)\n",
    "\n",
    "def _mk_sig(req_args, def_args):\n",
    "    \"Create a signature object with required and default arguments\"\n",
    "    params =  [_mk_param(k) for k in req_args]\n",
    "    params += [_mk_param(k, default=v) for k,v in def_args.items()]\n",
    "    return Signature(params)"
   ]
  },
  {
   "cell_type": "code",
   "execution_count": null,
   "metadata": {},
   "outputs": [],
   "source": [
    "#export\n",
    "class _GhVerb:\n",
    "    __slots__ = 'path,verb,tag,name,summary,url,route_ps,params,data,hdrs,__doc__'.split(',')\n",
    "    def __init__(self, path, verb, oper, summary, url, params, data, hdrs, kwargs):\n",
    "        tag,name = oper.split('/')\n",
    "        name = name.replace('-','_')\n",
    "        path,route_ps,_ = partial_format(path, **kwargs)\n",
    "        __doc__ = summary\n",
    "        store_attr()\n",
    "    \n",
    "    def __call__(self, *args, headers=None, **kwargs):\n",
    "        headers = {**headers,**self.hdrs} if headers else self.hdrs\n",
    "        flds = [o for o in self.route_ps+self.params+self.data if o not in kwargs]\n",
    "        for a,b in zip(args,flds): kwargs[b]=a\n",
    "        route_p,query_p,data_p = [{p:kwargs[p] for p in o if p in kwargs}\n",
    "                                 for o in (self.route_ps,self.params,self.data)]\n",
    "        return dict2obj(urlsend(GH_HOST+self.path, self.verb, headers=headers,\n",
    "                              route=route_p, query=query_p, data=data_p))\n",
    "\n",
    "    @property\n",
    "    def __signature__(self): return _mk_sig(self.route_ps, dict.fromkeys(self.params+self.data))\n",
    "    __call__.__signature__ = __signature__\n",
    "\n",
    "    def _repr_markdown_(self):\n",
    "        params = ', '.join(self.route_ps+self.params+self.data)\n",
    "        return f\"[{self.tag}/{self.name}]({_DOC_URL}{self.url})({params}): *{self.summary}*\"\n",
    "    __repr__ = _repr_markdown_\n",
    "\n",
    "class _GhVerbGroup:\n",
    "    def __init__(self, verbs):\n",
    "        self.verbs = verbs\n",
    "        for o in verbs: setattr(self, o.name, o)\n",
    "    def _repr_markdown_(self): return \"\\n\".join(f'- [{v.name}]({_DOC_URL}{v.url})' for v in self.verbs)"
   ]
  },
  {
   "cell_type": "code",
   "execution_count": null,
   "metadata": {},
   "outputs": [],
   "source": [
    "#export\n",
    "_docroot = 'https://docs.github.com/en/free-pro-team@latest/rest/reference/'"
   ]
  },
  {
   "cell_type": "code",
   "execution_count": null,
   "metadata": {},
   "outputs": [],
   "source": [
    "#export\n",
    "class GhApi:\n",
    "    def __init__(self, owner=None, repo=None, token=None, **kwargs):\n",
    "        self.headers = { 'Accept': 'application/vnd.github.v3+json' }\n",
    "        if token: self.headers['Authorization'] = 'token ' + token\n",
    "        if owner: kwargs['owner'] = owner\n",
    "        if repo:  kwargs['repo' ] = repo\n",
    "        funcs_ = L(funcs).starmap(_GhVerb, hdrs=self.headers, kwargs=kwargs)\n",
    "        self._fs = {k:_GhVerbGroup(v) for k,v in groupby(funcs_, 'tag').items()}\n",
    "\n",
    "    def __dir__(self): return super().__dir__() + list(self._fs)\n",
    "    def _repr_markdown_(self): return \"\\n\".join(f'- [{o}]({_docroot+o})' for o in self._fs)\n",
    "    def __getattr__(self,k): return self._fs[k] if '_fs' in vars(self) and k in self._fs else stop(AttributeError(k))"
   ]
  },
  {
   "cell_type": "code",
   "execution_count": null,
   "metadata": {},
   "outputs": [],
   "source": [
    "#hide\n",
    "github_token = os.environ['FASTRELEASE_TOKEN']"
   ]
  },
  {
   "cell_type": "markdown",
   "metadata": {},
   "source": [
    "If you provide `owner` and/or `repo` to the constructor, they will be automatically inserted into any calls which use them. You can also pass any other arbitrary keyword arguments you like to have them used as defaults for any relevant calls.\n",
    "\n",
    "You must include a GitHub API token if you need to access any authenticated endpoints."
   ]
  },
  {
   "cell_type": "code",
   "execution_count": null,
   "metadata": {},
   "outputs": [],
   "source": [
    "api = GhApi('fastai', 'ghapi-test', token=github_token)"
   ]
  },
  {
   "cell_type": "markdown",
   "metadata": {},
   "source": [
    "### Operation groups"
   ]
  },
  {
   "cell_type": "markdown",
   "metadata": {},
   "source": [
    "The following groups of endpoints are provided, which you can list at any time along with a link to documentation for all endpoints in that group, by displaying the `GhApi` object:"
   ]
  },
  {
   "cell_type": "code",
   "execution_count": null,
   "metadata": {},
   "outputs": [
    {
     "data": {
      "text/markdown": [
       "- [apps](https://docs.github.com/en/free-pro-team@latest/rest/reference/apps)\n",
       "- [oauth-authorizations](https://docs.github.com/en/free-pro-team@latest/rest/reference/oauth-authorizations)\n",
       "- [codes-of-conduct](https://docs.github.com/en/free-pro-team@latest/rest/reference/codes-of-conduct)\n",
       "- [emojis](https://docs.github.com/en/free-pro-team@latest/rest/reference/emojis)\n",
       "- [enterprise-admin](https://docs.github.com/en/free-pro-team@latest/rest/reference/enterprise-admin)\n",
       "- [billing](https://docs.github.com/en/free-pro-team@latest/rest/reference/billing)\n",
       "- [activity](https://docs.github.com/en/free-pro-team@latest/rest/reference/activity)\n",
       "- [gists](https://docs.github.com/en/free-pro-team@latest/rest/reference/gists)\n",
       "- [gitignore](https://docs.github.com/en/free-pro-team@latest/rest/reference/gitignore)\n",
       "- [issues](https://docs.github.com/en/free-pro-team@latest/rest/reference/issues)\n",
       "- [licenses](https://docs.github.com/en/free-pro-team@latest/rest/reference/licenses)\n",
       "- [markdown](https://docs.github.com/en/free-pro-team@latest/rest/reference/markdown)\n",
       "- [meta](https://docs.github.com/en/free-pro-team@latest/rest/reference/meta)\n",
       "- [orgs](https://docs.github.com/en/free-pro-team@latest/rest/reference/orgs)\n",
       "- [actions](https://docs.github.com/en/free-pro-team@latest/rest/reference/actions)\n",
       "- [interactions](https://docs.github.com/en/free-pro-team@latest/rest/reference/interactions)\n",
       "- [migrations](https://docs.github.com/en/free-pro-team@latest/rest/reference/migrations)\n",
       "- [projects](https://docs.github.com/en/free-pro-team@latest/rest/reference/projects)\n",
       "- [repos](https://docs.github.com/en/free-pro-team@latest/rest/reference/repos)\n",
       "- [teams](https://docs.github.com/en/free-pro-team@latest/rest/reference/teams)\n",
       "- [reactions](https://docs.github.com/en/free-pro-team@latest/rest/reference/reactions)\n",
       "- [rate-limit](https://docs.github.com/en/free-pro-team@latest/rest/reference/rate-limit)\n",
       "- [checks](https://docs.github.com/en/free-pro-team@latest/rest/reference/checks)\n",
       "- [code-scanning](https://docs.github.com/en/free-pro-team@latest/rest/reference/code-scanning)\n",
       "- [git](https://docs.github.com/en/free-pro-team@latest/rest/reference/git)\n",
       "- [pulls](https://docs.github.com/en/free-pro-team@latest/rest/reference/pulls)\n",
       "- [scim](https://docs.github.com/en/free-pro-team@latest/rest/reference/scim)\n",
       "- [search](https://docs.github.com/en/free-pro-team@latest/rest/reference/search)\n",
       "- [users](https://docs.github.com/en/free-pro-team@latest/rest/reference/users)"
      ],
      "text/plain": [
       "<__main__.GhApi at 0x7f501c076690>"
      ]
     },
     "execution_count": null,
     "metadata": {},
     "output_type": "execute_result"
    }
   ],
   "source": [
    "api"
   ]
  },
  {
   "cell_type": "markdown",
   "metadata": {},
   "source": [
    "## Calling endpoints"
   ]
  },
  {
   "cell_type": "markdown",
   "metadata": {},
   "source": [
    "The GitHub API's endpoint names generally start with a verb like \"get\", \"list\", \"delete\", \"create\", etc, followed `_`, then by a noun such as \"ref\", \"webhook\", \"issue\", etc. Each endpoint has a different signature, which you can see by using <kbd>Shift</kbd>-<kbd>Tab</kbd> in Jupyter, or just viewing the endpoint object, which also provides a link to the official GitHub documentation:"
   ]
  },
  {
   "cell_type": "code",
   "execution_count": null,
   "metadata": {},
   "outputs": [
    {
     "data": {
      "text/markdown": [
       "[git/get_ref](https://docs.github.com/rest/reference/git#get-a-reference)(ref): *Get a reference*"
      ],
      "text/plain": [
       "[git/get_ref](https://docs.github.com/rest/reference/git#get-a-reference)(ref): *Get a reference*"
      ]
     },
     "execution_count": null,
     "metadata": {},
     "output_type": "execute_result"
    }
   ],
   "source": [
    "api.git.get_ref"
   ]
  },
  {
   "cell_type": "markdown",
   "metadata": {},
   "source": [
    "They are called using standard Python method syntax:"
   ]
  },
  {
   "cell_type": "code",
   "execution_count": null,
   "metadata": {},
   "outputs": [],
   "source": [
    "ref = api.git.get_ref('heads/master')\n",
    "test_eq(ref.object.type, 'commit')"
   ]
  },
  {
   "cell_type": "markdown",
   "metadata": {},
   "source": [
    "Information about the endpoint are available as attributes:"
   ]
  },
  {
   "cell_type": "code",
   "execution_count": null,
   "metadata": {},
   "outputs": [
    {
     "data": {
      "text/plain": [
       "('/repos/fastai/ghapi-test/git/ref/{ref}', 'get')"
      ]
     },
     "execution_count": null,
     "metadata": {},
     "output_type": "execute_result"
    }
   ],
   "source": [
    "api.git.get_ref.path,api.git.get_ref.verb"
   ]
  },
  {
   "cell_type": "markdown",
   "metadata": {},
   "source": [
    "You can get a list of all endpoints available in a group, along with a link to documentation for each, by viewing the group:"
   ]
  },
  {
   "cell_type": "code",
   "execution_count": null,
   "metadata": {},
   "outputs": [
    {
     "data": {
      "text/markdown": [
       "- [create_blob](https://docs.github.com/rest/reference/git#create-a-blob)\n",
       "- [get_blob](https://docs.github.com/rest/reference/git#get-a-blob)\n",
       "- [create_commit](https://docs.github.com/rest/reference/git#create-a-commit)\n",
       "- [get_commit](https://docs.github.com/rest/reference/git#get-a-commit)\n",
       "- [list_matching_refs](https://docs.github.com/rest/reference/git#list-matching-references)\n",
       "- [get_ref](https://docs.github.com/rest/reference/git#get-a-reference)\n",
       "- [create_ref](https://docs.github.com/rest/reference/git#create-a-reference)\n",
       "- [update_ref](https://docs.github.com/rest/reference/git#update-a-reference)\n",
       "- [delete_ref](https://docs.github.com/rest/reference/git#delete-a-reference)\n",
       "- [create_tag](https://docs.github.com/rest/reference/git#create-a-tag-object)\n",
       "- [get_tag](https://docs.github.com/rest/reference/git#get-a-tag)\n",
       "- [create_tree](https://docs.github.com/rest/reference/git#create-a-tree)\n",
       "- [get_tree](https://docs.github.com/rest/reference/git#get-a-tree)"
      ],
      "text/plain": [
       "<__main__._GhVerbGroup at 0x7f500ee00450>"
      ]
     },
     "execution_count": null,
     "metadata": {},
     "output_type": "execute_result"
    }
   ],
   "source": [
    "api.git"
   ]
  },
  {
   "cell_type": "markdown",
   "metadata": {},
   "source": [
    "For \"list\" endpoints, the noun will be a plural form, e.g.:"
   ]
  },
  {
   "cell_type": "code",
   "execution_count": null,
   "metadata": {},
   "outputs": [],
   "source": [
    "#hide\n",
    "for hook in api.repos.list_webhooks(): api.repos.delete_webhook(hook.id)"
   ]
  },
  {
   "cell_type": "code",
   "execution_count": null,
   "metadata": {},
   "outputs": [],
   "source": [
    "hooks = api.repos.list_webhooks()\n",
    "test_eq(len(hooks), 0)"
   ]
  },
  {
   "cell_type": "markdown",
   "metadata": {},
   "source": [
    "You can pass dicts, lists, etc. directly, where they are required for GitHub API endpoints:"
   ]
  },
  {
   "cell_type": "code",
   "execution_count": null,
   "metadata": {},
   "outputs": [],
   "source": [
    "url = 'https://example.com'\n",
    "cfg = dict(url=url, content_type='json', secret='XXX')\n",
    "hook = api.repos.create_webhook(config=cfg, events=['ping'])\n",
    "test_eq(hook.config.url, url)"
   ]
  },
  {
   "cell_type": "markdown",
   "metadata": {},
   "source": [
    "Let's confirm that our new webhook has been created:"
   ]
  },
  {
   "cell_type": "code",
   "execution_count": null,
   "metadata": {},
   "outputs": [],
   "source": [
    "hooks = api.repos.list_webhooks()\n",
    "test_eq(len(hooks), 1)\n",
    "test_eq(hooks[0].events, ['ping'])"
   ]
  },
  {
   "cell_type": "markdown",
   "metadata": {},
   "source": [
    "Finally, we can delete our new webhook:"
   ]
  },
  {
   "cell_type": "code",
   "execution_count": null,
   "metadata": {},
   "outputs": [
    {
     "data": {
      "text/markdown": [],
      "text/plain": []
     },
     "execution_count": null,
     "metadata": {},
     "output_type": "execute_result"
    }
   ],
   "source": [
    "api.repos.delete_webhook(hooks[0].id)"
   ]
  },
  {
   "cell_type": "markdown",
   "metadata": {},
   "source": [
    "### Convenience methods"
   ]
  },
  {
   "cell_type": "markdown",
   "metadata": {},
   "source": [
    "There are some multi-step processes in the GitHub API that `GhApi` provide convenient wrappers for. The methods currently available are shown below; do not hesitate to [create an issue](https://github.com/fastai/ghapi-test/issues) or pull request if there are other processes that you'd like to see supported better."
   ]
  },
  {
   "cell_type": "code",
   "execution_count": null,
   "metadata": {},
   "outputs": [],
   "source": [
    "#export\n",
    "@patch\n",
    "def delete_release(self:GhApi, release):\n",
    "    \"Delete a release and its associated tag\"\n",
    "    self.repos.delete_release(release.id)\n",
    "    self.git.delete_ref(f'tags/{release.tag_name}')"
   ]
  },
  {
   "cell_type": "code",
   "execution_count": null,
   "metadata": {},
   "outputs": [],
   "source": [
    "for rel in api.repos.list_releases(): api.delete_release(rel)"
   ]
  },
  {
   "cell_type": "code",
   "execution_count": null,
   "metadata": {},
   "outputs": [],
   "source": [
    "#export\n",
    "@patch\n",
    "def _upload_file(self:GhApi, url:str, fn):\n",
    "    \"Upload `fn` to endpoint `url`\"\n",
    "    fn = Path(fn)\n",
    "    mime = mimetypes.guess_type(fn, False)[0] or 'application/octet-stream'\n",
    "    headers = {**self.headers, 'Content-Type':mime}\n",
    "    data = fn.read_bytes()\n",
    "    return urlsend(url, 'POST', headers=headers, query = {'name':fn.name}, data=data)"
   ]
  },
  {
   "cell_type": "code",
   "execution_count": null,
   "metadata": {},
   "outputs": [],
   "source": [
    "#export\n",
    "@patch\n",
    "def create_release(self:GhApi, tag_name, branch='master', name=None, body='',\n",
    "                   draft=False, prerelease=False, files=None):\n",
    "    \"Wrapper for `GhApi.repos.create_release` which also uploads `files`\"\n",
    "    if name is None: name = 'v'+tag_name\n",
    "    rel = self.repos.create_release(tag_name, target_commitish=branch, name=name, body=body,\n",
    "                                   draft=draft, prerelease=prerelease)\n",
    "    url = rel.upload_url.replace('{?name,label}','')\n",
    "    for file in listify(files): self._upload_file(url, file)\n",
    "    return rel"
   ]
  },
  {
   "cell_type": "markdown",
   "metadata": {},
   "source": [
    "Creating a release and attaching files to it is normally a multi-stage process, so `create_release` wraps this up for you. It takes the same arguments as [`repos.create_release`](https://docs.github.com/rest/reference/repos#create-a-release), along with `files`, which can contain a single file name, or a list of file names to upload to your release:"
   ]
  },
  {
   "cell_type": "code",
   "execution_count": null,
   "metadata": {},
   "outputs": [],
   "source": [
    "rel = api.create_release('0.0.1', files=['docs/index.html'])\n",
    "test_eq(rel.name, 'v0.0.1')"
   ]
  },
  {
   "cell_type": "code",
   "execution_count": null,
   "metadata": {},
   "outputs": [],
   "source": [
    "rels = api.repos.list_releases()\n",
    "test_eq(len(rels), 1)"
   ]
  },
  {
   "cell_type": "markdown",
   "metadata": {},
   "source": [
    "We can check that our file has been uploaded; GitHub refers to them as \"assets\":"
   ]
  },
  {
   "cell_type": "code",
   "execution_count": null,
   "metadata": {},
   "outputs": [],
   "source": [
    "assets = api.repos.list_release_assets(rels[0].id)\n",
    "test_eq(assets[0].name, 'index.html')\n",
    "test_eq(assets[0].content_type, 'text/html')"
   ]
  },
  {
   "cell_type": "code",
   "execution_count": null,
   "metadata": {},
   "outputs": [],
   "source": [
    "#export\n",
    "@patch\n",
    "def list_tags(self:GhApi, prefix:str=''):\n",
    "    \"List all tags, optionally filtered to those starting with `prefix`\"\n",
    "    return self.git.list_matching_refs(f'tags/{prefix}')"
   ]
  },
  {
   "cell_type": "markdown",
   "metadata": {},
   "source": [
    "With no `prefix`, all tags are listed."
   ]
  },
  {
   "cell_type": "code",
   "execution_count": null,
   "metadata": {},
   "outputs": [],
   "source": [
    "test_eq(len(api.list_tags()), 1)"
   ]
  },
  {
   "cell_type": "markdown",
   "metadata": {},
   "source": [
    "Using the full tag name will return just that tag."
   ]
  },
  {
   "cell_type": "code",
   "execution_count": null,
   "metadata": {},
   "outputs": [],
   "source": [
    "test_eq(len(api.list_tags(rel.tag_name)), 1)"
   ]
  },
  {
   "cell_type": "code",
   "execution_count": null,
   "metadata": {},
   "outputs": [],
   "source": [
    "#export\n",
    "@patch\n",
    "def list_branches(self:GhApi, prefix:str=''):\n",
    "    \"List all branches, optionally filtered to those starting with `prefix`\"\n",
    "    return self.git.list_matching_refs(f'heads/{prefix}')"
   ]
  },
  {
   "cell_type": "markdown",
   "metadata": {},
   "source": [
    "Branches can be listed in the exactly the same way as tags."
   ]
  },
  {
   "cell_type": "code",
   "execution_count": null,
   "metadata": {},
   "outputs": [],
   "source": [
    "test_eq(len(api.list_branches('master')), 1)"
   ]
  },
  {
   "cell_type": "code",
   "execution_count": null,
   "metadata": {},
   "outputs": [
    {
     "data": {
      "text/markdown": [
       "<h4 id=\"GhApi.delete_release\" class=\"doc_header\"><code>GhApi.delete_release</code><a href=\"__main__.py#L2\" class=\"source_link\" style=\"float:right\">[source]</a></h4>\n",
       "\n",
       "> <code>GhApi.delete_release</code>(**`release`**)\n",
       "\n",
       "Delete a release and its associated tag"
      ],
      "text/plain": [
       "<IPython.core.display.Markdown object>"
      ]
     },
     "metadata": {},
     "output_type": "display_data"
    }
   ],
   "source": [
    "show_doc(GhApi.delete_release)"
   ]
  },
  {
   "cell_type": "markdown",
   "metadata": {},
   "source": [
    "We can delete our release and confirm that it is removed:"
   ]
  },
  {
   "cell_type": "code",
   "execution_count": null,
   "metadata": {},
   "outputs": [],
   "source": [
    "api.delete_release(rels[0])\n",
    "test_eq(len(api.repos.list_releases()), 0)"
   ]
  },
  {
   "cell_type": "markdown",
   "metadata": {},
   "source": [
    "## Export -"
   ]
  },
  {
   "cell_type": "code",
   "execution_count": null,
   "metadata": {},
   "outputs": [
    {
     "name": "stdout",
     "output_type": "stream",
     "text": [
      "Converted 00_core.ipynb.\n",
      "Converted 90_build_lib.ipynb.\n",
      "Converted index.ipynb.\n"
     ]
    }
   ],
   "source": [
    "#hide\n",
    "from nbdev.export import notebook2script\n",
    "notebook2script()"
   ]
  },
  {
   "cell_type": "code",
   "execution_count": null,
   "metadata": {},
   "outputs": [],
   "source": []
  }
 ],
 "metadata": {
  "kernelspec": {
   "display_name": "Python 3",
   "language": "python",
   "name": "python3"
  }
 },
 "nbformat": 4,
 "nbformat_minor": 4
}
