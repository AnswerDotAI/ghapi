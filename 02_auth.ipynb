{
 "cells": [
  {
   "cell_type": "code",
   "execution_count": null,
   "metadata": {},
   "outputs": [],
   "source": [
    "#default_exp auth"
   ]
  },
  {
   "cell_type": "code",
   "execution_count": null,
   "metadata": {},
   "outputs": [],
   "source": [
    "#export\n",
    "from fastcore.utils import *\n",
    "from ghapi.core import *\n",
    "\n",
    "from urllib.parse import parse_qs"
   ]
  },
  {
   "cell_type": "code",
   "execution_count": null,
   "metadata": {},
   "outputs": [],
   "source": [
    "#export\n",
    "_def_clientid = '771f3c3af93face45f52'"
   ]
  },
  {
   "cell_type": "code",
   "execution_count": null,
   "metadata": {},
   "outputs": [],
   "source": [
    "#export\n",
    "class GetAttrBase:\n",
    "    _attr=noop\n",
    "    def __getattr__(self,k):\n",
    "        if k[0]=='_' or k==self._attr: return super().__getattr__(k)\n",
    "        return self._getattr(getattr(self, self._attr)[k])\n",
    "\n",
    "    def __dir__(self): return custom_dir(self, getattr(self, self._attr))"
   ]
  },
  {
   "cell_type": "code",
   "execution_count": null,
   "metadata": {},
   "outputs": [],
   "source": [
    "#export\n",
    "class GhDeviceAuth(GetAttrBase):\n",
    "    \"Get an oauth token using the GitHub API device workflow\"\n",
    "    _attr=\"params\"\n",
    "    def __init__(self, client_id=_def_clientid, *scopes):\n",
    "        url = 'https://github.com/login/device/code'\n",
    "        self.client_id = client_id\n",
    "        self.params = parse_qs(urlread(url, client_id=client_id, scope=scope_str(scopes)))\n",
    "\n",
    "    def _getattr(self,v): return v[0]\n",
    "    \n",
    "    def url_docs(self)->str:\n",
    "        \"Default instructions on how to authenticate\"\n",
    "        return f\"\"\"First copy your one-time code: {self.user_code}\n",
    "Then visit {self.verification_uri} in your browser, and paste the code when prompted.\"\"\"\n",
    "\n",
    "    def open_browser(self):\n",
    "        \"Open a web browser with the verification URL\"\n",
    "        webbrowser.open(self.verification_uri)\n",
    "    \n",
    "    def auth(self)->str:\n",
    "        \"Return token if authentication complete, or `None` otherwise\"\n",
    "        resp = parse_qs(urlread(\n",
    "            'https://github.com/login/oauth/access_token',\n",
    "            client_id=self.client_id, device_code=self.device_code,\n",
    "            grant_type='urn:ietf:params:oauth:grant-type:device_code'))\n",
    "        err = nested_idx(resp, 'error', 0)\n",
    "        if err == 'authorization_pending': return None\n",
    "        if err: raise Exception(resp['error_description'][0])\n",
    "        return resp['access_token'][0]\n",
    "\n",
    "    def wait(self, cb:callable=None)->str:\n",
    "        \"Wait for authentication to complete, calling `cb` after each poll, if it is set\"\n",
    "        interval = int(self.interval)+1\n",
    "        res = self.auth()\n",
    "        while not res:\n",
    "            if cb: cb()\n",
    "            time.sleep(interval)\n",
    "            res = self.auth()\n",
    "        return res"
   ]
  },
  {
   "cell_type": "code",
   "execution_count": null,
   "metadata": {},
   "outputs": [],
   "source": [
    "auth = GhDeviceAuth()"
   ]
  },
  {
   "cell_type": "code",
   "execution_count": null,
   "metadata": {},
   "outputs": [
    {
     "data": {
      "text/plain": [
       "'b651e10b1f5043272a4e1f08ff8cc1d5533ea2f0'"
      ]
     },
     "execution_count": null,
     "metadata": {},
     "output_type": "execute_result"
    }
   ],
   "source": [
    "auth.device_code"
   ]
  },
  {
   "cell_type": "code",
   "execution_count": null,
   "metadata": {},
   "outputs": [],
   "source": []
  }
 ],
 "metadata": {
  "kernelspec": {
   "display_name": "Python 3",
   "language": "python",
   "name": "python3"
  }
 },
 "nbformat": 4,
 "nbformat_minor": 4
}
